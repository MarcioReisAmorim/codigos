{
 "cells": [
  {
   "cell_type": "markdown",
   "metadata": {},
   "source": [
    "# Notebook para concatenar as 27 tabelas de devedores da PFN, uma para cada UF. Total de mais de 20 milhões de linhas."
   ]
  },
  {
   "cell_type": "code",
   "execution_count": 1,
   "metadata": {},
   "outputs": [],
   "source": [
    "import pandas as pd"
   ]
  },
  {
   "cell_type": "code",
   "execution_count": 2,
   "metadata": {},
   "outputs": [],
   "source": [
    "acre = pd.read_csv(r'/home/73594253368/Documentos/PFN/arquivo_lai_SIDA_AC_202106.csv',sep = ';', header = 0, encoding = 'ISO-8859-1')"
   ]
  },
  {
   "cell_type": "code",
   "execution_count": 3,
   "metadata": {},
   "outputs": [
    {
     "data": {
      "text/html": [
       "<div>\n",
       "<style scoped>\n",
       "    .dataframe tbody tr th:only-of-type {\n",
       "        vertical-align: middle;\n",
       "    }\n",
       "\n",
       "    .dataframe tbody tr th {\n",
       "        vertical-align: top;\n",
       "    }\n",
       "\n",
       "    .dataframe thead th {\n",
       "        text-align: right;\n",
       "    }\n",
       "</style>\n",
       "<table border=\"1\" class=\"dataframe\">\n",
       "  <thead>\n",
       "    <tr style=\"text-align: right;\">\n",
       "      <th></th>\n",
       "      <th>CPF_CNPJ</th>\n",
       "      <th>TIPO_PESSOA</th>\n",
       "      <th>TIPO_DEVEDOR</th>\n",
       "      <th>NOME_DEVEDOR</th>\n",
       "      <th>UF_UNIDADE_RESPONSAVEL</th>\n",
       "      <th>UNIDADE_RESPONSAVEL</th>\n",
       "      <th>NUMERO_INSCRICAO</th>\n",
       "      <th>TIPO_SITUACAO_INSCRICAO</th>\n",
       "      <th>SITUACAO_INSCRICAO</th>\n",
       "      <th>RECEITA_PRINCIPAL</th>\n",
       "      <th>DATA_INSCRICAO</th>\n",
       "      <th>INDICADOR_AJUIZADO</th>\n",
       "      <th>VALOR_CONSOLIDADO</th>\n",
       "    </tr>\n",
       "  </thead>\n",
       "  <tbody>\n",
       "    <tr>\n",
       "      <th>0</th>\n",
       "      <td>XXX631.543XX</td>\n",
       "      <td>Pessoa física</td>\n",
       "      <td>PRINCIPAL</td>\n",
       "      <td>VICENTE ABREU NETO</td>\n",
       "      <td>AC</td>\n",
       "      <td>ACRE</td>\n",
       "      <td>2211900198701</td>\n",
       "      <td>Em cobrança</td>\n",
       "      <td>ATIVA EM COBRANCA</td>\n",
       "      <td>Receita da dívida ativa - IRPF</td>\n",
       "      <td>19/12/2019</td>\n",
       "      <td>NAO</td>\n",
       "      <td>29366.07</td>\n",
       "    </tr>\n",
       "    <tr>\n",
       "      <th>1</th>\n",
       "      <td>22.138.364/0001-75</td>\n",
       "      <td>Pessoa jurídica</td>\n",
       "      <td>PRINCIPAL</td>\n",
       "      <td>FARIAS E FARIAS CONSULTORIO MEDICO LTDA</td>\n",
       "      <td>AC</td>\n",
       "      <td>ACRE</td>\n",
       "      <td>2262100064861</td>\n",
       "      <td>Em cobrança</td>\n",
       "      <td>ATIVA A SER COBRADA</td>\n",
       "      <td>Receita da dívida ativa - COFINS</td>\n",
       "      <td>01/06/2021</td>\n",
       "      <td>NAO</td>\n",
       "      <td>2488.42</td>\n",
       "    </tr>\n",
       "    <tr>\n",
       "      <th>2</th>\n",
       "      <td>XXX754.642XX</td>\n",
       "      <td>Pessoa física</td>\n",
       "      <td>PRINCIPAL</td>\n",
       "      <td>CIRENE SOUTO NUNES</td>\n",
       "      <td>AC</td>\n",
       "      <td>ACRE</td>\n",
       "      <td>2212100027307</td>\n",
       "      <td>Benefício Fiscal</td>\n",
       "      <td>ATIVA NAO AJUIZAVEL NEGOCIADA NO SISPAR</td>\n",
       "      <td>Receita da dívida ativa - IRPF</td>\n",
       "      <td>19/02/2021</td>\n",
       "      <td>NAO</td>\n",
       "      <td>3333.97</td>\n",
       "    </tr>\n",
       "    <tr>\n",
       "      <th>3</th>\n",
       "      <td>XXX236.462XX</td>\n",
       "      <td>Pessoa física</td>\n",
       "      <td>PRINCIPAL</td>\n",
       "      <td>RUI EMANUEL RODRIGUES ARRUDA</td>\n",
       "      <td>AC</td>\n",
       "      <td>ACRE</td>\n",
       "      <td>2212100083215</td>\n",
       "      <td>Em cobrança</td>\n",
       "      <td>ATIVA EM COBRANCA</td>\n",
       "      <td>Receita da dívida ativa - IRPF</td>\n",
       "      <td>19/02/2021</td>\n",
       "      <td>NAO</td>\n",
       "      <td>8829.02</td>\n",
       "    </tr>\n",
       "    <tr>\n",
       "      <th>4</th>\n",
       "      <td>34.710.061/0001-64</td>\n",
       "      <td>Pessoa jurídica</td>\n",
       "      <td>PRINCIPAL</td>\n",
       "      <td>MADEIREIRA JANEL IND E COM LTDA</td>\n",
       "      <td>AC</td>\n",
       "      <td>ACRE</td>\n",
       "      <td>2261600085614</td>\n",
       "      <td>Benefício Fiscal</td>\n",
       "      <td>ATIVA AJUIZADA NEGOCIADA NO SISPAR</td>\n",
       "      <td>Receita da dívida ativa - COFINS</td>\n",
       "      <td>18/11/2016</td>\n",
       "      <td>SIM</td>\n",
       "      <td>4596.91</td>\n",
       "    </tr>\n",
       "    <tr>\n",
       "      <th>...</th>\n",
       "      <td>...</td>\n",
       "      <td>...</td>\n",
       "      <td>...</td>\n",
       "      <td>...</td>\n",
       "      <td>...</td>\n",
       "      <td>...</td>\n",
       "      <td>...</td>\n",
       "      <td>...</td>\n",
       "      <td>...</td>\n",
       "      <td>...</td>\n",
       "      <td>...</td>\n",
       "      <td>...</td>\n",
       "      <td>...</td>\n",
       "    </tr>\n",
       "    <tr>\n",
       "      <th>50993</th>\n",
       "      <td>XXX691.992XX</td>\n",
       "      <td>Pessoa física</td>\n",
       "      <td>CORRESPONSAVEL</td>\n",
       "      <td>MARIA DALVA GOMES DE OLIVEIRA</td>\n",
       "      <td>AC</td>\n",
       "      <td>ACRE</td>\n",
       "      <td>2241900134942</td>\n",
       "      <td>Em cobrança</td>\n",
       "      <td>ATIVA A SER AJUIZADA</td>\n",
       "      <td>DIV ATIVA-SIMPLES NACIONAL</td>\n",
       "      <td>11/11/2019</td>\n",
       "      <td>NAO</td>\n",
       "      <td>11010.61</td>\n",
       "    </tr>\n",
       "    <tr>\n",
       "      <th>50994</th>\n",
       "      <td>00.804.444/0001-80</td>\n",
       "      <td>Pessoa jurídica</td>\n",
       "      <td>PRINCIPAL</td>\n",
       "      <td>MERCADINHO CELEIRO LTDA</td>\n",
       "      <td>AC</td>\n",
       "      <td>ACRE</td>\n",
       "      <td>2261900100333</td>\n",
       "      <td>Em cobrança</td>\n",
       "      <td>ATIVA EM COBRANCA</td>\n",
       "      <td>Receita da dívida ativa - COFINS</td>\n",
       "      <td>12/07/2019</td>\n",
       "      <td>NAO</td>\n",
       "      <td>29031.33</td>\n",
       "    </tr>\n",
       "    <tr>\n",
       "      <th>50995</th>\n",
       "      <td>01.630.624/0001-55</td>\n",
       "      <td>Pessoa jurídica</td>\n",
       "      <td>PRINCIPAL</td>\n",
       "      <td>SUSY PASCOAL NOGUEIRA</td>\n",
       "      <td>AC</td>\n",
       "      <td>ACRE</td>\n",
       "      <td>2222000049926</td>\n",
       "      <td>Benefício Fiscal</td>\n",
       "      <td>ATIVA NAO AJUIZAVEL NEGOCIADA NO SISPAR</td>\n",
       "      <td>Receita da dívida ativa - IRPJ</td>\n",
       "      <td>07/07/2020</td>\n",
       "      <td>NAO</td>\n",
       "      <td>2498.59</td>\n",
       "    </tr>\n",
       "    <tr>\n",
       "      <th>50996</th>\n",
       "      <td>XXX633.352XX</td>\n",
       "      <td>Pessoa física</td>\n",
       "      <td>CORRESPONSAVEL</td>\n",
       "      <td>MANOEL BRAZ SOUZA CORREIA</td>\n",
       "      <td>AC</td>\n",
       "      <td>ACRE</td>\n",
       "      <td>2260200056406</td>\n",
       "      <td>Em cobrança</td>\n",
       "      <td>ATIVA AJUIZADA</td>\n",
       "      <td>Receita da dívida ativa - COFINS</td>\n",
       "      <td>24/12/2002</td>\n",
       "      <td>SIM</td>\n",
       "      <td>4635.73</td>\n",
       "    </tr>\n",
       "    <tr>\n",
       "      <th>50997</th>\n",
       "      <td>XXX873.982XX</td>\n",
       "      <td>Pessoa física</td>\n",
       "      <td>CORRESPONSAVEL</td>\n",
       "      <td>JOSE BRANCO DA COSTA</td>\n",
       "      <td>AC</td>\n",
       "      <td>ACRE</td>\n",
       "      <td>2262100049552</td>\n",
       "      <td>Em cobrança</td>\n",
       "      <td>ATIVA A SER COBRADA</td>\n",
       "      <td>R D Ativa - Multa Isolada</td>\n",
       "      <td>24/05/2021</td>\n",
       "      <td>NAO</td>\n",
       "      <td>1237.34</td>\n",
       "    </tr>\n",
       "  </tbody>\n",
       "</table>\n",
       "<p>50998 rows × 13 columns</p>\n",
       "</div>"
      ],
      "text/plain": [
       "                 CPF_CNPJ      TIPO_PESSOA    TIPO_DEVEDOR  \\\n",
       "0            XXX631.543XX    Pessoa física       PRINCIPAL   \n",
       "1      22.138.364/0001-75  Pessoa jurídica       PRINCIPAL   \n",
       "2            XXX754.642XX    Pessoa física       PRINCIPAL   \n",
       "3            XXX236.462XX    Pessoa física       PRINCIPAL   \n",
       "4      34.710.061/0001-64  Pessoa jurídica       PRINCIPAL   \n",
       "...                   ...              ...             ...   \n",
       "50993        XXX691.992XX    Pessoa física  CORRESPONSAVEL   \n",
       "50994  00.804.444/0001-80  Pessoa jurídica       PRINCIPAL   \n",
       "50995  01.630.624/0001-55  Pessoa jurídica       PRINCIPAL   \n",
       "50996        XXX633.352XX    Pessoa física  CORRESPONSAVEL   \n",
       "50997        XXX873.982XX    Pessoa física  CORRESPONSAVEL   \n",
       "\n",
       "                                  NOME_DEVEDOR UF_UNIDADE_RESPONSAVEL  \\\n",
       "0                           VICENTE ABREU NETO                     AC   \n",
       "1      FARIAS E FARIAS CONSULTORIO MEDICO LTDA                     AC   \n",
       "2                           CIRENE SOUTO NUNES                     AC   \n",
       "3                 RUI EMANUEL RODRIGUES ARRUDA                     AC   \n",
       "4              MADEIREIRA JANEL IND E COM LTDA                     AC   \n",
       "...                                        ...                    ...   \n",
       "50993            MARIA DALVA GOMES DE OLIVEIRA                     AC   \n",
       "50994                  MERCADINHO CELEIRO LTDA                     AC   \n",
       "50995                    SUSY PASCOAL NOGUEIRA                     AC   \n",
       "50996                MANOEL BRAZ SOUZA CORREIA                     AC   \n",
       "50997                     JOSE BRANCO DA COSTA                     AC   \n",
       "\n",
       "      UNIDADE_RESPONSAVEL  NUMERO_INSCRICAO TIPO_SITUACAO_INSCRICAO  \\\n",
       "0                    ACRE     2211900198701             Em cobrança   \n",
       "1                    ACRE     2262100064861             Em cobrança   \n",
       "2                    ACRE     2212100027307        Benefício Fiscal   \n",
       "3                    ACRE     2212100083215             Em cobrança   \n",
       "4                    ACRE     2261600085614        Benefício Fiscal   \n",
       "...                   ...               ...                     ...   \n",
       "50993                ACRE     2241900134942             Em cobrança   \n",
       "50994                ACRE     2261900100333             Em cobrança   \n",
       "50995                ACRE     2222000049926        Benefício Fiscal   \n",
       "50996                ACRE     2260200056406             Em cobrança   \n",
       "50997                ACRE     2262100049552             Em cobrança   \n",
       "\n",
       "                            SITUACAO_INSCRICAO  \\\n",
       "0                            ATIVA EM COBRANCA   \n",
       "1                          ATIVA A SER COBRADA   \n",
       "2      ATIVA NAO AJUIZAVEL NEGOCIADA NO SISPAR   \n",
       "3                            ATIVA EM COBRANCA   \n",
       "4           ATIVA AJUIZADA NEGOCIADA NO SISPAR   \n",
       "...                                        ...   \n",
       "50993                     ATIVA A SER AJUIZADA   \n",
       "50994                        ATIVA EM COBRANCA   \n",
       "50995  ATIVA NAO AJUIZAVEL NEGOCIADA NO SISPAR   \n",
       "50996                           ATIVA AJUIZADA   \n",
       "50997                      ATIVA A SER COBRADA   \n",
       "\n",
       "                      RECEITA_PRINCIPAL DATA_INSCRICAO INDICADOR_AJUIZADO  \\\n",
       "0        Receita da dívida ativa - IRPF     19/12/2019                NAO   \n",
       "1      Receita da dívida ativa - COFINS     01/06/2021                NAO   \n",
       "2        Receita da dívida ativa - IRPF     19/02/2021                NAO   \n",
       "3        Receita da dívida ativa - IRPF     19/02/2021                NAO   \n",
       "4      Receita da dívida ativa - COFINS     18/11/2016                SIM   \n",
       "...                                 ...            ...                ...   \n",
       "50993        DIV ATIVA-SIMPLES NACIONAL     11/11/2019                NAO   \n",
       "50994  Receita da dívida ativa - COFINS     12/07/2019                NAO   \n",
       "50995    Receita da dívida ativa - IRPJ     07/07/2020                NAO   \n",
       "50996  Receita da dívida ativa - COFINS     24/12/2002                SIM   \n",
       "50997         R D Ativa - Multa Isolada     24/05/2021                NAO   \n",
       "\n",
       "       VALOR_CONSOLIDADO  \n",
       "0               29366.07  \n",
       "1                2488.42  \n",
       "2                3333.97  \n",
       "3                8829.02  \n",
       "4                4596.91  \n",
       "...                  ...  \n",
       "50993           11010.61  \n",
       "50994           29031.33  \n",
       "50995            2498.59  \n",
       "50996            4635.73  \n",
       "50997            1237.34  \n",
       "\n",
       "[50998 rows x 13 columns]"
      ]
     },
     "execution_count": 3,
     "metadata": {},
     "output_type": "execute_result"
    }
   ],
   "source": [
    "acre"
   ]
  },
  {
   "cell_type": "code",
   "execution_count": 4,
   "metadata": {},
   "outputs": [],
   "source": [
    "alagoas = pd.read_csv(r'/home/73594253368/Documentos/PFN/arquivo_lai_SIDA_AL_202106.csv',sep = ';', header = 0, encoding = 'ISO-8859-1')"
   ]
  },
  {
   "cell_type": "code",
   "execution_count": 5,
   "metadata": {},
   "outputs": [],
   "source": [
    "amazonas = pd.read_csv(r'/home/73594253368/Documentos/PFN/arquivo_lai_SIDA_AM_202106.csv',sep = ';', header = 0, encoding = 'ISO-8859-1')"
   ]
  },
  {
   "cell_type": "code",
   "execution_count": 6,
   "metadata": {},
   "outputs": [],
   "source": [
    "amapa = pd.read_csv(r'/home/73594253368/Documentos/PFN/arquivo_lai_SIDA_AP_202106.csv',sep = ';', header = 0, encoding = 'ISO-8859-1')"
   ]
  },
  {
   "cell_type": "code",
   "execution_count": 7,
   "metadata": {},
   "outputs": [],
   "source": [
    "bahia = pd.read_csv(r'/home/73594253368/Documentos/PFN/arquivo_lai_SIDA_BA_202106.csv',sep = ';', header = 0, encoding = 'ISO-8859-1')"
   ]
  },
  {
   "cell_type": "code",
   "execution_count": 8,
   "metadata": {},
   "outputs": [],
   "source": [
    "ceara = pd.read_csv(r'/home/73594253368/Documentos/PFN/arquivo_lai_SIDA_CE_202106.csv',sep = ';', header = 0, encoding = 'ISO-8859-1')"
   ]
  },
  {
   "cell_type": "code",
   "execution_count": 9,
   "metadata": {},
   "outputs": [],
   "source": [
    "distritofederal = pd.read_csv(r'/home/73594253368/Documentos/PFN/arquivo_lai_SIDA_DF_202106.csv',sep = ';', header = 0, encoding = 'ISO-8859-1')"
   ]
  },
  {
   "cell_type": "code",
   "execution_count": 10,
   "metadata": {},
   "outputs": [],
   "source": [
    "espiritosanto = pd.read_csv(r'/home/73594253368/Documentos/PFN/arquivo_lai_SIDA_ES_202106.csv',sep = ';', header = 0, encoding = 'ISO-8859-1')"
   ]
  },
  {
   "cell_type": "code",
   "execution_count": 11,
   "metadata": {},
   "outputs": [],
   "source": [
    "goias = pd.read_csv(r'/home/73594253368/Documentos/PFN/arquivo_lai_SIDA_GO_202106.csv',sep = ';', header = 0, encoding = 'ISO-8859-1')"
   ]
  },
  {
   "cell_type": "code",
   "execution_count": 12,
   "metadata": {},
   "outputs": [],
   "source": [
    "maranhao = pd.read_csv(r'/home/73594253368/Documentos/PFN/arquivo_lai_SIDA_MA_202106.csv',sep = ';', header = 0, encoding = 'ISO-8859-1')\n"
   ]
  },
  {
   "cell_type": "code",
   "execution_count": 13,
   "metadata": {},
   "outputs": [],
   "source": [
    "minasgerais = pd.read_csv(r'/home/73594253368/Documentos/PFN/arquivo_lai_SIDA_MG_202106.csv',sep = ';', header = 0, encoding = 'ISO-8859-1')\n"
   ]
  },
  {
   "cell_type": "code",
   "execution_count": 14,
   "metadata": {},
   "outputs": [],
   "source": [
    "matogrossodosul = pd.read_csv(r'/home/73594253368/Documentos/PFN/arquivo_lai_SIDA_MS_202106.csv',sep = ';', header = 0, encoding = 'ISO-8859-1')\n"
   ]
  },
  {
   "cell_type": "code",
   "execution_count": 15,
   "metadata": {},
   "outputs": [],
   "source": [
    "matogrosso = pd.read_csv(r'/home/73594253368/Documentos/PFN/arquivo_lai_SIDA_MT_202106.csv',sep = ';', header = 0, encoding = 'ISO-8859-1')\n"
   ]
  },
  {
   "cell_type": "code",
   "execution_count": 16,
   "metadata": {},
   "outputs": [],
   "source": [
    "matogrossodosul = pd.read_csv(r'/home/73594253368/Documentos/PFN/arquivo_lai_SIDA_MS_202106.csv',sep = ';', header = 0, encoding = 'ISO-8859-1')"
   ]
  },
  {
   "cell_type": "code",
   "execution_count": 17,
   "metadata": {},
   "outputs": [],
   "source": [
    "para = pd.read_csv(r'/home/73594253368/Documentos/PFN/arquivo_lai_SIDA_PA_202106.csv',sep = ';', header = 0, encoding = 'ISO-8859-1')\n"
   ]
  },
  {
   "cell_type": "code",
   "execution_count": 18,
   "metadata": {},
   "outputs": [],
   "source": [
    "paraiba = pd.read_csv(r'/home/73594253368/Documentos/PFN/arquivo_lai_SIDA_PB_202012.csv',sep = ';', header = 0, encoding = 'ISO-8859-1')\n"
   ]
  },
  {
   "cell_type": "code",
   "execution_count": 19,
   "metadata": {},
   "outputs": [],
   "source": [
    "pernambuco = pd.read_csv(r'/home/73594253368/Documentos/PFN/arquivo_lai_SIDA_PE_202106.csv',sep = ';', header = 0, encoding = 'ISO-8859-1')"
   ]
  },
  {
   "cell_type": "code",
   "execution_count": 20,
   "metadata": {},
   "outputs": [],
   "source": [
    "piaui = pd.read_csv(r'/home/73594253368/Documentos/PFN/arquivo_lai_SIDA_PI_202106.csv',sep = ';', header = 0, encoding = 'ISO-8859-1')"
   ]
  },
  {
   "cell_type": "code",
   "execution_count": 21,
   "metadata": {},
   "outputs": [],
   "source": [
    "parana = pd.read_csv(r'/home/73594253368/Documentos/PFN/arquivo_lai_SIDA_PR_202106.csv',sep = ';', header = 0, encoding = 'ISO-8859-1')"
   ]
  },
  {
   "cell_type": "code",
   "execution_count": 22,
   "metadata": {},
   "outputs": [],
   "source": [
    "riodejaneiro = pd.read_csv(r'/home/73594253368/Documentos/PFN/arquivo_lai_SIDA_RJ_202106.csv',sep = ';', header = 0, encoding = 'ISO-8859-1')"
   ]
  },
  {
   "cell_type": "code",
   "execution_count": 23,
   "metadata": {},
   "outputs": [],
   "source": [
    "riograndedonorte = pd.read_csv(r'/home/73594253368/Documentos/PFN/arquivo_lai_SIDA_RN_202106.csv',sep = ';', header = 0, encoding = 'ISO-8859-1')\n"
   ]
  },
  {
   "cell_type": "code",
   "execution_count": 24,
   "metadata": {},
   "outputs": [],
   "source": [
    "rondonia = pd.read_csv(r'/home/73594253368/Documentos/PFN/arquivo_lai_SIDA_RO_202106.csv',sep = ';', header = 0, encoding = 'ISO-8859-1')\n"
   ]
  },
  {
   "cell_type": "code",
   "execution_count": 25,
   "metadata": {},
   "outputs": [],
   "source": [
    "roraima = pd.read_csv(r'/home/73594253368/Documentos/PFN/arquivo_lai_SIDA_RR_202106.csv',sep = ';', header = 0, encoding = 'ISO-8859-1')\n"
   ]
  },
  {
   "cell_type": "code",
   "execution_count": 26,
   "metadata": {},
   "outputs": [],
   "source": [
    "riograndedosul = pd.read_csv(r'/home/73594253368/Documentos/PFN/arquivo_lai_SIDA_RS_202106.csv',sep = ';', header = 0, encoding = 'ISO-8859-1')"
   ]
  },
  {
   "cell_type": "code",
   "execution_count": 27,
   "metadata": {},
   "outputs": [],
   "source": [
    "santacatarina = pd.read_csv(r'/home/73594253368/Documentos/PFN/arquivo_lai_SIDA_SC_202106.csv',sep = ';', header = 0, encoding = 'ISO-8859-1')\n"
   ]
  },
  {
   "cell_type": "code",
   "execution_count": 28,
   "metadata": {},
   "outputs": [],
   "source": [
    "sergipe = pd.read_csv(r'/home/73594253368/Documentos/PFN/arquivo_lai_SIDA_SE_202106.csv',sep = ';', header = 0, encoding = 'ISO-8859-1')\n"
   ]
  },
  {
   "cell_type": "code",
   "execution_count": 29,
   "metadata": {},
   "outputs": [],
   "source": [
    "saopaulo = pd.read_csv(r'/home/73594253368/Documentos/PFN/arquivo_lai_SIDA_SP_202106.csv',sep = ';', header = 0, encoding = 'ISO-8859-1')"
   ]
  },
  {
   "cell_type": "code",
   "execution_count": 30,
   "metadata": {},
   "outputs": [],
   "source": [
    "tocantins = pd.read_csv(r'/home/73594253368/Documentos/PFN/arquivo_lai_SIDA_TO_202106.csv',sep = ';', header = 0, encoding = 'ISO-8859-1')"
   ]
  },
  {
   "cell_type": "markdown",
   "metadata": {},
   "source": [
    "1) Contatenamos todos os 27, exportando para o concatenado.csv, de 20.090.612 registros"
   ]
  },
  {
   "cell_type": "code",
   "execution_count": 31,
   "metadata": {},
   "outputs": [],
   "source": [
    "concatenado = pd.concat([acre,alagoas,amazonas,amapa,bahia,ceara,distritofederal,espiritosanto,goias,maranhao,minasgerais,matogrossodosul,matogrosso,para,paraiba,pernambuco,piaui,parana,riodejaneiro,riograndedonorte,rondonia,roraima,riograndedosul,santacatarina,sergipe,saopaulo,tocantins])"
   ]
  },
  {
   "cell_type": "code",
   "execution_count": 32,
   "metadata": {},
   "outputs": [],
   "source": [
    "concatenado.to_csv('/home/73594253368/Documentos/PFN/concatenado.csv')"
   ]
  },
  {
   "cell_type": "code",
   "execution_count": 41,
   "metadata": {},
   "outputs": [
    {
     "name": "stdout",
     "output_type": "stream",
     "text": [
      "<class 'pandas.core.frame.DataFrame'>\n",
      "Int64Index: 20090612 entries, 0 to 127506\n",
      "Data columns (total 13 columns):\n",
      " #   Column                   Dtype  \n",
      "---  ------                   -----  \n",
      " 0   CPF_CNPJ                 object \n",
      " 1   TIPO_PESSOA              object \n",
      " 2   TIPO_DEVEDOR             object \n",
      " 3   NOME_DEVEDOR             object \n",
      " 4   UF_UNIDADE_RESPONSAVEL   object \n",
      " 5   UNIDADE_RESPONSAVEL      object \n",
      " 6   NUMERO_INSCRICAO         int64  \n",
      " 7   TIPO_SITUACAO_INSCRICAO  object \n",
      " 8   SITUACAO_INSCRICAO       object \n",
      " 9   RECEITA_PRINCIPAL        object \n",
      " 10  DATA_INSCRICAO           object \n",
      " 11  INDICADOR_AJUIZADO       object \n",
      " 12  VALOR_CONSOLIDADO        float64\n",
      "dtypes: float64(1), int64(1), object(11)\n",
      "memory usage: 2.1+ GB\n"
     ]
    }
   ],
   "source": [
    "concatenado.info()"
   ]
  },
  {
   "cell_type": "code",
   "execution_count": 35,
   "metadata": {},
   "outputs": [
    {
     "data": {
      "text/html": [
       "<div>\n",
       "<style scoped>\n",
       "    .dataframe tbody tr th:only-of-type {\n",
       "        vertical-align: middle;\n",
       "    }\n",
       "\n",
       "    .dataframe tbody tr th {\n",
       "        vertical-align: top;\n",
       "    }\n",
       "\n",
       "    .dataframe thead th {\n",
       "        text-align: right;\n",
       "    }\n",
       "</style>\n",
       "<table border=\"1\" class=\"dataframe\">\n",
       "  <thead>\n",
       "    <tr style=\"text-align: right;\">\n",
       "      <th></th>\n",
       "      <th>CPF_CNPJ</th>\n",
       "      <th>TIPO_PESSOA</th>\n",
       "      <th>TIPO_DEVEDOR</th>\n",
       "      <th>NOME_DEVEDOR</th>\n",
       "      <th>UF_UNIDADE_RESPONSAVEL</th>\n",
       "      <th>UNIDADE_RESPONSAVEL</th>\n",
       "      <th>NUMERO_INSCRICAO</th>\n",
       "      <th>TIPO_SITUACAO_INSCRICAO</th>\n",
       "      <th>SITUACAO_INSCRICAO</th>\n",
       "      <th>RECEITA_PRINCIPAL</th>\n",
       "      <th>DATA_INSCRICAO</th>\n",
       "      <th>INDICADOR_AJUIZADO</th>\n",
       "      <th>VALOR_CONSOLIDADO</th>\n",
       "    </tr>\n",
       "  </thead>\n",
       "  <tbody>\n",
       "    <tr>\n",
       "      <th>0</th>\n",
       "      <td>XXX631.543XX</td>\n",
       "      <td>Pessoa física</td>\n",
       "      <td>PRINCIPAL</td>\n",
       "      <td>VICENTE ABREU NETO</td>\n",
       "      <td>AC</td>\n",
       "      <td>ACRE</td>\n",
       "      <td>2211900198701</td>\n",
       "      <td>Em cobrança</td>\n",
       "      <td>ATIVA EM COBRANCA</td>\n",
       "      <td>Receita da dívida ativa - IRPF</td>\n",
       "      <td>19/12/2019</td>\n",
       "      <td>NAO</td>\n",
       "      <td>29366.07</td>\n",
       "    </tr>\n",
       "    <tr>\n",
       "      <th>1</th>\n",
       "      <td>22.138.364/0001-75</td>\n",
       "      <td>Pessoa jurídica</td>\n",
       "      <td>PRINCIPAL</td>\n",
       "      <td>FARIAS E FARIAS CONSULTORIO MEDICO LTDA</td>\n",
       "      <td>AC</td>\n",
       "      <td>ACRE</td>\n",
       "      <td>2262100064861</td>\n",
       "      <td>Em cobrança</td>\n",
       "      <td>ATIVA A SER COBRADA</td>\n",
       "      <td>Receita da dívida ativa - COFINS</td>\n",
       "      <td>01/06/2021</td>\n",
       "      <td>NAO</td>\n",
       "      <td>2488.42</td>\n",
       "    </tr>\n",
       "    <tr>\n",
       "      <th>2</th>\n",
       "      <td>XXX754.642XX</td>\n",
       "      <td>Pessoa física</td>\n",
       "      <td>PRINCIPAL</td>\n",
       "      <td>CIRENE SOUTO NUNES</td>\n",
       "      <td>AC</td>\n",
       "      <td>ACRE</td>\n",
       "      <td>2212100027307</td>\n",
       "      <td>Benefício Fiscal</td>\n",
       "      <td>ATIVA NAO AJUIZAVEL NEGOCIADA NO SISPAR</td>\n",
       "      <td>Receita da dívida ativa - IRPF</td>\n",
       "      <td>19/02/2021</td>\n",
       "      <td>NAO</td>\n",
       "      <td>3333.97</td>\n",
       "    </tr>\n",
       "    <tr>\n",
       "      <th>3</th>\n",
       "      <td>XXX236.462XX</td>\n",
       "      <td>Pessoa física</td>\n",
       "      <td>PRINCIPAL</td>\n",
       "      <td>RUI EMANUEL RODRIGUES ARRUDA</td>\n",
       "      <td>AC</td>\n",
       "      <td>ACRE</td>\n",
       "      <td>2212100083215</td>\n",
       "      <td>Em cobrança</td>\n",
       "      <td>ATIVA EM COBRANCA</td>\n",
       "      <td>Receita da dívida ativa - IRPF</td>\n",
       "      <td>19/02/2021</td>\n",
       "      <td>NAO</td>\n",
       "      <td>8829.02</td>\n",
       "    </tr>\n",
       "    <tr>\n",
       "      <th>4</th>\n",
       "      <td>34.710.061/0001-64</td>\n",
       "      <td>Pessoa jurídica</td>\n",
       "      <td>PRINCIPAL</td>\n",
       "      <td>MADEIREIRA JANEL IND E COM LTDA</td>\n",
       "      <td>AC</td>\n",
       "      <td>ACRE</td>\n",
       "      <td>2261600085614</td>\n",
       "      <td>Benefício Fiscal</td>\n",
       "      <td>ATIVA AJUIZADA NEGOCIADA NO SISPAR</td>\n",
       "      <td>Receita da dívida ativa - COFINS</td>\n",
       "      <td>18/11/2016</td>\n",
       "      <td>SIM</td>\n",
       "      <td>4596.91</td>\n",
       "    </tr>\n",
       "  </tbody>\n",
       "</table>\n",
       "</div>"
      ],
      "text/plain": [
       "             CPF_CNPJ      TIPO_PESSOA TIPO_DEVEDOR  \\\n",
       "0        XXX631.543XX    Pessoa física    PRINCIPAL   \n",
       "1  22.138.364/0001-75  Pessoa jurídica    PRINCIPAL   \n",
       "2        XXX754.642XX    Pessoa física    PRINCIPAL   \n",
       "3        XXX236.462XX    Pessoa física    PRINCIPAL   \n",
       "4  34.710.061/0001-64  Pessoa jurídica    PRINCIPAL   \n",
       "\n",
       "                              NOME_DEVEDOR UF_UNIDADE_RESPONSAVEL  \\\n",
       "0                       VICENTE ABREU NETO                     AC   \n",
       "1  FARIAS E FARIAS CONSULTORIO MEDICO LTDA                     AC   \n",
       "2                       CIRENE SOUTO NUNES                     AC   \n",
       "3             RUI EMANUEL RODRIGUES ARRUDA                     AC   \n",
       "4          MADEIREIRA JANEL IND E COM LTDA                     AC   \n",
       "\n",
       "  UNIDADE_RESPONSAVEL  NUMERO_INSCRICAO TIPO_SITUACAO_INSCRICAO  \\\n",
       "0                ACRE     2211900198701             Em cobrança   \n",
       "1                ACRE     2262100064861             Em cobrança   \n",
       "2                ACRE     2212100027307        Benefício Fiscal   \n",
       "3                ACRE     2212100083215             Em cobrança   \n",
       "4                ACRE     2261600085614        Benefício Fiscal   \n",
       "\n",
       "                        SITUACAO_INSCRICAO                 RECEITA_PRINCIPAL  \\\n",
       "0                        ATIVA EM COBRANCA    Receita da dívida ativa - IRPF   \n",
       "1                      ATIVA A SER COBRADA  Receita da dívida ativa - COFINS   \n",
       "2  ATIVA NAO AJUIZAVEL NEGOCIADA NO SISPAR    Receita da dívida ativa - IRPF   \n",
       "3                        ATIVA EM COBRANCA    Receita da dívida ativa - IRPF   \n",
       "4       ATIVA AJUIZADA NEGOCIADA NO SISPAR  Receita da dívida ativa - COFINS   \n",
       "\n",
       "  DATA_INSCRICAO INDICADOR_AJUIZADO  VALOR_CONSOLIDADO  \n",
       "0     19/12/2019                NAO           29366.07  \n",
       "1     01/06/2021                NAO            2488.42  \n",
       "2     19/02/2021                NAO            3333.97  \n",
       "3     19/02/2021                NAO            8829.02  \n",
       "4     18/11/2016                SIM            4596.91  "
      ]
     },
     "execution_count": 35,
     "metadata": {},
     "output_type": "execute_result"
    }
   ],
   "source": [
    "concatenado.head()"
   ]
  },
  {
   "cell_type": "markdown",
   "metadata": {},
   "source": [
    "2) Ordenamos em ordem alfabética das UF, exportando para o concatenadoordenado.csv"
   ]
  },
  {
   "cell_type": "code",
   "execution_count": 36,
   "metadata": {},
   "outputs": [],
   "source": [
    "concatenadoordenado = pd.concat([acre,alagoas,amazonas,amapa,bahia,ceara,distritofederal,espiritosanto,goias,maranhao,minasgerais,matogrossodosul,matogrosso,para,paraiba,pernambuco,piaui,parana,riodejaneiro,riograndedonorte,rondonia,roraima,riograndedosul,santacatarina,sergipe,saopaulo,tocantins])"
   ]
  },
  {
   "cell_type": "code",
   "execution_count": 39,
   "metadata": {},
   "outputs": [
    {
     "name": "stdout",
     "output_type": "stream",
     "text": [
      "<class 'pandas.core.frame.DataFrame'>\n",
      "Int64Index: 20090612 entries, 0 to 127506\n",
      "Data columns (total 13 columns):\n",
      " #   Column                   Dtype  \n",
      "---  ------                   -----  \n",
      " 0   CPF_CNPJ                 object \n",
      " 1   TIPO_PESSOA              object \n",
      " 2   TIPO_DEVEDOR             object \n",
      " 3   NOME_DEVEDOR             object \n",
      " 4   UF_UNIDADE_RESPONSAVEL   object \n",
      " 5   UNIDADE_RESPONSAVEL      object \n",
      " 6   NUMERO_INSCRICAO         int64  \n",
      " 7   TIPO_SITUACAO_INSCRICAO  object \n",
      " 8   SITUACAO_INSCRICAO       object \n",
      " 9   RECEITA_PRINCIPAL        object \n",
      " 10  DATA_INSCRICAO           object \n",
      " 11  INDICADOR_AJUIZADO       object \n",
      " 12  VALOR_CONSOLIDADO        float64\n",
      "dtypes: float64(1), int64(1), object(11)\n",
      "memory usage: 2.1+ GB\n"
     ]
    }
   ],
   "source": [
    "concatenadoordenado.info()"
   ]
  },
  {
   "cell_type": "code",
   "execution_count": 42,
   "metadata": {},
   "outputs": [],
   "source": [
    "concatenadoordenado.to_csv('/home/73594253368/Documentos/PFN/concatenadoordenado.csv')"
   ]
  }
 ],
 "metadata": {
  "kernelspec": {
   "display_name": "Python 3",
   "language": "python",
   "name": "python3"
  },
  "language_info": {
   "codemirror_mode": {
    "name": "ipython",
    "version": 3
   },
   "file_extension": ".py",
   "mimetype": "text/x-python",
   "name": "python",
   "nbconvert_exporter": "python",
   "pygments_lexer": "ipython3",
   "version": "3.8.3"
  }
 },
 "nbformat": 4,
 "nbformat_minor": 4
}
