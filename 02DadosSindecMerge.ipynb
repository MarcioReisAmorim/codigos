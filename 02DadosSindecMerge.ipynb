{
 "cells": [
  {
   "cell_type": "markdown",
   "metadata": {},
   "source": [
    "Continuando a coleta de dados, inserimos o arquivo https://dados.gov.br/dataset/cadastro-nacional-de-reclamacoes-fundamentadas-procons-sindec1, acessado em 25/07/2021. Os arquivos do endereço https://dadosabertos.pgfn.gov.br/2021_trimestre_02/Dados_abertos_Nao_Previdenciario.zip, acessado em 25/07/2021, foram concatenados no notebook 01,  resultando no arquivo \"concatenadoordenado.csv\", de 4GB.  Arquivo igualmente \"upado\" para este notebook."
   ]
  },
  {
   "cell_type": "code",
   "execution_count": 1,
   "metadata": {},
   "outputs": [],
   "source": [
    "import pandas as pd\n",
    "from collections import Counter"
   ]
  },
  {
   "cell_type": "markdown",
   "metadata": {},
   "source": [
    "# Inserindo o dataset do Sindec e o preparando para o merge com o \"concatenadoordenado\" oriundo do notebook 01"
   ]
  },
  {
   "cell_type": "code",
   "execution_count": 2,
   "metadata": {},
   "outputs": [
    {
     "name": "stderr",
     "output_type": "stream",
     "text": [
      "b'Skipping line 117: expected 23 fields, saw 25\\nSkipping line 1205: expected 23 fields, saw 25\\nSkipping line 1285: expected 23 fields, saw 24\\nSkipping line 3596: expected 23 fields, saw 25\\nSkipping line 4134: expected 23 fields, saw 24\\nSkipping line 5483: expected 23 fields, saw 25\\nSkipping line 8028: expected 23 fields, saw 24\\nSkipping line 8307: expected 23 fields, saw 24\\nSkipping line 8824: expected 23 fields, saw 25\\nSkipping line 9516: expected 23 fields, saw 24\\nSkipping line 9696: expected 23 fields, saw 24\\nSkipping line 9698: expected 23 fields, saw 24\\nSkipping line 10545: expected 23 fields, saw 25\\nSkipping line 11232: expected 23 fields, saw 25\\nSkipping line 11503: expected 23 fields, saw 25\\nSkipping line 11548: expected 23 fields, saw 24\\nSkipping line 11554: expected 23 fields, saw 25\\nSkipping line 11703: expected 23 fields, saw 24\\nSkipping line 12473: expected 23 fields, saw 24\\nSkipping line 13879: expected 23 fields, saw 24\\nSkipping line 16696: expected 23 fields, saw 24\\nSkipping line 17302: expected 23 fields, saw 24\\n'\n"
     ]
    }
   ],
   "source": [
    "#Carregando o dataset do Sindec (Procon)\n",
    "df_procon = pd.read_csv(r'C:\\Users\\73594253368\\Desktop\\Curso\\Datasets\\Procon\\CRF2019DadosAbertos.csv', sep = ';', error_bad_lines=False, encoding = 'utf-8')"
   ]
  },
  {
   "cell_type": "code",
   "execution_count": 3,
   "metadata": {},
   "outputs": [
    {
     "data": {
      "text/plain": [
       "(17555, 23)"
      ]
     },
     "execution_count": 3,
     "metadata": {},
     "output_type": "execute_result"
    }
   ],
   "source": [
    "df_procon.shape"
   ]
  },
  {
   "cell_type": "code",
   "execution_count": 4,
   "metadata": {},
   "outputs": [
    {
     "name": "stdout",
     "output_type": "stream",
     "text": [
      "<class 'pandas.core.frame.DataFrame'>\n",
      "RangeIndex: 17555 entries, 0 to 17554\n",
      "Data columns (total 23 columns):\n",
      " #   Column                 Non-Null Count  Dtype  \n",
      "---  ------                 --------------  -----  \n",
      " 0   AnoCalendario          17555 non-null  int64  \n",
      " 1   DataArquivamento       17552 non-null  object \n",
      " 2   DataAbertura           17552 non-null  object \n",
      " 3   CodigoRegiao           17555 non-null  int64  \n",
      " 4   Regiao                 17555 non-null  object \n",
      " 5   UF                     17555 non-null  object \n",
      " 6   strRazaoSocial         17555 non-null  object \n",
      " 7   strNomeFantasia        14034 non-null  object \n",
      " 8   Tipo                   17555 non-null  int64  \n",
      " 9   NumeroCNPJ             16028 non-null  float64\n",
      " 10  RadicalCNPJ            15974 non-null  float64\n",
      " 11  RazaoSocialRFB         14572 non-null  object \n",
      " 12  NomeFantasiaRFB        7651 non-null   object \n",
      " 13  CNAEPrincipal          14572 non-null  float64\n",
      " 14  DescCNAEPrincipal      14502 non-null  object \n",
      " 15  Atendida               17555 non-null  object \n",
      " 16  CodigoAssunto          17541 non-null  float64\n",
      " 17  DescricaoAssunto       17541 non-null  object \n",
      " 18  CodigoProblema         45 non-null     float64\n",
      " 19  DescricaoProblema      45 non-null     object \n",
      " 20  SexoConsumidor         17546 non-null  object \n",
      " 21  FaixaEtariaConsumidor  17555 non-null  object \n",
      " 22  CEPConsumidor          13921 non-null  float64\n",
      "dtypes: float64(6), int64(3), object(14)\n",
      "memory usage: 3.1+ MB\n"
     ]
    }
   ],
   "source": [
    "df_procon.info()"
   ]
  },
  {
   "cell_type": "code",
   "execution_count": 5,
   "metadata": {},
   "outputs": [
    {
     "data": {
      "text/html": [
       "<div>\n",
       "<style scoped>\n",
       "    .dataframe tbody tr th:only-of-type {\n",
       "        vertical-align: middle;\n",
       "    }\n",
       "\n",
       "    .dataframe tbody tr th {\n",
       "        vertical-align: top;\n",
       "    }\n",
       "\n",
       "    .dataframe thead th {\n",
       "        text-align: right;\n",
       "    }\n",
       "</style>\n",
       "<table border=\"1\" class=\"dataframe\">\n",
       "  <thead>\n",
       "    <tr style=\"text-align: right;\">\n",
       "      <th></th>\n",
       "      <th>AnoCalendario</th>\n",
       "      <th>DataArquivamento</th>\n",
       "      <th>DataAbertura</th>\n",
       "      <th>CodigoRegiao</th>\n",
       "      <th>Regiao</th>\n",
       "      <th>UF</th>\n",
       "      <th>strRazaoSocial</th>\n",
       "      <th>strNomeFantasia</th>\n",
       "      <th>Tipo</th>\n",
       "      <th>NumeroCNPJ</th>\n",
       "      <th>...</th>\n",
       "      <th>CNAEPrincipal</th>\n",
       "      <th>DescCNAEPrincipal</th>\n",
       "      <th>Atendida</th>\n",
       "      <th>CodigoAssunto</th>\n",
       "      <th>DescricaoAssunto</th>\n",
       "      <th>CodigoProblema</th>\n",
       "      <th>DescricaoProblema</th>\n",
       "      <th>SexoConsumidor</th>\n",
       "      <th>FaixaEtariaConsumidor</th>\n",
       "      <th>CEPConsumidor</th>\n",
       "    </tr>\n",
       "  </thead>\n",
       "  <tbody>\n",
       "    <tr>\n",
       "      <th>0</th>\n",
       "      <td>2019</td>\n",
       "      <td>2019-10-04 11:12:54.000</td>\n",
       "      <td>2019-09-02 09:27:15.000</td>\n",
       "      <td>1</td>\n",
       "      <td>Norte</td>\n",
       "      <td>RO</td>\n",
       "      <td>CLARO S.A.</td>\n",
       "      <td>CIP ELETRONICA</td>\n",
       "      <td>1</td>\n",
       "      <td>4.043254e+13</td>\n",
       "      <td>...</td>\n",
       "      <td>6120501.0</td>\n",
       "      <td>TELEFONIA MÓVEL CELULAR</td>\n",
       "      <td>N</td>\n",
       "      <td>187.0</td>\n",
       "      <td>Telefonia Celular</td>\n",
       "      <td>NaN</td>\n",
       "      <td>NaN</td>\n",
       "      <td>M</td>\n",
       "      <td>entre 51 a 60 anos</td>\n",
       "      <td>76824042.0</td>\n",
       "    </tr>\n",
       "    <tr>\n",
       "      <th>1</th>\n",
       "      <td>2019</td>\n",
       "      <td>2019-01-08 10:56:05.000</td>\n",
       "      <td>2018-12-04 15:19:18.000</td>\n",
       "      <td>1</td>\n",
       "      <td>Norte</td>\n",
       "      <td>RO</td>\n",
       "      <td>BANCO DO BRASIL SA</td>\n",
       "      <td>BANCO DO BRASIL</td>\n",
       "      <td>1</td>\n",
       "      <td>1.910000e+02</td>\n",
       "      <td>...</td>\n",
       "      <td>6422100.0</td>\n",
       "      <td>BANCOS MÚLTIPLOS, COM CARTEIRA COMERCIAL</td>\n",
       "      <td>N</td>\n",
       "      <td>53.0</td>\n",
       "      <td>Banco comercial</td>\n",
       "      <td>NaN</td>\n",
       "      <td>NaN</td>\n",
       "      <td>F</td>\n",
       "      <td>entre 41 a 50 anos</td>\n",
       "      <td>NaN</td>\n",
       "    </tr>\n",
       "    <tr>\n",
       "      <th>2</th>\n",
       "      <td>2019</td>\n",
       "      <td>2019-08-15 15:14:14.000</td>\n",
       "      <td>2019-07-16 17:00:46.000</td>\n",
       "      <td>1</td>\n",
       "      <td>Norte</td>\n",
       "      <td>RO</td>\n",
       "      <td>CENTRAIS ELETRICAS DE RONDONIA S/A</td>\n",
       "      <td>ENERGISA</td>\n",
       "      <td>1</td>\n",
       "      <td>5.914650e+12</td>\n",
       "      <td>...</td>\n",
       "      <td>3514000.0</td>\n",
       "      <td>DISTRIBUIÇÃO DE ENERGIA ELÉTRICA</td>\n",
       "      <td>N</td>\n",
       "      <td>185.0</td>\n",
       "      <td>Energia Elétrica</td>\n",
       "      <td>NaN</td>\n",
       "      <td>NaN</td>\n",
       "      <td>M</td>\n",
       "      <td>entre 41 a 50 anos</td>\n",
       "      <td>76824322.0</td>\n",
       "    </tr>\n",
       "    <tr>\n",
       "      <th>3</th>\n",
       "      <td>2019</td>\n",
       "      <td>2019-01-04 11:31:47.000</td>\n",
       "      <td>2018-04-19 10:09:02.000</td>\n",
       "      <td>1</td>\n",
       "      <td>Norte</td>\n",
       "      <td>RO</td>\n",
       "      <td>NOVA PROFISSIONAL CURSOS PROFISSIONALIZANTES TREI</td>\n",
       "      <td>SEBRAP</td>\n",
       "      <td>1</td>\n",
       "      <td>1.311034e+13</td>\n",
       "      <td>...</td>\n",
       "      <td>8599604.0</td>\n",
       "      <td>TREINAMENTO EM DESENVOLVIMENTO PROFISSIONAL E ...</td>\n",
       "      <td>S</td>\n",
       "      <td>236.0</td>\n",
       "      <td>Cursos Livres Outros</td>\n",
       "      <td>NaN</td>\n",
       "      <td>NaN</td>\n",
       "      <td>M</td>\n",
       "      <td>entre 31 a 40 anos</td>\n",
       "      <td>78932000.0</td>\n",
       "    </tr>\n",
       "    <tr>\n",
       "      <th>4</th>\n",
       "      <td>2019</td>\n",
       "      <td>2019-01-04 10:26:36.000</td>\n",
       "      <td>2018-08-30 09:46:37.000</td>\n",
       "      <td>1</td>\n",
       "      <td>Norte</td>\n",
       "      <td>RO</td>\n",
       "      <td>OI MOVEL S.A CIP ELETRONICA</td>\n",
       "      <td>ANTIGA 14 BRASIL TELECOM CELULAR S/A- TNL PCS S/A</td>\n",
       "      <td>1</td>\n",
       "      <td>5.423963e+12</td>\n",
       "      <td>...</td>\n",
       "      <td>6120501.0</td>\n",
       "      <td>TELEFONIA MÓVEL CELULAR</td>\n",
       "      <td>S</td>\n",
       "      <td>187.0</td>\n",
       "      <td>Telefonia Celular</td>\n",
       "      <td>NaN</td>\n",
       "      <td>NaN</td>\n",
       "      <td>M</td>\n",
       "      <td>entre 51 a 60 anos</td>\n",
       "      <td>78932000.0</td>\n",
       "    </tr>\n",
       "  </tbody>\n",
       "</table>\n",
       "<p>5 rows × 23 columns</p>\n",
       "</div>"
      ],
      "text/plain": [
       "   AnoCalendario         DataArquivamento             DataAbertura  \\\n",
       "0           2019  2019-10-04 11:12:54.000  2019-09-02 09:27:15.000   \n",
       "1           2019  2019-01-08 10:56:05.000  2018-12-04 15:19:18.000   \n",
       "2           2019  2019-08-15 15:14:14.000  2019-07-16 17:00:46.000   \n",
       "3           2019  2019-01-04 11:31:47.000  2018-04-19 10:09:02.000   \n",
       "4           2019  2019-01-04 10:26:36.000  2018-08-30 09:46:37.000   \n",
       "\n",
       "   CodigoRegiao Regiao  UF                                     strRazaoSocial  \\\n",
       "0             1  Norte  RO                                         CLARO S.A.   \n",
       "1             1  Norte  RO                                 BANCO DO BRASIL SA   \n",
       "2             1  Norte  RO                 CENTRAIS ELETRICAS DE RONDONIA S/A   \n",
       "3             1  Norte  RO  NOVA PROFISSIONAL CURSOS PROFISSIONALIZANTES TREI   \n",
       "4             1  Norte  RO                        OI MOVEL S.A CIP ELETRONICA   \n",
       "\n",
       "                                     strNomeFantasia  Tipo    NumeroCNPJ  ...  \\\n",
       "0                                     CIP ELETRONICA     1  4.043254e+13  ...   \n",
       "1                                    BANCO DO BRASIL     1  1.910000e+02  ...   \n",
       "2                                           ENERGISA     1  5.914650e+12  ...   \n",
       "3                                             SEBRAP     1  1.311034e+13  ...   \n",
       "4  ANTIGA 14 BRASIL TELECOM CELULAR S/A- TNL PCS S/A     1  5.423963e+12  ...   \n",
       "\n",
       "   CNAEPrincipal                                  DescCNAEPrincipal Atendida  \\\n",
       "0      6120501.0                            TELEFONIA MÓVEL CELULAR        N   \n",
       "1      6422100.0           BANCOS MÚLTIPLOS, COM CARTEIRA COMERCIAL        N   \n",
       "2      3514000.0                   DISTRIBUIÇÃO DE ENERGIA ELÉTRICA        N   \n",
       "3      8599604.0  TREINAMENTO EM DESENVOLVIMENTO PROFISSIONAL E ...        S   \n",
       "4      6120501.0                            TELEFONIA MÓVEL CELULAR        S   \n",
       "\n",
       "   CodigoAssunto      DescricaoAssunto CodigoProblema  DescricaoProblema  \\\n",
       "0          187.0     Telefonia Celular            NaN                NaN   \n",
       "1           53.0       Banco comercial            NaN                NaN   \n",
       "2          185.0      Energia Elétrica            NaN                NaN   \n",
       "3          236.0  Cursos Livres Outros            NaN                NaN   \n",
       "4          187.0     Telefonia Celular            NaN                NaN   \n",
       "\n",
       "  SexoConsumidor  FaixaEtariaConsumidor CEPConsumidor  \n",
       "0              M     entre 51 a 60 anos    76824042.0  \n",
       "1              F     entre 41 a 50 anos           NaN  \n",
       "2              M     entre 41 a 50 anos    76824322.0  \n",
       "3              M     entre 31 a 40 anos    78932000.0  \n",
       "4              M     entre 51 a 60 anos    78932000.0  \n",
       "\n",
       "[5 rows x 23 columns]"
      ]
     },
     "execution_count": 5,
     "metadata": {},
     "output_type": "execute_result"
    }
   ],
   "source": [
    "df_procon.head()"
   ]
  },
  {
   "cell_type": "code",
   "execution_count": 6,
   "metadata": {},
   "outputs": [],
   "source": [
    "#Preparando o campo CNPJ para o merge: retirar nulos, sinais e transformar para inteiro\n",
    "df_procon = df_procon.dropna(subset=['NumeroCNPJ']).dropna(axis=1, how = 'all')"
   ]
  },
  {
   "cell_type": "code",
   "execution_count": 8,
   "metadata": {},
   "outputs": [
    {
     "data": {
      "text/plain": [
       "(16028, 23)"
      ]
     },
     "execution_count": 8,
     "metadata": {},
     "output_type": "execute_result"
    }
   ],
   "source": [
    "df_procon.shape"
   ]
  },
  {
   "cell_type": "code",
   "execution_count": null,
   "metadata": {},
   "outputs": [],
   "source": []
  },
  {
   "cell_type": "code",
   "execution_count": null,
   "metadata": {},
   "outputs": [],
   "source": [
    "df_procon.info()"
   ]
  },
  {
   "cell_type": "code",
   "execution_count": null,
   "metadata": {},
   "outputs": [],
   "source": [
    "df_procon['NumeroCNPJ'] = df_procon['NumeroCNPJ'].replace('.', '')\n",
    "df_procon['NumeroCNPJ'] = df_procon['NumeroCNPJ'].replace('/', '')\n",
    "df_procon['NumeroCNPJ'] = df_procon['NumeroCNPJ'].replace('-', '')"
   ]
  },
  {
   "cell_type": "code",
   "execution_count": null,
   "metadata": {},
   "outputs": [],
   "source": [
    "df_procon['NumeroCNPJ']"
   ]
  },
  {
   "cell_type": "code",
   "execution_count": null,
   "metadata": {},
   "outputs": [],
   "source": [
    "df_procon['NumeroCNPJ'] = pd.to_numeric(df_procon['NumeroCNPJ'],downcast='integer')"
   ]
  },
  {
   "cell_type": "code",
   "execution_count": null,
   "metadata": {},
   "outputs": [],
   "source": [
    "df_procon"
   ]
  },
  {
   "cell_type": "code",
   "execution_count": null,
   "metadata": {},
   "outputs": [],
   "source": [
    "# Colocando index para permitir visualização, na hora do merge com o dataset da PFN, de quais demandas correspondem a\n",
    "# empresas em DAU\n",
    "# df_procon_2 é um ProconIndexado\n",
    "df_procon_2 = df_procon"
   ]
  },
  {
   "cell_type": "code",
   "execution_count": null,
   "metadata": {},
   "outputs": [],
   "source": [
    "df_procon_2 = df_procon_2.rename_axis('index1').reset_index()"
   ]
  },
  {
   "cell_type": "code",
   "execution_count": null,
   "metadata": {},
   "outputs": [],
   "source": [
    "df_procon_2"
   ]
  },
  {
   "cell_type": "code",
   "execution_count": null,
   "metadata": {},
   "outputs": [],
   "source": [
    "df_procon_2.shape"
   ]
  },
  {
   "cell_type": "code",
   "execution_count": null,
   "metadata": {
    "scrolled": true
   },
   "outputs": [],
   "source": [
    "df_procon_2.head()"
   ]
  },
  {
   "cell_type": "markdown",
   "metadata": {},
   "source": [
    "# As 27 tabelas de devedores da PFN foram concatenadas no dataset concatenadoordenado.csv. A seguir o tratamento para o merge com a base do Sindec"
   ]
  },
  {
   "cell_type": "code",
   "execution_count": null,
   "metadata": {},
   "outputs": [],
   "source": [
    "#Carregando o dataset da PFN\n",
    "df_pfn = pd.read_csv(r'C:\\Users\\73594253368\\Desktop\\Curso\\Datasets\\Procon\\concatenadoordenado.csv')"
   ]
  },
  {
   "cell_type": "code",
   "execution_count": null,
   "metadata": {
    "scrolled": true
   },
   "outputs": [],
   "source": [
    "df_pfn.info()"
   ]
  },
  {
   "cell_type": "code",
   "execution_count": null,
   "metadata": {},
   "outputs": [],
   "source": [
    "df_pfn.rename(columns = {'TIPO_PESSOA': 'Tipo_Pessoa'}, inplace=True)"
   ]
  },
  {
   "cell_type": "markdown",
   "metadata": {},
   "source": [
    "Restringimos o data frame a apenas duas colunas, pois nosso objetivo com os dados da PFN é, a partir dos dados das demandas no Sindec, sabermos se a empresa constante nas demandas é listada, também, como devedora da Fazenda Nacional."
   ]
  },
  {
   "cell_type": "code",
   "execution_count": null,
   "metadata": {},
   "outputs": [],
   "source": [
    "df_pfn_colunas = df_pfn[['CPF_CNPJ','Tipo_Pessoa']]"
   ]
  },
  {
   "cell_type": "code",
   "execution_count": null,
   "metadata": {},
   "outputs": [],
   "source": [
    "df_pfn_colunas.head()"
   ]
  },
  {
   "cell_type": "code",
   "execution_count": null,
   "metadata": {},
   "outputs": [],
   "source": [
    "#Removendo os nulos\n",
    "df_pfn_colunas = df_pfn_colunas.dropna(subset=['CPF_CNPJ']).dropna(axis=1, how = 'all')\n",
    "df_pfn_colunas = df_pfn_colunas.dropna(subset=['Tipo_Pessoa']).dropna(axis=1, how = 'all')"
   ]
  },
  {
   "cell_type": "code",
   "execution_count": null,
   "metadata": {},
   "outputs": [],
   "source": [
    "#Retirando as pessoas físicas\n",
    "df_pfn_colunas = df_pfn_colunas[df_pfn_colunas.Tipo_Pessoa.str.contains('Pessoa jurídica')]\n",
    "df_pfn_colunas.rename(columns = {'CPF_CNPJ': 'CNPJ'}, inplace=True)"
   ]
  },
  {
   "cell_type": "code",
   "execution_count": null,
   "metadata": {},
   "outputs": [],
   "source": [
    "#Limpando os CNPJs\n",
    "df_pfn_colunas['CNPJ'] = df_pfn_colunas['CNPJ'].str.replace('.', '')\n",
    "df_pfn_colunas['CNPJ'] = df_pfn_colunas['CNPJ'].str.replace('/', '')\n",
    "df_pfn_colunas['CNPJ'] = df_pfn_colunas['CNPJ'].str.replace('-', '')\n",
    "df_pfn_colunas['CNPJ'] = pd.to_numeric(df_pfn_colunas['CNPJ'],downcast='integer')"
   ]
  },
  {
   "cell_type": "code",
   "execution_count": null,
   "metadata": {},
   "outputs": [],
   "source": [
    "df_pfn_colunas.info()"
   ]
  },
  {
   "cell_type": "code",
   "execution_count": null,
   "metadata": {},
   "outputs": [],
   "source": [
    "df_pfn_colunas['Tipo_Pessoa'].value_counts()"
   ]
  },
  {
   "cell_type": "code",
   "execution_count": null,
   "metadata": {},
   "outputs": [],
   "source": [
    "df_pfn_colunas.info()"
   ]
  },
  {
   "cell_type": "code",
   "execution_count": null,
   "metadata": {},
   "outputs": [],
   "source": [
    "df_pfn_colunas.shape"
   ]
  },
  {
   "cell_type": "code",
   "execution_count": null,
   "metadata": {},
   "outputs": [],
   "source": []
  },
  {
   "cell_type": "code",
   "execution_count": null,
   "metadata": {},
   "outputs": [],
   "source": []
  },
  {
   "cell_type": "markdown",
   "metadata": {},
   "source": [
    "# Merge Procon Indexado com PFN duas colunas"
   ]
  },
  {
   "cell_type": "code",
   "execution_count": null,
   "metadata": {},
   "outputs": [],
   "source": [
    "\n",
    "df_merged = pd.merge(df_procon_2, df_pfn_colunas, how='left',\n",
    "                      left_on=['NumeroCNPJ'],\n",
    "                      right_on =['CNPJ'])"
   ]
  },
  {
   "cell_type": "code",
   "execution_count": null,
   "metadata": {},
   "outputs": [],
   "source": [
    "df_merged.shape"
   ]
  },
  {
   "cell_type": "code",
   "execution_count": null,
   "metadata": {},
   "outputs": [],
   "source": []
  },
  {
   "cell_type": "code",
   "execution_count": null,
   "metadata": {},
   "outputs": [],
   "source": [
    "df_merged.info()"
   ]
  },
  {
   "cell_type": "code",
   "execution_count": null,
   "metadata": {},
   "outputs": [],
   "source": []
  },
  {
   "cell_type": "code",
   "execution_count": null,
   "metadata": {},
   "outputs": [],
   "source": [
    "#Retirando os registros duplicados\n",
    "df_merged = df_merged.drop_duplicates()"
   ]
  },
  {
   "cell_type": "code",
   "execution_count": null,
   "metadata": {},
   "outputs": [],
   "source": []
  },
  {
   "cell_type": "code",
   "execution_count": null,
   "metadata": {},
   "outputs": [],
   "source": [
    "df_merged.info()"
   ]
  },
  {
   "cell_type": "code",
   "execution_count": null,
   "metadata": {},
   "outputs": [],
   "source": []
  },
  {
   "cell_type": "code",
   "execution_count": null,
   "metadata": {},
   "outputs": [],
   "source": [
    "# Exportanto o dataframe criado após os merges pra a etapa seguinte, a de tratamento do dataset\n",
    "# df_merged.to_csv(r'C:\\Users\\73594253368\\Desktop\\Curso\\Datasets\\Procon\\df_merged.csv')"
   ]
  },
  {
   "cell_type": "code",
   "execution_count": null,
   "metadata": {},
   "outputs": [],
   "source": []
  }
 ],
 "metadata": {
  "kernelspec": {
   "display_name": "Python 3",
   "language": "python",
   "name": "python3"
  },
  "language_info": {
   "codemirror_mode": {
    "name": "ipython",
    "version": 3
   },
   "file_extension": ".py",
   "mimetype": "text/x-python",
   "name": "python",
   "nbconvert_exporter": "python",
   "pygments_lexer": "ipython3",
   "version": "3.8.5"
  }
 },
 "nbformat": 4,
 "nbformat_minor": 4
}
