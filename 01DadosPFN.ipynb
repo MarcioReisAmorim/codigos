{
 "cells": [
  {
   "cell_type": "markdown",
   "metadata": {},
   "source": [
    "# Notebook meramente preparatório, mantendo os dados brutos. Serve, apenas, para concatenar as 27 tabelas de devedores da PFN, uma para cada UF. Resultando no arquivo \"concatenadoordenado.csv\", de 4GB.\n",
    "Fonte: https://dadosabertos.pgfn.gov.br/2021_trimestre_02/Dados_abertos_Nao_Previdenciario.zip, acessado em 25/07/2021. \n"
   ]
  },
  {
   "cell_type": "code",
   "execution_count": 1,
   "metadata": {},
   "outputs": [],
   "source": [
    "import pandas as pd"
   ]
  },
  {
   "cell_type": "code",
   "execution_count": 2,
   "metadata": {},
   "outputs": [],
   "source": [
    "acre = pd.read_csv(r'C:\\Users\\73594253368\\Desktop\\Curso\\Datasets\\Procon\\PFN\\arquivo_lai_SIDA_AC_202106.csv',sep = ';', header = 0, encoding = 'ISO-8859-1')"
   ]
  },
  {
   "cell_type": "code",
   "execution_count": 3,
   "metadata": {},
   "outputs": [
    {
     "name": "stdout",
     "output_type": "stream",
     "text": [
      "<class 'pandas.core.frame.DataFrame'>\n",
      "RangeIndex: 50998 entries, 0 to 50997\n",
      "Data columns (total 13 columns):\n",
      " #   Column                   Non-Null Count  Dtype  \n",
      "---  ------                   --------------  -----  \n",
      " 0   CPF_CNPJ                 50998 non-null  object \n",
      " 1   TIPO_PESSOA              50998 non-null  object \n",
      " 2   TIPO_DEVEDOR             50998 non-null  object \n",
      " 3   NOME_DEVEDOR             50998 non-null  object \n",
      " 4   UF_UNIDADE_RESPONSAVEL   50998 non-null  object \n",
      " 5   UNIDADE_RESPONSAVEL      50998 non-null  object \n",
      " 6   NUMERO_INSCRICAO         50998 non-null  int64  \n",
      " 7   TIPO_SITUACAO_INSCRICAO  50998 non-null  object \n",
      " 8   SITUACAO_INSCRICAO       50998 non-null  object \n",
      " 9   RECEITA_PRINCIPAL        50998 non-null  object \n",
      " 10  DATA_INSCRICAO           50998 non-null  object \n",
      " 11  INDICADOR_AJUIZADO       50998 non-null  object \n",
      " 12  VALOR_CONSOLIDADO        50998 non-null  float64\n",
      "dtypes: float64(1), int64(1), object(11)\n",
      "memory usage: 5.1+ MB\n"
     ]
    }
   ],
   "source": [
    "acre.info()"
   ]
  },
  {
   "cell_type": "code",
   "execution_count": null,
   "metadata": {},
   "outputs": [],
   "source": []
  },
  {
   "cell_type": "code",
   "execution_count": 4,
   "metadata": {},
   "outputs": [],
   "source": [
    "alagoas = pd.read_csv(r'C:\\Users\\73594253368\\Desktop\\Curso\\Datasets\\Procon\\PFN\\arquivo_lai_SIDA_AL_202106.csv',sep = ';', header = 0, encoding = 'ISO-8859-1')"
   ]
  },
  {
   "cell_type": "code",
   "execution_count": null,
   "metadata": {},
   "outputs": [],
   "source": []
  },
  {
   "cell_type": "code",
   "execution_count": 5,
   "metadata": {},
   "outputs": [],
   "source": [
    "amazonas = pd.read_csv(r'C:\\Users\\73594253368\\Desktop\\Curso\\Datasets\\Procon\\PFN\\arquivo_lai_SIDA_AM_202106.csv',sep = ';', header = 0, encoding = 'ISO-8859-1')"
   ]
  },
  {
   "cell_type": "code",
   "execution_count": null,
   "metadata": {},
   "outputs": [],
   "source": []
  },
  {
   "cell_type": "code",
   "execution_count": 6,
   "metadata": {},
   "outputs": [],
   "source": [
    "amapa = pd.read_csv(r'C:\\Users\\73594253368\\Desktop\\Curso\\Datasets\\Procon\\PFN\\arquivo_lai_SIDA_AP_202106.csv',sep = ';', header = 0, encoding = 'ISO-8859-1')"
   ]
  },
  {
   "cell_type": "code",
   "execution_count": null,
   "metadata": {},
   "outputs": [],
   "source": []
  },
  {
   "cell_type": "code",
   "execution_count": 7,
   "metadata": {},
   "outputs": [],
   "source": [
    "bahia = pd.read_csv(r'C:\\Users\\73594253368\\Desktop\\Curso\\Datasets\\Procon\\PFN\\arquivo_lai_SIDA_BA_202106.csv',sep = ';', header = 0, encoding = 'ISO-8859-1')"
   ]
  },
  {
   "cell_type": "code",
   "execution_count": null,
   "metadata": {},
   "outputs": [],
   "source": []
  },
  {
   "cell_type": "code",
   "execution_count": 8,
   "metadata": {},
   "outputs": [],
   "source": [
    "ceara = pd.read_csv(r'C:\\Users\\73594253368\\Desktop\\Curso\\Datasets\\Procon\\PFN\\arquivo_lai_SIDA_CE_202106.csv',sep = ';', header = 0, encoding = 'ISO-8859-1')"
   ]
  },
  {
   "cell_type": "code",
   "execution_count": null,
   "metadata": {},
   "outputs": [],
   "source": []
  },
  {
   "cell_type": "code",
   "execution_count": 9,
   "metadata": {},
   "outputs": [],
   "source": [
    "distritofederal = pd.read_csv(r'C:\\Users\\73594253368\\Desktop\\Curso\\Datasets\\Procon\\PFN\\arquivo_lai_SIDA_DF_202106.csv',sep = ';', header = 0, encoding = 'ISO-8859-1')"
   ]
  },
  {
   "cell_type": "code",
   "execution_count": null,
   "metadata": {},
   "outputs": [],
   "source": []
  },
  {
   "cell_type": "code",
   "execution_count": 10,
   "metadata": {},
   "outputs": [],
   "source": [
    "espiritosanto = pd.read_csv(r'C:\\Users\\73594253368\\Desktop\\Curso\\Datasets\\Procon\\PFN\\arquivo_lai_SIDA_ES_202106.csv',sep = ';', header = 0, encoding = 'ISO-8859-1')"
   ]
  },
  {
   "cell_type": "code",
   "execution_count": null,
   "metadata": {},
   "outputs": [],
   "source": []
  },
  {
   "cell_type": "code",
   "execution_count": 11,
   "metadata": {},
   "outputs": [],
   "source": [
    "goias = pd.read_csv(r'C:\\Users\\73594253368\\Desktop\\Curso\\Datasets\\Procon\\PFN\\arquivo_lai_SIDA_GO_202106.csv',sep = ';', header = 0, encoding = 'ISO-8859-1')"
   ]
  },
  {
   "cell_type": "code",
   "execution_count": null,
   "metadata": {},
   "outputs": [],
   "source": []
  },
  {
   "cell_type": "code",
   "execution_count": 12,
   "metadata": {},
   "outputs": [],
   "source": [
    "maranhao = pd.read_csv(r'C:\\Users\\73594253368\\Desktop\\Curso\\Datasets\\Procon\\PFN\\arquivo_lai_SIDA_MA_202106.csv',sep = ';', header = 0, encoding = 'ISO-8859-1')\n"
   ]
  },
  {
   "cell_type": "code",
   "execution_count": null,
   "metadata": {},
   "outputs": [],
   "source": []
  },
  {
   "cell_type": "code",
   "execution_count": 13,
   "metadata": {},
   "outputs": [],
   "source": [
    "minasgerais = pd.read_csv(r'C:\\Users\\73594253368\\Desktop\\Curso\\Datasets\\Procon\\PFN\\arquivo_lai_SIDA_MG_202106.csv',sep = ';', header = 0, encoding = 'ISO-8859-1')\n"
   ]
  },
  {
   "cell_type": "code",
   "execution_count": null,
   "metadata": {},
   "outputs": [],
   "source": []
  },
  {
   "cell_type": "code",
   "execution_count": 14,
   "metadata": {},
   "outputs": [],
   "source": [
    "matogrossodosul = pd.read_csv(r'C:\\Users\\73594253368\\Desktop\\Curso\\Datasets\\Procon\\PFN\\arquivo_lai_SIDA_MS_202106.csv',sep = ';', header = 0, encoding = 'ISO-8859-1')\n"
   ]
  },
  {
   "cell_type": "code",
   "execution_count": null,
   "metadata": {},
   "outputs": [],
   "source": []
  },
  {
   "cell_type": "code",
   "execution_count": 15,
   "metadata": {},
   "outputs": [],
   "source": [
    "matogrosso = pd.read_csv(r'C:\\Users\\73594253368\\Desktop\\Curso\\Datasets\\Procon\\PFN\\arquivo_lai_SIDA_MT_202106.csv',sep = ';', header = 0, encoding = 'ISO-8859-1')\n"
   ]
  },
  {
   "cell_type": "code",
   "execution_count": null,
   "metadata": {},
   "outputs": [],
   "source": []
  },
  {
   "cell_type": "code",
   "execution_count": 16,
   "metadata": {},
   "outputs": [],
   "source": [
    "matogrossodosul = pd.read_csv(r'C:\\Users\\73594253368\\Desktop\\Curso\\Datasets\\Procon\\PFN\\arquivo_lai_SIDA_MS_202106.csv',sep = ';', header = 0, encoding = 'ISO-8859-1')"
   ]
  },
  {
   "cell_type": "code",
   "execution_count": null,
   "metadata": {},
   "outputs": [],
   "source": []
  },
  {
   "cell_type": "code",
   "execution_count": 17,
   "metadata": {},
   "outputs": [],
   "source": [
    "para = pd.read_csv(r'C:\\Users\\73594253368\\Desktop\\Curso\\Datasets\\Procon\\PFN\\arquivo_lai_SIDA_PA_202106.csv',sep = ';', header = 0, encoding = 'ISO-8859-1')\n"
   ]
  },
  {
   "cell_type": "code",
   "execution_count": null,
   "metadata": {},
   "outputs": [],
   "source": []
  },
  {
   "cell_type": "code",
   "execution_count": 18,
   "metadata": {},
   "outputs": [],
   "source": [
    "paraiba = pd.read_csv(r'C:\\Users\\73594253368\\Desktop\\Curso\\Datasets\\Procon\\PFN\\arquivo_lai_SIDA_PB_202012.csv',sep = ';', header = 0, encoding = 'ISO-8859-1')\n"
   ]
  },
  {
   "cell_type": "code",
   "execution_count": null,
   "metadata": {},
   "outputs": [],
   "source": []
  },
  {
   "cell_type": "code",
   "execution_count": 19,
   "metadata": {},
   "outputs": [],
   "source": [
    "pernambuco = pd.read_csv(r'C:\\Users\\73594253368\\Desktop\\Curso\\Datasets\\Procon\\PFN\\arquivo_lai_SIDA_PE_202106.csv',sep = ';', header = 0, encoding = 'ISO-8859-1')"
   ]
  },
  {
   "cell_type": "code",
   "execution_count": null,
   "metadata": {},
   "outputs": [],
   "source": []
  },
  {
   "cell_type": "code",
   "execution_count": 20,
   "metadata": {},
   "outputs": [],
   "source": [
    "piaui = pd.read_csv(r'C:\\Users\\73594253368\\Desktop\\Curso\\Datasets\\Procon\\PFN\\arquivo_lai_SIDA_PI_202106.csv',sep = ';', header = 0, encoding = 'ISO-8859-1')"
   ]
  },
  {
   "cell_type": "code",
   "execution_count": null,
   "metadata": {},
   "outputs": [],
   "source": []
  },
  {
   "cell_type": "code",
   "execution_count": 21,
   "metadata": {},
   "outputs": [],
   "source": [
    "parana = pd.read_csv(r'C:\\Users\\73594253368\\Desktop\\Curso\\Datasets\\Procon\\PFN\\arquivo_lai_SIDA_PR_202106.csv',sep = ';', header = 0, encoding = 'ISO-8859-1')"
   ]
  },
  {
   "cell_type": "code",
   "execution_count": null,
   "metadata": {},
   "outputs": [],
   "source": []
  },
  {
   "cell_type": "code",
   "execution_count": 22,
   "metadata": {},
   "outputs": [],
   "source": [
    "riodejaneiro = pd.read_csv(r'C:\\Users\\73594253368\\Desktop\\Curso\\Datasets\\Procon\\PFN\\arquivo_lai_SIDA_RJ_202106.csv',sep = ';', header = 0, encoding = 'ISO-8859-1')"
   ]
  },
  {
   "cell_type": "code",
   "execution_count": null,
   "metadata": {},
   "outputs": [],
   "source": []
  },
  {
   "cell_type": "code",
   "execution_count": 23,
   "metadata": {},
   "outputs": [],
   "source": [
    "riograndedonorte = pd.read_csv(r'C:\\Users\\73594253368\\Desktop\\Curso\\Datasets\\Procon\\PFN\\arquivo_lai_SIDA_RN_202106.csv',sep = ';', header = 0, encoding = 'ISO-8859-1')\n"
   ]
  },
  {
   "cell_type": "code",
   "execution_count": null,
   "metadata": {},
   "outputs": [],
   "source": []
  },
  {
   "cell_type": "code",
   "execution_count": 24,
   "metadata": {},
   "outputs": [],
   "source": [
    "rondonia = pd.read_csv(r'C:\\Users\\73594253368\\Desktop\\Curso\\Datasets\\Procon\\PFN\\arquivo_lai_SIDA_RO_202106.csv',sep = ';', header = 0, encoding = 'ISO-8859-1')\n"
   ]
  },
  {
   "cell_type": "code",
   "execution_count": null,
   "metadata": {},
   "outputs": [],
   "source": []
  },
  {
   "cell_type": "code",
   "execution_count": 25,
   "metadata": {},
   "outputs": [],
   "source": [
    "roraima = pd.read_csv(r'C:\\Users\\73594253368\\Desktop\\Curso\\Datasets\\Procon\\PFN\\arquivo_lai_SIDA_RR_202106.csv',sep = ';', header = 0, encoding = 'ISO-8859-1')\n"
   ]
  },
  {
   "cell_type": "code",
   "execution_count": null,
   "metadata": {},
   "outputs": [],
   "source": []
  },
  {
   "cell_type": "code",
   "execution_count": 26,
   "metadata": {},
   "outputs": [],
   "source": [
    "riograndedosul = pd.read_csv(r'C:\\Users\\73594253368\\Desktop\\Curso\\Datasets\\Procon\\PFN\\arquivo_lai_SIDA_RS_202106.csv',sep = ';', header = 0, encoding = 'ISO-8859-1')"
   ]
  },
  {
   "cell_type": "code",
   "execution_count": null,
   "metadata": {},
   "outputs": [],
   "source": []
  },
  {
   "cell_type": "code",
   "execution_count": 27,
   "metadata": {},
   "outputs": [],
   "source": [
    "santacatarina = pd.read_csv(r'C:\\Users\\73594253368\\Desktop\\Curso\\Datasets\\Procon\\PFN\\arquivo_lai_SIDA_SC_202106.csv',sep = ';', header = 0, encoding = 'ISO-8859-1')\n"
   ]
  },
  {
   "cell_type": "code",
   "execution_count": null,
   "metadata": {},
   "outputs": [],
   "source": []
  },
  {
   "cell_type": "code",
   "execution_count": 28,
   "metadata": {},
   "outputs": [],
   "source": [
    "sergipe = pd.read_csv(r'C:\\Users\\73594253368\\Desktop\\Curso\\Datasets\\Procon\\PFN\\arquivo_lai_SIDA_SE_202106.csv',sep = ';', header = 0, encoding = 'ISO-8859-1')\n"
   ]
  },
  {
   "cell_type": "code",
   "execution_count": null,
   "metadata": {},
   "outputs": [],
   "source": []
  },
  {
   "cell_type": "code",
   "execution_count": 29,
   "metadata": {},
   "outputs": [],
   "source": [
    "saopaulo = pd.read_csv(r'C:\\Users\\73594253368\\Desktop\\Curso\\Datasets\\Procon\\PFN\\arquivo_lai_SIDA_SP_202106.csv',sep = ';', header = 0, encoding = 'ISO-8859-1')"
   ]
  },
  {
   "cell_type": "code",
   "execution_count": null,
   "metadata": {},
   "outputs": [],
   "source": []
  },
  {
   "cell_type": "code",
   "execution_count": 30,
   "metadata": {},
   "outputs": [],
   "source": [
    "tocantins = pd.read_csv(r'C:\\Users\\73594253368\\Desktop\\Curso\\Datasets\\Procon\\PFN\\arquivo_lai_SIDA_TO_202106.csv',sep = ';', header = 0, encoding = 'ISO-8859-1')"
   ]
  },
  {
   "cell_type": "markdown",
   "metadata": {},
   "source": [
    "# Concatenamos todos os 27, ordenando pela disposição alfabética das UF, resultando em um DataFrame de 20.090.612 registros. \n",
    "# Exportamos para o concatenadoordenado.csv."
   ]
  },
  {
   "cell_type": "code",
   "execution_count": 31,
   "metadata": {},
   "outputs": [],
   "source": [
    "df_pfn = pd.concat([acre,alagoas,amazonas,amapa,bahia,ceara,distritofederal,espiritosanto,goias,maranhao,minasgerais,matogrossodosul,matogrosso,para,paraiba,pernambuco,piaui,parana,riodejaneiro,riograndedonorte,rondonia,roraima,riograndedosul,santacatarina,sergipe,saopaulo,tocantins])"
   ]
  },
  {
   "cell_type": "code",
   "execution_count": 34,
   "metadata": {},
   "outputs": [
    {
     "data": {
      "text/plain": [
       "(20090612, 13)"
      ]
     },
     "execution_count": 34,
     "metadata": {},
     "output_type": "execute_result"
    }
   ],
   "source": [
    "df_pfn.shape"
   ]
  },
  {
   "cell_type": "code",
   "execution_count": 32,
   "metadata": {},
   "outputs": [
    {
     "name": "stdout",
     "output_type": "stream",
     "text": [
      "<class 'pandas.core.frame.DataFrame'>\n",
      "Int64Index: 20090612 entries, 0 to 127506\n",
      "Data columns (total 13 columns):\n",
      " #   Column                   Dtype  \n",
      "---  ------                   -----  \n",
      " 0   CPF_CNPJ                 object \n",
      " 1   TIPO_PESSOA              object \n",
      " 2   TIPO_DEVEDOR             object \n",
      " 3   NOME_DEVEDOR             object \n",
      " 4   UF_UNIDADE_RESPONSAVEL   object \n",
      " 5   UNIDADE_RESPONSAVEL      object \n",
      " 6   NUMERO_INSCRICAO         int64  \n",
      " 7   TIPO_SITUACAO_INSCRICAO  object \n",
      " 8   SITUACAO_INSCRICAO       object \n",
      " 9   RECEITA_PRINCIPAL        object \n",
      " 10  DATA_INSCRICAO           object \n",
      " 11  INDICADOR_AJUIZADO       object \n",
      " 12  VALOR_CONSOLIDADO        float64\n",
      "dtypes: float64(1), int64(1), object(11)\n",
      "memory usage: 2.1+ GB\n"
     ]
    }
   ],
   "source": [
    "df_pfn.info()"
   ]
  },
  {
   "cell_type": "code",
   "execution_count": null,
   "metadata": {},
   "outputs": [],
   "source": []
  },
  {
   "cell_type": "code",
   "execution_count": null,
   "metadata": {},
   "outputs": [],
   "source": [
    "df_pfn.to_csv(r'C:\\Users\\73594253368\\Desktop\\Curso\\Datasets\\Procon\\concatenadoordenado.csv')"
   ]
  },
  {
   "cell_type": "code",
   "execution_count": null,
   "metadata": {},
   "outputs": [],
   "source": []
  }
 ],
 "metadata": {
  "kernelspec": {
   "display_name": "Python 3",
   "language": "python",
   "name": "python3"
  },
  "language_info": {
   "codemirror_mode": {
    "name": "ipython",
    "version": 3
   },
   "file_extension": ".py",
   "mimetype": "text/x-python",
   "name": "python",
   "nbconvert_exporter": "python",
   "pygments_lexer": "ipython3",
   "version": "3.8.5"
  }
 },
 "nbformat": 4,
 "nbformat_minor": 4
}
