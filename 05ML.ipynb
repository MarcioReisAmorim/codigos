{
 "cells": [
  {
   "cell_type": "code",
   "execution_count": 1,
   "metadata": {
    "id": "Bv4RTN3IAfJi"
   },
   "outputs": [],
   "source": [
    "import pandas as pd \n",
    "import numpy as np\n",
    "from matplotlib import pyplot as plt\n",
    "import seaborn as sns\n",
    "from IPython.display import display\n",
    "from collections import Counter\n",
    "from imblearn.over_sampling import SMOTE\n",
    "from sklearn.model_selection import train_test_split\n",
    "from sklearn.metrics import accuracy_score, classification_report,roc_curve, roc_auc_score,auc\n",
    "from sklearn.ensemble import ExtraTreesClassifier \n",
    "from sklearn.linear_model import LogisticRegression\n",
    "from sklearn.ensemble import GradientBoostingClassifier\n",
    "from sklearn.ensemble import RandomForestClassifier\n",
    "import matplotlib.pyplot as plt\n",
    "import scikitplot as skplt\n",
    "from IPython.display import display\n",
    "#from pycaret .classification import *"
   ]
  },
  {
   "cell_type": "code",
   "execution_count": 2,
   "metadata": {
    "id": "HA-UmSfCAfJl"
   },
   "outputs": [],
   "source": [
    "dtypes = {  'Regiao': 'object',\n",
    "            'UF': 'object', \n",
    "            'CNAE': 'object',\n",
    "            'Atendida':'bool',\n",
    "            'CodAssunto': 'object',\n",
    "            'SexoConsumidor': 'object',\n",
    "            'FaixaEtaria': 'object',\n",
    "            'CEP': 'object',\n",
    "            'InscritoDAU':'bool'}"
   ]
  },
  {
   "cell_type": "code",
   "execution_count": 3,
   "metadata": {
    "id": "NgKdASO3AfJm"
   },
   "outputs": [],
   "source": [
    "df_ml1 = pd.read_csv(r'C:\\Users\\73594253368\\Desktop\\Curso\\Datasets\\Procon\\dataset_tratado.csv',dtype=dtypes)"
   ]
  },
  {
   "cell_type": "code",
   "execution_count": 4,
   "metadata": {
    "id": "DC3klGm0AfJo"
   },
   "outputs": [],
   "source": [
    "df_ml1 = df_ml1[['Regiao','UF','CNAE','Atendida','CodAssunto','SexoConsumidor','FaixaEtaria','CEP','InscritoDAU']]"
   ]
  },
  {
   "cell_type": "code",
   "execution_count": 5,
   "metadata": {
    "id": "5RzmyMZ6AfJp"
   },
   "outputs": [],
   "source": [
    "# Este df_ml1 foi a primeira tentativa. Manteremos esse data frame para testes demonstrativos no apêndice deste notebook\n",
    "# Para o ML \"oficial\", copiaremos esse df_ml1 para o df_ml\n",
    "df_ml = df_ml1"
   ]
  },
  {
   "cell_type": "code",
   "execution_count": 6,
   "metadata": {},
   "outputs": [
    {
     "data": {
      "text/html": [
       "<div>\n",
       "<style scoped>\n",
       "    .dataframe tbody tr th:only-of-type {\n",
       "        vertical-align: middle;\n",
       "    }\n",
       "\n",
       "    .dataframe tbody tr th {\n",
       "        vertical-align: top;\n",
       "    }\n",
       "\n",
       "    .dataframe thead th {\n",
       "        text-align: right;\n",
       "    }\n",
       "</style>\n",
       "<table border=\"1\" class=\"dataframe\">\n",
       "  <thead>\n",
       "    <tr style=\"text-align: right;\">\n",
       "      <th></th>\n",
       "      <th>Regiao</th>\n",
       "      <th>UF</th>\n",
       "      <th>CNAE</th>\n",
       "      <th>Atendida</th>\n",
       "      <th>CodAssunto</th>\n",
       "      <th>SexoConsumidor</th>\n",
       "      <th>FaixaEtaria</th>\n",
       "      <th>CEP</th>\n",
       "      <th>InscritoDAU</th>\n",
       "    </tr>\n",
       "  </thead>\n",
       "  <tbody>\n",
       "    <tr>\n",
       "      <th>0</th>\n",
       "      <td>Norte</td>\n",
       "      <td>RO</td>\n",
       "      <td>6120501.0</td>\n",
       "      <td>False</td>\n",
       "      <td>187.0</td>\n",
       "      <td>M</td>\n",
       "      <td>5</td>\n",
       "      <td>76824042.0</td>\n",
       "      <td>True</td>\n",
       "    </tr>\n",
       "    <tr>\n",
       "      <th>1</th>\n",
       "      <td>Norte</td>\n",
       "      <td>RO</td>\n",
       "      <td>3514000.0</td>\n",
       "      <td>False</td>\n",
       "      <td>185.0</td>\n",
       "      <td>M</td>\n",
       "      <td>4</td>\n",
       "      <td>76824322.0</td>\n",
       "      <td>False</td>\n",
       "    </tr>\n",
       "    <tr>\n",
       "      <th>2</th>\n",
       "      <td>Norte</td>\n",
       "      <td>RO</td>\n",
       "      <td>8599604.0</td>\n",
       "      <td>True</td>\n",
       "      <td>236.0</td>\n",
       "      <td>M</td>\n",
       "      <td>3</td>\n",
       "      <td>78932000.0</td>\n",
       "      <td>False</td>\n",
       "    </tr>\n",
       "    <tr>\n",
       "      <th>3</th>\n",
       "      <td>Norte</td>\n",
       "      <td>RO</td>\n",
       "      <td>6120501.0</td>\n",
       "      <td>True</td>\n",
       "      <td>187.0</td>\n",
       "      <td>M</td>\n",
       "      <td>5</td>\n",
       "      <td>78932000.0</td>\n",
       "      <td>True</td>\n",
       "    </tr>\n",
       "    <tr>\n",
       "      <th>4</th>\n",
       "      <td>Norte</td>\n",
       "      <td>RO</td>\n",
       "      <td>6493000.0</td>\n",
       "      <td>False</td>\n",
       "      <td>57.0</td>\n",
       "      <td>M</td>\n",
       "      <td>6</td>\n",
       "      <td>76821331.0</td>\n",
       "      <td>True</td>\n",
       "    </tr>\n",
       "    <tr>\n",
       "      <th>...</th>\n",
       "      <td>...</td>\n",
       "      <td>...</td>\n",
       "      <td>...</td>\n",
       "      <td>...</td>\n",
       "      <td>...</td>\n",
       "      <td>...</td>\n",
       "      <td>...</td>\n",
       "      <td>...</td>\n",
       "      <td>...</td>\n",
       "    </tr>\n",
       "    <tr>\n",
       "      <th>10514</th>\n",
       "      <td>Sudeste</td>\n",
       "      <td>SP</td>\n",
       "      <td>6110801.0</td>\n",
       "      <td>True</td>\n",
       "      <td>187.0</td>\n",
       "      <td>F</td>\n",
       "      <td>4</td>\n",
       "      <td>9617000.0</td>\n",
       "      <td>True</td>\n",
       "    </tr>\n",
       "    <tr>\n",
       "      <th>10515</th>\n",
       "      <td>Norte</td>\n",
       "      <td>RO</td>\n",
       "      <td>6143400.0</td>\n",
       "      <td>True</td>\n",
       "      <td>259.0</td>\n",
       "      <td>M</td>\n",
       "      <td>2</td>\n",
       "      <td>76940000.0</td>\n",
       "      <td>False</td>\n",
       "    </tr>\n",
       "    <tr>\n",
       "      <th>10516</th>\n",
       "      <td>Norte</td>\n",
       "      <td>RO</td>\n",
       "      <td>6422100.0</td>\n",
       "      <td>False</td>\n",
       "      <td>63.0</td>\n",
       "      <td>F</td>\n",
       "      <td>6</td>\n",
       "      <td>76990000.0</td>\n",
       "      <td>True</td>\n",
       "    </tr>\n",
       "    <tr>\n",
       "      <th>10517</th>\n",
       "      <td>Norte</td>\n",
       "      <td>RO</td>\n",
       "      <td>3514000.0</td>\n",
       "      <td>False</td>\n",
       "      <td>185.0</td>\n",
       "      <td>F</td>\n",
       "      <td>4</td>\n",
       "      <td>76807400.0</td>\n",
       "      <td>False</td>\n",
       "    </tr>\n",
       "    <tr>\n",
       "      <th>10518</th>\n",
       "      <td>Norte</td>\n",
       "      <td>RO</td>\n",
       "      <td>6423900.0</td>\n",
       "      <td>True</td>\n",
       "      <td>53.0</td>\n",
       "      <td>F</td>\n",
       "      <td>3</td>\n",
       "      <td>76806420.0</td>\n",
       "      <td>True</td>\n",
       "    </tr>\n",
       "  </tbody>\n",
       "</table>\n",
       "<p>10519 rows × 9 columns</p>\n",
       "</div>"
      ],
      "text/plain": [
       "        Regiao  UF       CNAE  Atendida CodAssunto SexoConsumidor FaixaEtaria  \\\n",
       "0        Norte  RO  6120501.0     False      187.0              M           5   \n",
       "1        Norte  RO  3514000.0     False      185.0              M           4   \n",
       "2        Norte  RO  8599604.0      True      236.0              M           3   \n",
       "3        Norte  RO  6120501.0      True      187.0              M           5   \n",
       "4        Norte  RO  6493000.0     False       57.0              M           6   \n",
       "...        ...  ..        ...       ...        ...            ...         ...   \n",
       "10514  Sudeste  SP  6110801.0      True      187.0              F           4   \n",
       "10515    Norte  RO  6143400.0      True      259.0              M           2   \n",
       "10516    Norte  RO  6422100.0     False       63.0              F           6   \n",
       "10517    Norte  RO  3514000.0     False      185.0              F           4   \n",
       "10518    Norte  RO  6423900.0      True       53.0              F           3   \n",
       "\n",
       "              CEP  InscritoDAU  \n",
       "0      76824042.0         True  \n",
       "1      76824322.0        False  \n",
       "2      78932000.0        False  \n",
       "3      78932000.0         True  \n",
       "4      76821331.0         True  \n",
       "...           ...          ...  \n",
       "10514   9617000.0         True  \n",
       "10515  76940000.0        False  \n",
       "10516  76990000.0         True  \n",
       "10517  76807400.0        False  \n",
       "10518  76806420.0         True  \n",
       "\n",
       "[10519 rows x 9 columns]"
      ]
     },
     "execution_count": 6,
     "metadata": {},
     "output_type": "execute_result"
    }
   ],
   "source": [
    "df_ml"
   ]
  },
  {
   "cell_type": "code",
   "execution_count": 7,
   "metadata": {},
   "outputs": [
    {
     "data": {
      "text/plain": [
       "True     6306\n",
       "False    4213\n",
       "Name: Atendida, dtype: int64"
      ]
     },
     "execution_count": 7,
     "metadata": {},
     "output_type": "execute_result"
    }
   ],
   "source": [
    "# Demonstração do desbalanceamento na variável \"target\"\n",
    "df_ml['Atendida'].value_counts()"
   ]
  },
  {
   "cell_type": "markdown",
   "metadata": {
    "id": "fulz2GHDAfJs"
   },
   "source": [
    "# Aplicando SMOTE"
   ]
  },
  {
   "cell_type": "markdown",
   "metadata": {
    "id": "8DwxVvCbAfJs"
   },
   "source": [
    "# Data Preparation\n",
    "As variáveis preditoras mais importantes do nosso dataset são as categóricas. Assim, como etapa preparatória do SMOTE, temos que criar variáveis dummies. Testamos, antes, com SMOTE  e sem dummies e, também, o tradicional dummies sem SMOTE. Igualmente testamos LabelEncoder + dummies + SMOTE. Os melhores resultados de acurária e recall foram com o procedimento a seguir.\n",
    " \n"
   ]
  },
  {
   "cell_type": "code",
   "execution_count": 8,
   "metadata": {
    "id": "YNh26aJeAfJt",
    "outputId": "571caa96-b4ba-4305-cfb9-233cfb01f453"
   },
   "outputs": [
    {
     "name": "stdout",
     "output_type": "stream",
     "text": [
      "<class 'pandas.core.frame.DataFrame'>\n",
      "RangeIndex: 10519 entries, 0 to 10518\n",
      "Data columns (total 9 columns):\n",
      " #   Column          Non-Null Count  Dtype \n",
      "---  ------          --------------  ----- \n",
      " 0   Regiao          10519 non-null  object\n",
      " 1   UF              10519 non-null  object\n",
      " 2   CNAE            10519 non-null  object\n",
      " 3   Atendida        10519 non-null  bool  \n",
      " 4   CodAssunto      10519 non-null  object\n",
      " 5   SexoConsumidor  10519 non-null  object\n",
      " 6   FaixaEtaria     10519 non-null  object\n",
      " 7   CEP             10519 non-null  object\n",
      " 8   InscritoDAU     10519 non-null  bool  \n",
      "dtypes: bool(2), object(7)\n",
      "memory usage: 595.9+ KB\n"
     ]
    }
   ],
   "source": [
    "df_ml.info()"
   ]
  },
  {
   "cell_type": "code",
   "execution_count": 9,
   "metadata": {
    "id": "FaMI1A6NAfJu"
   },
   "outputs": [],
   "source": [
    "df_ml = pd.get_dummies(df_ml[['Regiao', \n",
    "                          'UF',                         \n",
    "                          'CNAE',\n",
    "                          'Atendida',                     \n",
    "                          'CodAssunto',\n",
    "                          'SexoConsumidor',\n",
    "                          'FaixaEtaria',\n",
    "                          'CEP','InscritoDAU']])"
   ]
  },
  {
   "cell_type": "code",
   "execution_count": 10,
   "metadata": {
    "id": "h2F_VYQsAfJu",
    "outputId": "393cec6b-64cc-44ea-919e-5d02acb08c46",
    "scrolled": true
   },
   "outputs": [
    {
     "name": "stdout",
     "output_type": "stream",
     "text": [
      "<class 'pandas.core.frame.DataFrame'>\n",
      "RangeIndex: 10519 entries, 0 to 10518\n",
      "Columns: 6928 entries, Atendida to CEP_9990244.0\n",
      "dtypes: bool(2), uint8(6926)\n",
      "memory usage: 69.5 MB\n"
     ]
    }
   ],
   "source": [
    "df_ml.info()"
   ]
  },
  {
   "cell_type": "code",
   "execution_count": 11,
   "metadata": {},
   "outputs": [
    {
     "data": {
      "text/plain": [
       "(10519, 6928)"
      ]
     },
     "execution_count": 11,
     "metadata": {},
     "output_type": "execute_result"
    }
   ],
   "source": [
    "df_ml.shape"
   ]
  },
  {
   "cell_type": "markdown",
   "metadata": {
    "id": "puEpCZcfAfJu"
   },
   "source": [
    "# SMOTE após dummies"
   ]
  },
  {
   "cell_type": "code",
   "execution_count": 12,
   "metadata": {
    "id": "yzl99l67AfJv"
   },
   "outputs": [
    {
     "name": "stdout",
     "output_type": "stream",
     "text": [
      "Counter({False: 6306, True: 6306})\n"
     ]
    }
   ],
   "source": [
    "X = df_ml.drop(['Atendida'],axis=1) \n",
    "y = df_ml.Atendida\n",
    "smt = SMOTE()\n",
    "X_os,y_os = smt.fit_sample(X,y) #os de oversampled\n",
    "counter = Counter(y_os)\n",
    "print(counter)"
   ]
  },
  {
   "cell_type": "code",
   "execution_count": 13,
   "metadata": {},
   "outputs": [
    {
     "name": "stderr",
     "output_type": "stream",
     "text": [
      "D:\\ANACONDA\\lib\\site-packages\\seaborn\\_decorators.py:36: FutureWarning: Pass the following variable as a keyword arg: x. From version 0.12, the only valid positional argument will be `data`, and passing other arguments without an explicit keyword will result in an error or misinterpretation.\n",
      "  warnings.warn(\n"
     ]
    },
    {
     "name": "stdout",
     "output_type": "stream",
     "text": [
      "True     6306\n",
      "False    6306\n",
      "Name: Atendida, dtype: int64\n"
     ]
    },
    {
     "data": {
      "image/png": "[encoded data removed]",
      "text/plain": [
       "<Figure size 432x288 with 1 Axes>"
      ]
     },
     "metadata": {
      "needs_background": "light"
     },
     "output_type": "display_data"
    }
   ],
   "source": [
    "#grafico da nova distribuição de classes\n",
    "fig, ax = plt.subplots()\n",
    "sns.countplot(y_os, ax=ax)\n",
    "ax.set_title('Distribuição das Classes')\n",
    "plt.xlabel('Classe')\n",
    "plt.ylabel('Quantidade')\n",
    "plt.tight_layout();\n",
    "\n",
    "#print do balanceamento\n",
    "print(pd.Series(y_os).value_counts())"
   ]
  },
  {
   "cell_type": "code",
   "execution_count": 14,
   "metadata": {
    "id": "dTeD5bFRAfJw"
   },
   "outputs": [],
   "source": [
    "#Train_test_split nessa oversampled\n",
    "#Especificamos o tamanho do test_size = 0.3 pq assim as True/False do ytreinamento e as True/False do yteste ficam iguais \n",
    "xtreinamento, xteste, ytreinamento, yteste = train_test_split(X_os, y_os, test_size = 0.3, stratify=y_os,random_state = 0) "
   ]
  },
  {
   "cell_type": "code",
   "execution_count": 15,
   "metadata": {
    "id": "hqwlAq7XAfJw",
    "outputId": "f308237d-c362-4482-c1e3-6b9820f67d7f"
   },
   "outputs": [
    {
     "data": {
      "text/html": [
       "<div>\n",
       "<style scoped>\n",
       "    .dataframe tbody tr th:only-of-type {\n",
       "        vertical-align: middle;\n",
       "    }\n",
       "\n",
       "    .dataframe tbody tr th {\n",
       "        vertical-align: top;\n",
       "    }\n",
       "\n",
       "    .dataframe thead th {\n",
       "        text-align: right;\n",
       "    }\n",
       "</style>\n",
       "<table border=\"1\" class=\"dataframe\">\n",
       "  <thead>\n",
       "    <tr style=\"text-align: right;\">\n",
       "      <th></th>\n",
       "      <th>InscritoDAU</th>\n",
       "      <th>Regiao_Centro-oeste</th>\n",
       "      <th>Regiao_Nordeste</th>\n",
       "      <th>Regiao_Norte</th>\n",
       "      <th>Regiao_Sudeste</th>\n",
       "      <th>Regiao_Sul</th>\n",
       "      <th>UF_CE</th>\n",
       "      <th>UF_ES</th>\n",
       "      <th>UF_GO</th>\n",
       "      <th>UF_MG</th>\n",
       "      <th>...</th>\n",
       "      <th>CEP_9910650.0</th>\n",
       "      <th>CEP_9920110.0</th>\n",
       "      <th>CEP_9931050.0</th>\n",
       "      <th>CEP_9940460.0</th>\n",
       "      <th>CEP_9942030.0</th>\n",
       "      <th>CEP_9942098.0</th>\n",
       "      <th>CEP_9950300.0</th>\n",
       "      <th>CEP_9963370.0</th>\n",
       "      <th>CEP_9980460.0</th>\n",
       "      <th>CEP_9990244.0</th>\n",
       "    </tr>\n",
       "  </thead>\n",
       "  <tbody>\n",
       "    <tr>\n",
       "      <th>11454</th>\n",
       "      <td>False</td>\n",
       "      <td>1</td>\n",
       "      <td>0</td>\n",
       "      <td>0</td>\n",
       "      <td>0</td>\n",
       "      <td>0</td>\n",
       "      <td>0</td>\n",
       "      <td>0</td>\n",
       "      <td>1</td>\n",
       "      <td>0</td>\n",
       "      <td>...</td>\n",
       "      <td>0</td>\n",
       "      <td>0</td>\n",
       "      <td>0</td>\n",
       "      <td>0</td>\n",
       "      <td>0</td>\n",
       "      <td>0</td>\n",
       "      <td>0</td>\n",
       "      <td>0</td>\n",
       "      <td>0</td>\n",
       "      <td>0</td>\n",
       "    </tr>\n",
       "    <tr>\n",
       "      <th>8765</th>\n",
       "      <td>False</td>\n",
       "      <td>0</td>\n",
       "      <td>0</td>\n",
       "      <td>0</td>\n",
       "      <td>1</td>\n",
       "      <td>0</td>\n",
       "      <td>0</td>\n",
       "      <td>0</td>\n",
       "      <td>0</td>\n",
       "      <td>0</td>\n",
       "      <td>...</td>\n",
       "      <td>0</td>\n",
       "      <td>0</td>\n",
       "      <td>0</td>\n",
       "      <td>0</td>\n",
       "      <td>0</td>\n",
       "      <td>0</td>\n",
       "      <td>0</td>\n",
       "      <td>0</td>\n",
       "      <td>0</td>\n",
       "      <td>0</td>\n",
       "    </tr>\n",
       "    <tr>\n",
       "      <th>3191</th>\n",
       "      <td>False</td>\n",
       "      <td>0</td>\n",
       "      <td>0</td>\n",
       "      <td>0</td>\n",
       "      <td>1</td>\n",
       "      <td>0</td>\n",
       "      <td>0</td>\n",
       "      <td>0</td>\n",
       "      <td>0</td>\n",
       "      <td>0</td>\n",
       "      <td>...</td>\n",
       "      <td>0</td>\n",
       "      <td>0</td>\n",
       "      <td>0</td>\n",
       "      <td>0</td>\n",
       "      <td>0</td>\n",
       "      <td>0</td>\n",
       "      <td>0</td>\n",
       "      <td>0</td>\n",
       "      <td>0</td>\n",
       "      <td>0</td>\n",
       "    </tr>\n",
       "    <tr>\n",
       "      <th>2792</th>\n",
       "      <td>False</td>\n",
       "      <td>0</td>\n",
       "      <td>0</td>\n",
       "      <td>0</td>\n",
       "      <td>1</td>\n",
       "      <td>0</td>\n",
       "      <td>0</td>\n",
       "      <td>1</td>\n",
       "      <td>0</td>\n",
       "      <td>0</td>\n",
       "      <td>...</td>\n",
       "      <td>0</td>\n",
       "      <td>0</td>\n",
       "      <td>0</td>\n",
       "      <td>0</td>\n",
       "      <td>0</td>\n",
       "      <td>0</td>\n",
       "      <td>0</td>\n",
       "      <td>0</td>\n",
       "      <td>0</td>\n",
       "      <td>0</td>\n",
       "    </tr>\n",
       "    <tr>\n",
       "      <th>9375</th>\n",
       "      <td>True</td>\n",
       "      <td>0</td>\n",
       "      <td>0</td>\n",
       "      <td>0</td>\n",
       "      <td>1</td>\n",
       "      <td>0</td>\n",
       "      <td>0</td>\n",
       "      <td>0</td>\n",
       "      <td>0</td>\n",
       "      <td>0</td>\n",
       "      <td>...</td>\n",
       "      <td>0</td>\n",
       "      <td>0</td>\n",
       "      <td>0</td>\n",
       "      <td>0</td>\n",
       "      <td>0</td>\n",
       "      <td>0</td>\n",
       "      <td>0</td>\n",
       "      <td>0</td>\n",
       "      <td>0</td>\n",
       "      <td>0</td>\n",
       "    </tr>\n",
       "    <tr>\n",
       "      <th>...</th>\n",
       "      <td>...</td>\n",
       "      <td>...</td>\n",
       "      <td>...</td>\n",
       "      <td>...</td>\n",
       "      <td>...</td>\n",
       "      <td>...</td>\n",
       "      <td>...</td>\n",
       "      <td>...</td>\n",
       "      <td>...</td>\n",
       "      <td>...</td>\n",
       "      <td>...</td>\n",
       "      <td>...</td>\n",
       "      <td>...</td>\n",
       "      <td>...</td>\n",
       "      <td>...</td>\n",
       "      <td>...</td>\n",
       "      <td>...</td>\n",
       "      <td>...</td>\n",
       "      <td>...</td>\n",
       "      <td>...</td>\n",
       "      <td>...</td>\n",
       "    </tr>\n",
       "    <tr>\n",
       "      <th>12177</th>\n",
       "      <td>True</td>\n",
       "      <td>0</td>\n",
       "      <td>1</td>\n",
       "      <td>0</td>\n",
       "      <td>0</td>\n",
       "      <td>0</td>\n",
       "      <td>0</td>\n",
       "      <td>0</td>\n",
       "      <td>0</td>\n",
       "      <td>0</td>\n",
       "      <td>...</td>\n",
       "      <td>0</td>\n",
       "      <td>0</td>\n",
       "      <td>0</td>\n",
       "      <td>0</td>\n",
       "      <td>0</td>\n",
       "      <td>0</td>\n",
       "      <td>0</td>\n",
       "      <td>0</td>\n",
       "      <td>0</td>\n",
       "      <td>0</td>\n",
       "    </tr>\n",
       "    <tr>\n",
       "      <th>8964</th>\n",
       "      <td>True</td>\n",
       "      <td>0</td>\n",
       "      <td>0</td>\n",
       "      <td>0</td>\n",
       "      <td>1</td>\n",
       "      <td>0</td>\n",
       "      <td>0</td>\n",
       "      <td>0</td>\n",
       "      <td>0</td>\n",
       "      <td>0</td>\n",
       "      <td>...</td>\n",
       "      <td>0</td>\n",
       "      <td>0</td>\n",
       "      <td>0</td>\n",
       "      <td>0</td>\n",
       "      <td>0</td>\n",
       "      <td>0</td>\n",
       "      <td>0</td>\n",
       "      <td>0</td>\n",
       "      <td>0</td>\n",
       "      <td>0</td>\n",
       "    </tr>\n",
       "    <tr>\n",
       "      <th>4682</th>\n",
       "      <td>False</td>\n",
       "      <td>0</td>\n",
       "      <td>0</td>\n",
       "      <td>0</td>\n",
       "      <td>1</td>\n",
       "      <td>0</td>\n",
       "      <td>0</td>\n",
       "      <td>0</td>\n",
       "      <td>0</td>\n",
       "      <td>1</td>\n",
       "      <td>...</td>\n",
       "      <td>0</td>\n",
       "      <td>0</td>\n",
       "      <td>0</td>\n",
       "      <td>0</td>\n",
       "      <td>0</td>\n",
       "      <td>0</td>\n",
       "      <td>0</td>\n",
       "      <td>0</td>\n",
       "      <td>0</td>\n",
       "      <td>0</td>\n",
       "    </tr>\n",
       "    <tr>\n",
       "      <th>5278</th>\n",
       "      <td>False</td>\n",
       "      <td>1</td>\n",
       "      <td>0</td>\n",
       "      <td>0</td>\n",
       "      <td>0</td>\n",
       "      <td>0</td>\n",
       "      <td>0</td>\n",
       "      <td>0</td>\n",
       "      <td>1</td>\n",
       "      <td>0</td>\n",
       "      <td>...</td>\n",
       "      <td>0</td>\n",
       "      <td>0</td>\n",
       "      <td>0</td>\n",
       "      <td>0</td>\n",
       "      <td>0</td>\n",
       "      <td>0</td>\n",
       "      <td>0</td>\n",
       "      <td>0</td>\n",
       "      <td>0</td>\n",
       "      <td>0</td>\n",
       "    </tr>\n",
       "    <tr>\n",
       "      <th>7598</th>\n",
       "      <td>False</td>\n",
       "      <td>0</td>\n",
       "      <td>0</td>\n",
       "      <td>0</td>\n",
       "      <td>1</td>\n",
       "      <td>0</td>\n",
       "      <td>0</td>\n",
       "      <td>0</td>\n",
       "      <td>0</td>\n",
       "      <td>0</td>\n",
       "      <td>...</td>\n",
       "      <td>0</td>\n",
       "      <td>0</td>\n",
       "      <td>0</td>\n",
       "      <td>0</td>\n",
       "      <td>0</td>\n",
       "      <td>0</td>\n",
       "      <td>0</td>\n",
       "      <td>0</td>\n",
       "      <td>0</td>\n",
       "      <td>0</td>\n",
       "    </tr>\n",
       "  </tbody>\n",
       "</table>\n",
       "<p>8828 rows × 6927 columns</p>\n",
       "</div>"
      ],
      "text/plain": [
       "       InscritoDAU  Regiao_Centro-oeste  Regiao_Nordeste  Regiao_Norte  \\\n",
       "11454        False                    1                0             0   \n",
       "8765         False                    0                0             0   \n",
       "3191         False                    0                0             0   \n",
       "2792         False                    0                0             0   \n",
       "9375          True                    0                0             0   \n",
       "...            ...                  ...              ...           ...   \n",
       "12177         True                    0                1             0   \n",
       "8964          True                    0                0             0   \n",
       "4682         False                    0                0             0   \n",
       "5278         False                    1                0             0   \n",
       "7598         False                    0                0             0   \n",
       "\n",
       "       Regiao_Sudeste  Regiao_Sul  UF_CE  UF_ES  UF_GO  UF_MG  ...  \\\n",
       "11454               0           0      0      0      1      0  ...   \n",
       "8765                1           0      0      0      0      0  ...   \n",
       "3191                1           0      0      0      0      0  ...   \n",
       "2792                1           0      0      1      0      0  ...   \n",
       "9375                1           0      0      0      0      0  ...   \n",
       "...               ...         ...    ...    ...    ...    ...  ...   \n",
       "12177               0           0      0      0      0      0  ...   \n",
       "8964                1           0      0      0      0      0  ...   \n",
       "4682                1           0      0      0      0      1  ...   \n",
       "5278                0           0      0      0      1      0  ...   \n",
       "7598                1           0      0      0      0      0  ...   \n",
       "\n",
       "       CEP_9910650.0  CEP_9920110.0  CEP_9931050.0  CEP_9940460.0  \\\n",
       "11454              0              0              0              0   \n",
       "8765               0              0              0              0   \n",
       "3191               0              0              0              0   \n",
       "2792               0              0              0              0   \n",
       "9375               0              0              0              0   \n",
       "...              ...            ...            ...            ...   \n",
       "12177              0              0              0              0   \n",
       "8964               0              0              0              0   \n",
       "4682               0              0              0              0   \n",
       "5278               0              0              0              0   \n",
       "7598               0              0              0              0   \n",
       "\n",
       "       CEP_9942030.0  CEP_9942098.0  CEP_9950300.0  CEP_9963370.0  \\\n",
       "11454              0              0              0              0   \n",
       "8765               0              0              0              0   \n",
       "3191               0              0              0              0   \n",
       "2792               0              0              0              0   \n",
       "9375               0              0              0              0   \n",
       "...              ...            ...            ...            ...   \n",
       "12177              0              0              0              0   \n",
       "8964               0              0              0              0   \n",
       "4682               0              0              0              0   \n",
       "5278               0              0              0              0   \n",
       "7598               0              0              0              0   \n",
       "\n",
       "       CEP_9980460.0  CEP_9990244.0  \n",
       "11454              0              0  \n",
       "8765               0              0  \n",
       "3191               0              0  \n",
       "2792               0              0  \n",
       "9375               0              0  \n",
       "...              ...            ...  \n",
       "12177              0              0  \n",
       "8964               0              0  \n",
       "4682               0              0  \n",
       "5278               0              0  \n",
       "7598               0              0  \n",
       "\n",
       "[8828 rows x 6927 columns]"
      ]
     },
     "execution_count": 15,
     "metadata": {},
     "output_type": "execute_result"
    }
   ],
   "source": [
    "xtreinamento"
   ]
  },
  {
   "cell_type": "code",
   "execution_count": 16,
   "metadata": {},
   "outputs": [
    {
     "data": {
      "text/html": [
       "<div>\n",
       "<style scoped>\n",
       "    .dataframe tbody tr th:only-of-type {\n",
       "        vertical-align: middle;\n",
       "    }\n",
       "\n",
       "    .dataframe tbody tr th {\n",
       "        vertical-align: top;\n",
       "    }\n",
       "\n",
       "    .dataframe thead th {\n",
       "        text-align: right;\n",
       "    }\n",
       "</style>\n",
       "<table border=\"1\" class=\"dataframe\">\n",
       "  <thead>\n",
       "    <tr style=\"text-align: right;\">\n",
       "      <th></th>\n",
       "      <th>InscritoDAU</th>\n",
       "      <th>Regiao_Centro-oeste</th>\n",
       "      <th>Regiao_Nordeste</th>\n",
       "      <th>Regiao_Norte</th>\n",
       "      <th>Regiao_Sudeste</th>\n",
       "      <th>Regiao_Sul</th>\n",
       "      <th>UF_CE</th>\n",
       "      <th>UF_ES</th>\n",
       "      <th>UF_GO</th>\n",
       "      <th>UF_MG</th>\n",
       "      <th>...</th>\n",
       "      <th>CEP_9910650.0</th>\n",
       "      <th>CEP_9920110.0</th>\n",
       "      <th>CEP_9931050.0</th>\n",
       "      <th>CEP_9940460.0</th>\n",
       "      <th>CEP_9942030.0</th>\n",
       "      <th>CEP_9942098.0</th>\n",
       "      <th>CEP_9950300.0</th>\n",
       "      <th>CEP_9963370.0</th>\n",
       "      <th>CEP_9980460.0</th>\n",
       "      <th>CEP_9990244.0</th>\n",
       "    </tr>\n",
       "  </thead>\n",
       "  <tbody>\n",
       "    <tr>\n",
       "      <th>6594</th>\n",
       "      <td>False</td>\n",
       "      <td>0</td>\n",
       "      <td>0</td>\n",
       "      <td>0</td>\n",
       "      <td>0</td>\n",
       "      <td>1</td>\n",
       "      <td>0</td>\n",
       "      <td>0</td>\n",
       "      <td>0</td>\n",
       "      <td>0</td>\n",
       "      <td>...</td>\n",
       "      <td>0</td>\n",
       "      <td>0</td>\n",
       "      <td>0</td>\n",
       "      <td>0</td>\n",
       "      <td>0</td>\n",
       "      <td>0</td>\n",
       "      <td>0</td>\n",
       "      <td>0</td>\n",
       "      <td>0</td>\n",
       "      <td>0</td>\n",
       "    </tr>\n",
       "    <tr>\n",
       "      <th>6068</th>\n",
       "      <td>False</td>\n",
       "      <td>0</td>\n",
       "      <td>0</td>\n",
       "      <td>0</td>\n",
       "      <td>1</td>\n",
       "      <td>0</td>\n",
       "      <td>0</td>\n",
       "      <td>0</td>\n",
       "      <td>0</td>\n",
       "      <td>0</td>\n",
       "      <td>...</td>\n",
       "      <td>0</td>\n",
       "      <td>0</td>\n",
       "      <td>0</td>\n",
       "      <td>0</td>\n",
       "      <td>0</td>\n",
       "      <td>0</td>\n",
       "      <td>0</td>\n",
       "      <td>0</td>\n",
       "      <td>0</td>\n",
       "      <td>0</td>\n",
       "    </tr>\n",
       "    <tr>\n",
       "      <th>3782</th>\n",
       "      <td>False</td>\n",
       "      <td>0</td>\n",
       "      <td>0</td>\n",
       "      <td>1</td>\n",
       "      <td>0</td>\n",
       "      <td>0</td>\n",
       "      <td>0</td>\n",
       "      <td>0</td>\n",
       "      <td>0</td>\n",
       "      <td>0</td>\n",
       "      <td>...</td>\n",
       "      <td>0</td>\n",
       "      <td>0</td>\n",
       "      <td>0</td>\n",
       "      <td>0</td>\n",
       "      <td>0</td>\n",
       "      <td>0</td>\n",
       "      <td>0</td>\n",
       "      <td>0</td>\n",
       "      <td>0</td>\n",
       "      <td>0</td>\n",
       "    </tr>\n",
       "    <tr>\n",
       "      <th>1772</th>\n",
       "      <td>False</td>\n",
       "      <td>0</td>\n",
       "      <td>0</td>\n",
       "      <td>0</td>\n",
       "      <td>0</td>\n",
       "      <td>1</td>\n",
       "      <td>0</td>\n",
       "      <td>0</td>\n",
       "      <td>0</td>\n",
       "      <td>0</td>\n",
       "      <td>...</td>\n",
       "      <td>0</td>\n",
       "      <td>0</td>\n",
       "      <td>0</td>\n",
       "      <td>0</td>\n",
       "      <td>0</td>\n",
       "      <td>0</td>\n",
       "      <td>0</td>\n",
       "      <td>0</td>\n",
       "      <td>0</td>\n",
       "      <td>0</td>\n",
       "    </tr>\n",
       "    <tr>\n",
       "      <th>289</th>\n",
       "      <td>False</td>\n",
       "      <td>0</td>\n",
       "      <td>0</td>\n",
       "      <td>0</td>\n",
       "      <td>1</td>\n",
       "      <td>0</td>\n",
       "      <td>0</td>\n",
       "      <td>0</td>\n",
       "      <td>0</td>\n",
       "      <td>0</td>\n",
       "      <td>...</td>\n",
       "      <td>0</td>\n",
       "      <td>0</td>\n",
       "      <td>0</td>\n",
       "      <td>0</td>\n",
       "      <td>0</td>\n",
       "      <td>0</td>\n",
       "      <td>0</td>\n",
       "      <td>0</td>\n",
       "      <td>0</td>\n",
       "      <td>0</td>\n",
       "    </tr>\n",
       "    <tr>\n",
       "      <th>...</th>\n",
       "      <td>...</td>\n",
       "      <td>...</td>\n",
       "      <td>...</td>\n",
       "      <td>...</td>\n",
       "      <td>...</td>\n",
       "      <td>...</td>\n",
       "      <td>...</td>\n",
       "      <td>...</td>\n",
       "      <td>...</td>\n",
       "      <td>...</td>\n",
       "      <td>...</td>\n",
       "      <td>...</td>\n",
       "      <td>...</td>\n",
       "      <td>...</td>\n",
       "      <td>...</td>\n",
       "      <td>...</td>\n",
       "      <td>...</td>\n",
       "      <td>...</td>\n",
       "      <td>...</td>\n",
       "      <td>...</td>\n",
       "      <td>...</td>\n",
       "    </tr>\n",
       "    <tr>\n",
       "      <th>9219</th>\n",
       "      <td>True</td>\n",
       "      <td>0</td>\n",
       "      <td>0</td>\n",
       "      <td>1</td>\n",
       "      <td>0</td>\n",
       "      <td>0</td>\n",
       "      <td>0</td>\n",
       "      <td>0</td>\n",
       "      <td>0</td>\n",
       "      <td>0</td>\n",
       "      <td>...</td>\n",
       "      <td>0</td>\n",
       "      <td>0</td>\n",
       "      <td>0</td>\n",
       "      <td>0</td>\n",
       "      <td>0</td>\n",
       "      <td>0</td>\n",
       "      <td>0</td>\n",
       "      <td>0</td>\n",
       "      <td>0</td>\n",
       "      <td>0</td>\n",
       "    </tr>\n",
       "    <tr>\n",
       "      <th>43</th>\n",
       "      <td>False</td>\n",
       "      <td>0</td>\n",
       "      <td>0</td>\n",
       "      <td>0</td>\n",
       "      <td>1</td>\n",
       "      <td>0</td>\n",
       "      <td>0</td>\n",
       "      <td>0</td>\n",
       "      <td>0</td>\n",
       "      <td>1</td>\n",
       "      <td>...</td>\n",
       "      <td>0</td>\n",
       "      <td>0</td>\n",
       "      <td>0</td>\n",
       "      <td>0</td>\n",
       "      <td>0</td>\n",
       "      <td>0</td>\n",
       "      <td>0</td>\n",
       "      <td>0</td>\n",
       "      <td>0</td>\n",
       "      <td>0</td>\n",
       "    </tr>\n",
       "    <tr>\n",
       "      <th>4719</th>\n",
       "      <td>False</td>\n",
       "      <td>0</td>\n",
       "      <td>0</td>\n",
       "      <td>0</td>\n",
       "      <td>1</td>\n",
       "      <td>0</td>\n",
       "      <td>0</td>\n",
       "      <td>0</td>\n",
       "      <td>0</td>\n",
       "      <td>0</td>\n",
       "      <td>...</td>\n",
       "      <td>0</td>\n",
       "      <td>0</td>\n",
       "      <td>0</td>\n",
       "      <td>0</td>\n",
       "      <td>0</td>\n",
       "      <td>0</td>\n",
       "      <td>0</td>\n",
       "      <td>0</td>\n",
       "      <td>0</td>\n",
       "      <td>0</td>\n",
       "    </tr>\n",
       "    <tr>\n",
       "      <th>225</th>\n",
       "      <td>False</td>\n",
       "      <td>0</td>\n",
       "      <td>0</td>\n",
       "      <td>0</td>\n",
       "      <td>1</td>\n",
       "      <td>0</td>\n",
       "      <td>0</td>\n",
       "      <td>0</td>\n",
       "      <td>0</td>\n",
       "      <td>0</td>\n",
       "      <td>...</td>\n",
       "      <td>0</td>\n",
       "      <td>0</td>\n",
       "      <td>0</td>\n",
       "      <td>0</td>\n",
       "      <td>0</td>\n",
       "      <td>0</td>\n",
       "      <td>0</td>\n",
       "      <td>0</td>\n",
       "      <td>0</td>\n",
       "      <td>0</td>\n",
       "    </tr>\n",
       "    <tr>\n",
       "      <th>9295</th>\n",
       "      <td>False</td>\n",
       "      <td>0</td>\n",
       "      <td>1</td>\n",
       "      <td>0</td>\n",
       "      <td>0</td>\n",
       "      <td>0</td>\n",
       "      <td>0</td>\n",
       "      <td>0</td>\n",
       "      <td>0</td>\n",
       "      <td>0</td>\n",
       "      <td>...</td>\n",
       "      <td>0</td>\n",
       "      <td>0</td>\n",
       "      <td>0</td>\n",
       "      <td>0</td>\n",
       "      <td>0</td>\n",
       "      <td>0</td>\n",
       "      <td>0</td>\n",
       "      <td>0</td>\n",
       "      <td>0</td>\n",
       "      <td>0</td>\n",
       "    </tr>\n",
       "  </tbody>\n",
       "</table>\n",
       "<p>3784 rows × 6927 columns</p>\n",
       "</div>"
      ],
      "text/plain": [
       "      InscritoDAU  Regiao_Centro-oeste  Regiao_Nordeste  Regiao_Norte  \\\n",
       "6594        False                    0                0             0   \n",
       "6068        False                    0                0             0   \n",
       "3782        False                    0                0             1   \n",
       "1772        False                    0                0             0   \n",
       "289         False                    0                0             0   \n",
       "...           ...                  ...              ...           ...   \n",
       "9219         True                    0                0             1   \n",
       "43          False                    0                0             0   \n",
       "4719        False                    0                0             0   \n",
       "225         False                    0                0             0   \n",
       "9295        False                    0                1             0   \n",
       "\n",
       "      Regiao_Sudeste  Regiao_Sul  UF_CE  UF_ES  UF_GO  UF_MG  ...  \\\n",
       "6594               0           1      0      0      0      0  ...   \n",
       "6068               1           0      0      0      0      0  ...   \n",
       "3782               0           0      0      0      0      0  ...   \n",
       "1772               0           1      0      0      0      0  ...   \n",
       "289                1           0      0      0      0      0  ...   \n",
       "...              ...         ...    ...    ...    ...    ...  ...   \n",
       "9219               0           0      0      0      0      0  ...   \n",
       "43                 1           0      0      0      0      1  ...   \n",
       "4719               1           0      0      0      0      0  ...   \n",
       "225                1           0      0      0      0      0  ...   \n",
       "9295               0           0      0      0      0      0  ...   \n",
       "\n",
       "      CEP_9910650.0  CEP_9920110.0  CEP_9931050.0  CEP_9940460.0  \\\n",
       "6594              0              0              0              0   \n",
       "6068              0              0              0              0   \n",
       "3782              0              0              0              0   \n",
       "1772              0              0              0              0   \n",
       "289               0              0              0              0   \n",
       "...             ...            ...            ...            ...   \n",
       "9219              0              0              0              0   \n",
       "43                0              0              0              0   \n",
       "4719              0              0              0              0   \n",
       "225               0              0              0              0   \n",
       "9295              0              0              0              0   \n",
       "\n",
       "      CEP_9942030.0  CEP_9942098.0  CEP_9950300.0  CEP_9963370.0  \\\n",
       "6594              0              0              0              0   \n",
       "6068              0              0              0              0   \n",
       "3782              0              0              0              0   \n",
       "1772              0              0              0              0   \n",
       "289               0              0              0              0   \n",
       "...             ...            ...            ...            ...   \n",
       "9219              0              0              0              0   \n",
       "43                0              0              0              0   \n",
       "4719              0              0              0              0   \n",
       "225               0              0              0              0   \n",
       "9295              0              0              0              0   \n",
       "\n",
       "      CEP_9980460.0  CEP_9990244.0  \n",
       "6594              0              0  \n",
       "6068              0              0  \n",
       "3782              0              0  \n",
       "1772              0              0  \n",
       "289               0              0  \n",
       "...             ...            ...  \n",
       "9219              0              0  \n",
       "43                0              0  \n",
       "4719              0              0  \n",
       "225               0              0  \n",
       "9295              0              0  \n",
       "\n",
       "[3784 rows x 6927 columns]"
      ]
     },
     "execution_count": 16,
     "metadata": {},
     "output_type": "execute_result"
    }
   ],
   "source": [
    "xteste"
   ]
  },
  {
   "cell_type": "code",
   "execution_count": 17,
   "metadata": {
    "id": "INbGlYquAfJ0",
    "outputId": "5bc20dd1-b6ce-451e-8119-d76a5c156db2"
   },
   "outputs": [
    {
     "data": {
      "text/plain": [
       "True     4414\n",
       "False    4414\n",
       "Name: Atendida, dtype: int64"
      ]
     },
     "execution_count": 17,
     "metadata": {},
     "output_type": "execute_result"
    }
   ],
   "source": [
    "ytreinamento.value_counts()"
   ]
  },
  {
   "cell_type": "code",
   "execution_count": 18,
   "metadata": {},
   "outputs": [
    {
     "name": "stdout",
     "output_type": "stream",
     "text": [
      "True     4414\n",
      "False    4414\n",
      "Name: Atendida, dtype: int64\n"
     ]
    },
    {
     "name": "stderr",
     "output_type": "stream",
     "text": [
      "D:\\ANACONDA\\lib\\site-packages\\seaborn\\_decorators.py:36: FutureWarning: Pass the following variable as a keyword arg: x. From version 0.12, the only valid positional argument will be `data`, and passing other arguments without an explicit keyword will result in an error or misinterpretation.\n",
      "  warnings.warn(\n"
     ]
    },
    {
     "data": {
      "image/png": "[encoded data removed]",
      "text/plain": [
       "<Figure size 432x288 with 1 Axes>"
      ]
     },
     "metadata": {
      "needs_background": "light"
     },
     "output_type": "display_data"
    }
   ],
   "source": [
    "fig, ax = plt.subplots()\n",
    "sns.countplot(ytreinamento, ax=ax)\n",
    "ax.set_title('Distribuição das Classes')\n",
    "plt.xlabel('Classe')\n",
    "plt.ylabel('Quantidade')\n",
    "plt.tight_layout();\n",
    "\n",
    "#print do balanceamento\n",
    "print(pd.Series(ytreinamento).value_counts())"
   ]
  },
  {
   "cell_type": "code",
   "execution_count": 19,
   "metadata": {
    "id": "Y7NmJCAWAfJ0",
    "outputId": "31406b9a-9659-4144-a402-0ffa015b970d"
   },
   "outputs": [
    {
     "data": {
      "text/plain": [
       "True     1892\n",
       "False    1892\n",
       "Name: Atendida, dtype: int64"
      ]
     },
     "execution_count": 19,
     "metadata": {},
     "output_type": "execute_result"
    }
   ],
   "source": [
    "yteste.value_counts()"
   ]
  },
  {
   "cell_type": "code",
   "execution_count": 20,
   "metadata": {},
   "outputs": [
    {
     "name": "stderr",
     "output_type": "stream",
     "text": [
      "D:\\ANACONDA\\lib\\site-packages\\seaborn\\_decorators.py:36: FutureWarning: Pass the following variable as a keyword arg: x. From version 0.12, the only valid positional argument will be `data`, and passing other arguments without an explicit keyword will result in an error or misinterpretation.\n",
      "  warnings.warn(\n"
     ]
    },
    {
     "name": "stdout",
     "output_type": "stream",
     "text": [
      "True     4414\n",
      "False    4414\n",
      "Name: Atendida, dtype: int64\n"
     ]
    },
    {
     "data": {
      "image/png": "[encoded data removed]",
      "text/plain": [
       "<Figure size 432x288 with 1 Axes>"
      ]
     },
     "metadata": {
      "needs_background": "light"
     },
     "output_type": "display_data"
    }
   ],
   "source": [
    "fig, ax = plt.subplots()\n",
    "sns.countplot(yteste, ax=ax)\n",
    "ax.set_title('Distribuição das Classes')\n",
    "plt.xlabel('Classe')\n",
    "plt.ylabel('Quantidade')\n",
    "plt.tight_layout();\n",
    "\n",
    "#print do balanceamento\n",
    "print(pd.Series(ytreinamento).value_counts())"
   ]
  },
  {
   "cell_type": "code",
   "execution_count": 21,
   "metadata": {},
   "outputs": [],
   "source": [
    "#Neste ponto do notebook, as bases do \"df_ml\" estão balanceadas pelo SMOTE e separadas em treino e teste"
   ]
  },
  {
   "cell_type": "markdown",
   "metadata": {},
   "source": [
    "# PyCaret preparatório\n",
    "Temos as bases balanceadas e já separadas no train_test_split. Todavia, não sabemos qual modelo de machine learning aplicar. Utilizaremos a ferramenta de automação de machine learning Pycaret apenas como guia para escolher os melhores algoritmos para implementação manual.\n",
    "\n",
    "A documentação do PyCaret dispõe que, ao utilizar o parâmetro fix_imbalance=True, a biblioteca aplica, automaticamente, a técnica  SMOTE. Dessa forma, não há necessidade de aplicar as bases balanceadas por SMOTE, às quais preparamos para o ML manual. Assim, utilizaremos, no PyCaret, a base \"df_ml1\". Como haverá\n",
    "SMOTE automático, a ml1 será semelhante à \"df_ml\" submetida ao SMOTE"
   ]
  },
  {
   "cell_type": "code",
   "execution_count": 22,
   "metadata": {},
   "outputs": [],
   "source": [
    "#PyCaret no automático mas com fix_imbalance=True\n",
    "#pycaret_df_ml = setup(data = ml1, target='Atendida',fix_imbalance=True)\n",
    "#modelsml1 = compare_models()\n",
    "#resultsml1 = pull()"
   ]
  },
  {
   "attachments": {
    "pycarte.jpg": {
     "image/jpeg": "[encoded data removed]"
    }
   },
   "cell_type": "markdown",
   "metadata": {},
   "source": [
    "#Resultado do PyCaret:\n",
    "![pycarte.jpg](attachment:pycarte.jpg)"
   ]
  },
  {
   "cell_type": "markdown",
   "metadata": {
    "id": "C_Y7UC9eAfKc"
   },
   "source": [
    "#  ML manual a partir dos melhores modelos que prospectamos com o PyCaret: et, rf e lr. Privilegiando o recall e, também, para variar dos modelos de árvore, colocamos, também, o lightgbm. Plotamos Matriz de Confusão e grafico de ROC e AUC."
   ]
  },
  {
   "cell_type": "code",
   "execution_count": 23,
   "metadata": {},
   "outputs": [],
   "source": [
    "#Retomamos os train_test_split a partir do oversample (\"_os\") que já tínhamos feito"
   ]
  },
  {
   "cell_type": "code",
   "execution_count": 29,
   "metadata": {
    "id": "b6gkRX79AfKe",
    "outputId": "351d8982-3ebe-4f62-b5dc-42f088c317b2"
   },
   "outputs": [
    {
     "name": "stdout",
     "output_type": "stream",
     "text": [
      "Accuracy Score: 0.7457716701902748\n",
      "              precision    recall  f1-score   support\n",
      "\n",
      "       False       0.70      0.86      0.77      1892\n",
      "        True       0.82      0.63      0.71      1892\n",
      "\n",
      "    accuracy                           0.75      3784\n",
      "   macro avg       0.76      0.75      0.74      3784\n",
      "weighted avg       0.76      0.75      0.74      3784\n",
      "\n"
     ]
    }
   ],
   "source": [
    "# Modelo Extra Trees Classifier\n",
    "et = ExtraTreesClassifier(random_state=0)\n",
    "et = et.fit(xtreinamento, ytreinamento)\n",
    "Train_predict_et = et.predict(xteste)\n",
    "print(\"Accuracy Score:\", accuracy_score(yteste, Train_predict_et))\n",
    "print(classification_report(yteste, Train_predict_et))"
   ]
  },
  {
   "cell_type": "code",
   "execution_count": 30,
   "metadata": {},
   "outputs": [
    {
     "data": {
      "image/png": "[encoded data removed]",
      "text/plain": [
       "<Figure size 432x288 with 2 Axes>"
      ]
     },
     "metadata": {
      "needs_background": "light"
     },
     "output_type": "display_data"
    }
   ],
   "source": [
    "#Matriz de Confusão\n",
    "skplt.metrics.plot_confusion_matrix(yteste, Train_predict_et, normalize=True)\n",
    "plt.show()"
   ]
  },
  {
   "cell_type": "code",
   "execution_count": 31,
   "metadata": {},
   "outputs": [
    {
     "data": {
      "image/png": "[encoded data removed]",
      "text/plain": [
       "<Figure size 500x500 with 1 Axes>"
      ]
     },
     "metadata": {
      "needs_background": "light"
     },
     "output_type": "display_data"
    }
   ],
   "source": [
    "# Curva ROC e área abaixo da curva (AUC)\n",
    "y_pred_et = et.predict_proba(xteste)\n",
    "et_fpr,et_tpr,thereshold = roc_curve(yteste,y_pred_et[:,1]) \n",
    "auc_et = auc(et_fpr,et_tpr)\n",
    "plt.figure(figsize=(5, 5), dpi=100)\n",
    "plt.plot(et_fpr,et_tpr, marker='.', label='Extra Trees Classifier (auc = %0.3f)' % auc_et)\n",
    "plt.xlabel('False Positive Rate -->')\n",
    "plt.ylabel('True Positive Rate -->')\n",
    "plt.legend()\n",
    "plt.show()"
   ]
  },
  {
   "cell_type": "code",
   "execution_count": 32,
   "metadata": {
    "id": "Ax-UE__TAfKe",
    "outputId": "b18699f1-d04b-4aa3-9e8f-1c9d5b53b877"
   },
   "outputs": [
    {
     "name": "stderr",
     "output_type": "stream",
     "text": [
      "D:\\ANACONDA\\lib\\site-packages\\sklearn\\linear_model\\_logistic.py:762: ConvergenceWarning: lbfgs failed to converge (status=1):\n",
      "STOP: TOTAL NO. of ITERATIONS REACHED LIMIT.\n",
      "\n",
      "Increase the number of iterations (max_iter) or scale the data as shown in:\n",
      "    https://scikit-learn.org/stable/modules/preprocessing.html\n",
      "Please also refer to the documentation for alternative solver options:\n",
      "    https://scikit-learn.org/stable/modules/linear_model.html#logistic-regression\n",
      "  n_iter_i = _check_optimize_result(\n"
     ]
    },
    {
     "name": "stdout",
     "output_type": "stream",
     "text": [
      "Accuracy Score: 0.7618921775898521\n",
      "              precision    recall  f1-score   support\n",
      "\n",
      "       False       0.76      0.77      0.76      1892\n",
      "        True       0.76      0.76      0.76      1892\n",
      "\n",
      "    accuracy                           0.76      3784\n",
      "   macro avg       0.76      0.76      0.76      3784\n",
      "weighted avg       0.76      0.76      0.76      3784\n",
      "\n"
     ]
    }
   ],
   "source": [
    "# Modelo Logistic Regression\n",
    "lr = LogisticRegression(random_state=0)\n",
    "lr = lr.fit(xtreinamento, ytreinamento)\n",
    "Train_predict_lr = lr.predict(xteste)\n",
    "print(\"Accuracy Score:\", accuracy_score(yteste, Train_predict_lr))\n",
    "print(classification_report(yteste, Train_predict_lr))"
   ]
  },
  {
   "cell_type": "code",
   "execution_count": 33,
   "metadata": {},
   "outputs": [
    {
     "data": {
      "image/png": "[encoded data removed]",
      "text/plain": [
       "<Figure size 432x288 with 2 Axes>"
      ]
     },
     "metadata": {
      "needs_background": "light"
     },
     "output_type": "display_data"
    }
   ],
   "source": [
    "skplt.metrics.plot_confusion_matrix(yteste, Train_predict_lr, normalize=True)\n",
    "plt.show()"
   ]
  },
  {
   "cell_type": "code",
   "execution_count": 34,
   "metadata": {},
   "outputs": [
    {
     "data": {
      "image/png": "[encoded data removed]",
      "text/plain": [
       "<Figure size 500x500 with 1 Axes>"
      ]
     },
     "metadata": {
      "needs_background": "light"
     },
     "output_type": "display_data"
    }
   ],
   "source": [
    "Y_pred_lr=lr.decision_function(xteste)\n",
    "logistic_fpr,logistic_tpr,thereshold = roc_curve(yteste,Y_pred_lr) # Y_pred_lr do decision_function() acima\n",
    "auc_logistic = auc(logistic_fpr, logistic_tpr)\n",
    "plt.figure(figsize=(5, 5), dpi=100)\n",
    "plt.plot(logistic_fpr, logistic_tpr, marker='.', label='Logistic (auc = %0.3f)' % auc_logistic)\n",
    "plt.xlabel('False Positive Rate -->')\n",
    "plt.ylabel('True Positive Rate -->')\n",
    "plt.legend()\n",
    "plt.show()"
   ]
  },
  {
   "cell_type": "code",
   "execution_count": 35,
   "metadata": {},
   "outputs": [
    {
     "name": "stdout",
     "output_type": "stream",
     "text": [
      "Accuracy Score: 0.7418076109936576\n",
      "              precision    recall  f1-score   support\n",
      "\n",
      "       False       0.74      0.75      0.74      1892\n",
      "        True       0.75      0.73      0.74      1892\n",
      "\n",
      "    accuracy                           0.74      3784\n",
      "   macro avg       0.74      0.74      0.74      3784\n",
      "weighted avg       0.74      0.74      0.74      3784\n",
      "\n"
     ]
    }
   ],
   "source": [
    "# Modelo Light Gradient Boosting Machine\n",
    "import lightgbm\n",
    "from lightgbm import LGBMClassifier\n",
    "lightgbm = LGBMClassifier(random_state=0)\n",
    "lightgbm = lightgbm.fit(xtreinamento, ytreinamento)\n",
    "Train_predict_lightgbm = lightgbm.predict(xteste)\n",
    "print(\"Accuracy Score:\", accuracy_score(yteste, Train_predict_lightgbm))\n",
    "print(classification_report(yteste, Train_predict_lightgbm))"
   ]
  },
  {
   "cell_type": "code",
   "execution_count": 36,
   "metadata": {},
   "outputs": [
    {
     "data": {
      "image/png": "[encoded data removed]",
      "text/plain": [
       "<Figure size 432x288 with 2 Axes>"
      ]
     },
     "metadata": {
      "needs_background": "light"
     },
     "output_type": "display_data"
    }
   ],
   "source": [
    "skplt.metrics.plot_confusion_matrix(yteste, Train_predict_lightgbm, normalize=True)\n",
    "plt.show()"
   ]
  },
  {
   "cell_type": "code",
   "execution_count": 37,
   "metadata": {},
   "outputs": [
    {
     "data": {
      "image/png": "[encoded data removed]",
      "text/plain": [
       "<Figure size 500x500 with 1 Axes>"
      ]
     },
     "metadata": {
      "needs_background": "light"
     },
     "output_type": "display_data"
    }
   ],
   "source": [
    "y_pred_lightgbm = lightgbm.predict_proba(xteste)\n",
    "lightgbm_fpr,lightgbm_tpr,thereshold = roc_curve(yteste,y_pred_et[:,1]) \n",
    "auc_lightgbm = auc(lightgbm_fpr,lightgbm_tpr)\n",
    "plt.figure(figsize=(5, 5), dpi=100)\n",
    "plt.plot(lightgbm_fpr,lightgbm_tpr, marker='.', label='Light GBM (auc = %0.3f)' % auc_lightgbm)\n",
    "plt.xlabel('False Positive Rate -->')\n",
    "plt.ylabel('True Positive Rate -->')\n",
    "plt.legend()\n",
    "plt.show()"
   ]
  },
  {
   "cell_type": "code",
   "execution_count": 43,
   "metadata": {},
   "outputs": [
    {
     "name": "stdout",
     "output_type": "stream",
     "text": [
      "EXTRA TREES CLASSIFIER:\n",
      "Accuracy Score: 0.7457716701902748\n",
      "              precision    recall  f1-score   support\n",
      "\n",
      "       False       0.70      0.86      0.77      1892\n",
      "        True       0.82      0.63      0.71      1892\n",
      "\n",
      "    accuracy                           0.75      3784\n",
      "   macro avg       0.76      0.75      0.74      3784\n",
      "weighted avg       0.76      0.75      0.74      3784\n",
      "\n",
      "REGRESSÃO LOGÍSTICA:\n",
      "Accuracy Score: 0.7618921775898521\n",
      "              precision    recall  f1-score   support\n",
      "\n",
      "       False       0.76      0.77      0.76      1892\n",
      "        True       0.76      0.76      0.76      1892\n",
      "\n",
      "    accuracy                           0.76      3784\n",
      "   macro avg       0.76      0.76      0.76      3784\n",
      "weighted avg       0.76      0.76      0.76      3784\n",
      "\n",
      "LIGHTGBM:\n",
      "Accuracy Score: 0.7418076109936576\n",
      "              precision    recall  f1-score   support\n",
      "\n",
      "       False       0.74      0.75      0.74      1892\n",
      "        True       0.75      0.73      0.74      1892\n",
      "\n",
      "    accuracy                           0.74      3784\n",
      "   macro avg       0.74      0.74      0.74      3784\n",
      "weighted avg       0.74      0.74      0.74      3784\n",
      "\n"
     ]
    }
   ],
   "source": [
    "# Comparativo dos três modelos\n",
    "print(\"EXTRA TREES CLASSIFIER:\")\n",
    "print(\"Accuracy Score:\", accuracy_score(yteste, Train_predict_et))\n",
    "print(classification_report(yteste, Train_predict_et))\n",
    "print(\"REGRESSÃO LOGÍSTICA:\")\n",
    "print(\"Accuracy Score:\", accuracy_score(yteste, Train_predict_lr))\n",
    "print(classification_report(yteste, Train_predict_lr))\n",
    "print(\"LIGHTGBM:\")\n",
    "print(\"Accuracy Score:\", accuracy_score(yteste, Train_predict_lightgbm))\n",
    "print(classification_report(yteste, Train_predict_lightgbm))"
   ]
  },
  {
   "cell_type": "code",
   "execution_count": 44,
   "metadata": {},
   "outputs": [
    {
     "data": {
      "image/png": "[encoded data removed]",
      "text/plain": [
       "<Figure size 500x500 with 1 Axes>"
      ]
     },
     "metadata": {
      "needs_background": "light"
     },
     "output_type": "display_data"
    }
   ],
   "source": [
    "# Comparando AUC dos modelos ExtraTrees, LogisticRegression e LightGBM\n",
    "plt.figure(figsize=(5, 5), dpi=100)\n",
    "plt.plot(logistic_fpr, logistic_tpr, marker='.', label='Logistic (auc = %0.3f)' % auc_logistic)\n",
    "plt.plot(et_fpr,et_tpr, marker='.', label='Extra Trees Classifier (auc = %0.3f)' % auc_et)\n",
    "plt.plot(lightgbm_fpr,lightgbm_tpr, marker='.', label='Light GBM (auc = %0.3f)' % auc_lightgbm)\n",
    "plt.xlabel('False Positive Rate -->')\n",
    "plt.ylabel('True Positive Rate -->')\n",
    "plt.legend()\n",
    "plt.show()"
   ]
  },
  {
   "cell_type": "markdown",
   "metadata": {},
   "source": [
    "A exigência da PUC Minas é de, no mínimo, três modelos de ML. Conforme demonstramos abaixo, o RandomForest gera basicamente o mesmo resultado do ExtraTrees. Dessa forma, utilizaremos, na versão a ser apresentada, os modelos ExtraTrees, LogisticRegression e  LightGBM."
   ]
  },
  {
   "cell_type": "code",
   "execution_count": 40,
   "metadata": {},
   "outputs": [
    {
     "name": "stdout",
     "output_type": "stream",
     "text": [
      "Accuracy Score: 0.7370507399577167\n",
      "              precision    recall  f1-score   support\n",
      "\n",
      "       False       0.69      0.88      0.77      1892\n",
      "        True       0.83      0.60      0.69      1892\n",
      "\n",
      "    accuracy                           0.74      3784\n",
      "   macro avg       0.76      0.74      0.73      3784\n",
      "weighted avg       0.76      0.74      0.73      3784\n",
      "\n"
     ]
    }
   ],
   "source": [
    "#Modelo RandomForest\n",
    "rfm = RandomForestClassifier()\n",
    "rfm = rfm.fit(xtreinamento, ytreinamento)\n",
    "tp_rfm = rfm.predict(xteste)\n",
    "print(\"Accuracy Score:\", accuracy_score(yteste, tp_rfm))\n",
    "print(classification_report(yteste, tp_rfm))"
   ]
  },
  {
   "cell_type": "code",
   "execution_count": 41,
   "metadata": {},
   "outputs": [
    {
     "data": {
      "image/png": "[encoded data removed]",
      "text/plain": [
       "<Figure size 432x288 with 2 Axes>"
      ]
     },
     "metadata": {
      "needs_background": "light"
     },
     "output_type": "display_data"
    }
   ],
   "source": [
    "skplt.metrics.plot_confusion_matrix(yteste, tp_rfm, normalize=True)\n",
    "plt.show()"
   ]
  },
  {
   "cell_type": "code",
   "execution_count": 42,
   "metadata": {},
   "outputs": [
    {
     "data": {
      "image/png": "[encoded data removed]",
      "text/plain": [
       "<Figure size 500x500 with 1 Axes>"
      ]
     },
     "metadata": {
      "needs_background": "light"
     },
     "output_type": "display_data"
    }
   ],
   "source": [
    "y_pred_rfm = rfm.predict_proba(xteste)\n",
    "rfm_fpr,rfm_tpr,thereshold = roc_curve(yteste,y_pred_et[:,1]) \n",
    "auc_rfm = auc(rfm_fpr,rfm_tpr)\n",
    "plt.figure(figsize=(5, 5), dpi=100)\n",
    "plt.plot(rfm_fpr,rfm_tpr, marker='.', label='Extra Trees Classifier (auc = %0.3f)' % auc_rfm)\n",
    "plt.xlabel('False Positive Rate -->')\n",
    "plt.ylabel('True Positive Rate -->')\n",
    "plt.legend()\n",
    "plt.show()"
   ]
  },
  {
   "cell_type": "markdown",
   "metadata": {},
   "source": [
    "# Apêndice: testes mostrando variações que não foram aproveitadas no ML acima"
   ]
  },
  {
   "cell_type": "markdown",
   "metadata": {},
   "source": [
    "# 1) Tentativa sem a coluna CEP"
   ]
  },
  {
   "cell_type": "code",
   "execution_count": null,
   "metadata": {},
   "outputs": [],
   "source": [
    "df_sem_cep = df_ml1[['Regiao','UF','CNAE','Atendida','CodAssunto','SexoConsumidor','FaixaEtaria','InscritoDAU']]"
   ]
  },
  {
   "cell_type": "code",
   "execution_count": null,
   "metadata": {},
   "outputs": [],
   "source": [
    "df_sem_cep"
   ]
  },
  {
   "cell_type": "code",
   "execution_count": null,
   "metadata": {
    "id": "FaMI1A6NAfJu"
   },
   "outputs": [],
   "source": [
    "df_sem_cep = pd.get_dummies(df_sem_cep[['Regiao', \n",
    "                          'UF',                         \n",
    "                          'CNAE',\n",
    "                          'Atendida',                     \n",
    "                          'CodAssunto',\n",
    "                          'SexoConsumidor',\n",
    "                          'FaixaEtaria','InscritoDAU']])"
   ]
  },
  {
   "cell_type": "code",
   "execution_count": null,
   "metadata": {},
   "outputs": [],
   "source": [
    "df_sem_cep.shape # a do ml1 tinha 6922 colunas"
   ]
  },
  {
   "cell_type": "code",
   "execution_count": null,
   "metadata": {
    "id": "yzl99l67AfJv"
   },
   "outputs": [],
   "source": [
    "Xdf_sem_cep = df_sem_cep.drop(['Atendida'],axis=1) \n",
    "ydf_sem_cep = df_sem_cep.Atendida\n",
    "smt = SMOTE()\n",
    "Xdf_sem_cep_os,ydf_sem_cep_os = smt.fit_sample(Xdf_sem_cep,ydf_sem_cep) #os de oversampled\n",
    "counter = Counter(ydf_sem_cep_os)\n",
    "print(counter)"
   ]
  },
  {
   "cell_type": "code",
   "execution_count": null,
   "metadata": {
    "id": "dTeD5bFRAfJw"
   },
   "outputs": [],
   "source": [
    "#Train_test_split nessa oversampled\n",
    "# especificamos o tamanho do test_size = 0.3 pq assim as True/False do ytreinamento e True/False do yteste ficam iguais\n",
    "xtreinamentodf_sem_cep, xtestedf_sem_cep, ytreinamentodf_sem_cep, ytestedf_sem_cep = train_test_split(Xdf_sem_cep_os,ydf_sem_cep_os, test_size = 0.3, stratify=ydf_sem_cep_os,random_state = 0) #_os de oversampled"
   ]
  },
  {
   "cell_type": "markdown",
   "metadata": {
    "id": "C_Y7UC9eAfKc"
   },
   "source": [
    "# ML do df_sem_cep"
   ]
  },
  {
   "cell_type": "code",
   "execution_count": null,
   "metadata": {},
   "outputs": [],
   "source": [
    "#Retomamos os train_test_split a partir do oversample (\"_os\") que já tínhamos feito\n",
    "#xtreinamentodf_sem_cep, xtestedf_sem_cep, ytreinamentodf_sem_cep, ytestedf_sem_cep= train_test_split(Xdf_sem_cep_os,ydf_sem_cep_o, random_state = 0) "
   ]
  },
  {
   "cell_type": "code",
   "execution_count": null,
   "metadata": {
    "id": "b6gkRX79AfKe",
    "outputId": "351d8982-3ebe-4f62-b5dc-42f088c317b2"
   },
   "outputs": [],
   "source": [
    "# Modelo Extra Trees Classifier\n",
    "etdf_sem_cep = ExtraTreesClassifier(random_state=0)\n",
    "etdf_sem_cep = etdf_sem_cep.fit(xtreinamentodf_sem_cep, ytreinamentodf_sem_cep)\n",
    "print(\"Acurácia de treinamento: \", etdf_sem_cep.score(xtreinamentodf_sem_cep, ytreinamentodf_sem_cep))\n",
    "Train_predict_etdf_sem_cep = etdf_sem_cep.predict(xtestedf_sem_cep)\n",
    "print(\"Acurácia de previsão: \", accuracy_score(ytestedf_sem_cep, Train_predict_etdf_sem_cep))\n",
    "print(classification_report(ytestedf_sem_cep, Train_predict_etdf_sem_cep))"
   ]
  },
  {
   "cell_type": "code",
   "execution_count": null,
   "metadata": {
    "id": "Ax-UE__TAfKe",
    "outputId": "b18699f1-d04b-4aa3-9e8f-1c9d5b53b877"
   },
   "outputs": [],
   "source": [
    "# Modelo Logistic Regression\n",
    "lrdf_sem_cep = LogisticRegression(random_state=0)\n",
    "lrdf_sem_cep = lrdf_sem_cep.fit(xtreinamentodf_sem_cep, ytreinamentodf_sem_cep)\n",
    "print(\"Acurácia de treinamento: \", lrdf_sem_cep.score(xtreinamentodf_sem_cep, ytreinamentodf_sem_cep))\n",
    "Train_predict_lrdf_sem_cep = lrdf_sem_cep.predict(xtestedf_sem_cep)\n",
    "print(\"Acurácia de previsão: \", accuracy_score(ytestedf_sem_cep, Train_predict_lrdf_sem_cep))\n",
    "print(classification_report(ytestedf_sem_cep, Train_predict_lrdf_sem_cep))"
   ]
  },
  {
   "cell_type": "code",
   "execution_count": null,
   "metadata": {},
   "outputs": [],
   "source": [
    "# Modelo Light Gradient Boosting Machine\n",
    "import lightgbm\n",
    "from lightgbm import LGBMClassifier\n",
    "lightgbmdf_sem_cep = LGBMClassifier(random_state=0)\n",
    "lightgbmdf_sem_cep = lightgbmdf_sem_cep.fit(xtreinamentodf_sem_cep, ytreinamentodf_sem_cep)\n",
    "print(\"Acurácia de treinamento: \", lightgbmdf_sem_cep.score(xtreinamentodf_sem_cep, ytreinamentodf_sem_cep))\n",
    "Train_predict_lightgbmdf_sem_cep = lightgbmdf_sem_cep.predict(xtestedf_sem_cep)\n",
    "print(\"Acurácia de previsão: \", accuracy_score(ytestedf_sem_cep, Train_predict_lightgbmdf_sem_cep))\n",
    "print(classification_report(ytestedf_sem_cep, Train_predict_lightgbmdf_sem_cep))"
   ]
  },
  {
   "cell_type": "markdown",
   "metadata": {},
   "source": [
    "# 2) Tentativa com LabelEncoder para as de alta cardinalidade"
   ]
  },
  {
   "cell_type": "markdown",
   "metadata": {},
   "source": [
    "A melhor técnica dispõe que devemos criar label enconders para as variáveis de alta cardinalidade. Não obstante, as nossas variáveis categóricas não podem sofrer o enviesamento: um CNAE 8630502 não é 8630502 vezes melhor ou pior do que o CNAE 0000001. Adotar os label encoders para as varáveis verdadeiramente explicativas - CNAE e CodAssunto - implicaria em um descolamento com a realidade dos problemas dessa natureza."
   ]
  },
  {
   "cell_type": "code",
   "execution_count": null,
   "metadata": {},
   "outputs": [],
   "source": [
    "df_le = df_ml1 #leia-se \"dataframe label encoder\" "
   ]
  },
  {
   "cell_type": "code",
   "execution_count": null,
   "metadata": {},
   "outputs": [],
   "source": [
    "from sklearn.preprocessing import LabelEncoder"
   ]
  },
  {
   "cell_type": "code",
   "execution_count": null,
   "metadata": {},
   "outputs": [],
   "source": [
    "df_le.nunique()"
   ]
  },
  {
   "cell_type": "code",
   "execution_count": null,
   "metadata": {},
   "outputs": [],
   "source": [
    "colunascategoricas = df_le.select_dtypes('object').columns\n",
    "colunascategoricas"
   ]
  },
  {
   "cell_type": "code",
   "execution_count": null,
   "metadata": {},
   "outputs": [],
   "source": [
    "for col in colunascategoricas:\n",
    "    df_le[col+'_encoded'] = LabelEncoder().fit_transform(df_le[col])"
   ]
  },
  {
   "cell_type": "code",
   "execution_count": null,
   "metadata": {},
   "outputs": [],
   "source": [
    "df_le"
   ]
  },
  {
   "cell_type": "code",
   "execution_count": null,
   "metadata": {},
   "outputs": [],
   "source": [
    "# Para definir as colunas que permanecerem no nosso nosso dataframe selecionaremos: \n",
    "# para de alta cardinalidade, mantemos LabelEncoder; \n",
    "# para as de baixa e média, criaremos dummies"
   ]
  },
  {
   "cell_type": "code",
   "execution_count": null,
   "metadata": {},
   "outputs": [],
   "source": [
    "df_le = df_le[['Regiao','UF','CNAE_encoded','Atendida','CodAssunto_encoded','SexoConsumidor','FaixaEtaria','CEP_encoded','InscritoDAU']]"
   ]
  },
  {
   "cell_type": "code",
   "execution_count": null,
   "metadata": {},
   "outputs": [],
   "source": [
    "df_le"
   ]
  },
  {
   "cell_type": "code",
   "execution_count": null,
   "metadata": {},
   "outputs": [],
   "source": [
    "# Pois bem, vamos agora criar dummies para 'Regiao' (5 unique), 'UF' (15), SexoConsumidor' (2) e FaixaEtaria (7)"
   ]
  },
  {
   "cell_type": "code",
   "execution_count": null,
   "metadata": {},
   "outputs": [],
   "source": [
    "df_le_du = pd.get_dummies(df_le,\n",
    "                         columns = ['Regiao',\n",
    "                                    'UF',\n",
    "                                    'SexoConsumidor',\n",
    "                                    'FaixaEtaria'],\n",
    "                          prefix = ['Regiao',\n",
    "                                    'UF',\n",
    "                                    'SexoConsumidor',\n",
    "                                    'FaixaEtaria'],\n",
    "                          prefix_sep = '_' )                        \n",
    "                                    "
   ]
  },
  {
   "cell_type": "code",
   "execution_count": null,
   "metadata": {},
   "outputs": [],
   "source": [
    "df_le_du.info()"
   ]
  },
  {
   "cell_type": "code",
   "execution_count": null,
   "metadata": {},
   "outputs": [],
   "source": [
    "df_le_du # leia-se df label encoder com dummies"
   ]
  },
  {
   "cell_type": "code",
   "execution_count": null,
   "metadata": {},
   "outputs": [],
   "source": [
    "df_le_du.info()"
   ]
  },
  {
   "cell_type": "markdown",
   "metadata": {},
   "source": [
    "_________________\n",
    "Agora, então, temos dummies para as de baixa e média cardinalidade:  'Regiao' (5 unique), 'UF' (15 unique), SexoConsumidor' (2 unique) e 'FaixaEtaria' (7); e label encoder para as de alta cardinalidade 'CNAE_encoded' (368 unique), 'CodAssunto_encoded'(175 unique) e CEP (6354 unique)"
   ]
  },
  {
   "cell_type": "code",
   "execution_count": null,
   "metadata": {
    "id": "yzl99l67AfJv"
   },
   "outputs": [],
   "source": [
    "Xdf_le_du = df_le_du.drop(['Atendida'],axis=1) \n",
    "ydf_le_du = df_le_du.Atendida\n",
    "smt = SMOTE()\n",
    "Xdf_le_du_os,ydf_le_du_os = smt.fit_sample(Xdf_le_du,ydf_le_du) #os de oversampled\n",
    "counter = Counter(ydf_le_du_os)\n",
    "print(counter)"
   ]
  },
  {
   "cell_type": "code",
   "execution_count": null,
   "metadata": {
    "id": "dTeD5bFRAfJw"
   },
   "outputs": [],
   "source": [
    "#Train_test_split nessa oversampled\n",
    "# especificamos o tamanho do test_size = 0.3 pq assim as True/False do ytreinamento ficam iguais e as \n",
    "#True/False do yteste também ficam iguais\n",
    "xtreinamentodf_le_du, xtestedf_le_du, ytreinamentodf_le_du, ytestedf_le_du = train_test_split(Xdf_le_du_os,ydf_le_du_os, test_size = 0.3, stratify=ydf_le_du_os,random_state = 0) #_os de oversampled"
   ]
  },
  {
   "cell_type": "code",
   "execution_count": null,
   "metadata": {},
   "outputs": [],
   "source": [
    "#Retomamos os train_test_split a partir do oversample (\"_os\") que já tínhamos feito\n",
    "#xtreinamentodf_le_du, xtestedf_le_du, ytreinamentodf_le_du, ytestedf_le_du = train_test_split(Xdf_le_du_os,ydf_le_du_os, test_size = 0.3, stratify=ydf_le_du_os,random_state = 0) #_os de oversampled"
   ]
  },
  {
   "cell_type": "markdown",
   "metadata": {
    "id": "C_Y7UC9eAfKc"
   },
   "source": [
    "# ML do df_le_du (\"df label encoder dummies\")"
   ]
  },
  {
   "cell_type": "code",
   "execution_count": null,
   "metadata": {},
   "outputs": [],
   "source": [
    "# Modelo Extra Trees Classifier\n",
    "etdf_le_du = ExtraTreesClassifier(random_state=0)\n",
    "etdf_le_du = etdf_le_du.fit(xtreinamentodf_le_du, ytreinamentodf_le_du)\n",
    "print(\"Acurácia de treinamento: \", etdf_le_du.score(xtreinamentodf_le_du, ytreinamentodf_le_du))\n",
    "Train_predict_etdf_le_du = etdf_le_du.predict(xtestedf_le_du)\n",
    "print(\"Acurácia de previsão: \", accuracy_score(ytestedf_le_du, Train_predict_etdf_le_du))\n",
    "print(classification_report(ytestedf_le_du, Train_predict_etdf_le_du))"
   ]
  },
  {
   "cell_type": "code",
   "execution_count": null,
   "metadata": {
    "id": "Ax-UE__TAfKe",
    "outputId": "b18699f1-d04b-4aa3-9e8f-1c9d5b53b877"
   },
   "outputs": [],
   "source": [
    "# Modelo Logistic Regression\n",
    "lrdf_le_du = LogisticRegression(random_state=0)\n",
    "lrdf_le_du = lrdf_le_du.fit(xtreinamentodf_le_du, ytreinamentodf_le_du)\n",
    "print(\"Acurácia de treinamento: \", lrdf_le_du.score(xtreinamentodf_le_du, ytreinamentodf_le_du))\n",
    "Train_predict_lrdf_le_du = lrdf_le_du.predict(xtestedf_le_du)\n",
    "print(\"Acurácia de previsão: \", accuracy_score(ytestedf_le_du, Train_predict_lrdf_le_du))\n",
    "print(classification_report(ytestedf_le_du, Train_predict_lrdf_le_du))"
   ]
  },
  {
   "cell_type": "code",
   "execution_count": null,
   "metadata": {},
   "outputs": [],
   "source": [
    "#Modelo Light Gradient Boosting Machine\n",
    "import lightgbm\n",
    "from lightgbm import LGBMClassifier\n",
    "lightgbmdf_le_du = LGBMClassifier(random_state=0)\n",
    "lightgbmdf_le_du = lightgbmdf_le_du.fit(xtreinamentodf_le_du, ytreinamentodf_le_du)\n",
    "print(\"Acurácia de treinamento: \", lightgbmdf_le_du.score(xtreinamentodf_le_du, ytreinamentodf_le_du))\n",
    "Train_predict_lightgbmdf_le_du = lightgbmdf_le_du.predict(xtestedf_le_du)\n",
    "print(\"Acurácia de previsão: \", accuracy_score(ytestedf_le_du, Train_predict_lightgbmdf_le_du))\n",
    "print(classification_report(ytestedf_le_du, Train_predict_lightgbmdf_le_du))"
   ]
  },
  {
   "cell_type": "markdown",
   "metadata": {},
   "source": [
    "Não obstante melhorar o desempenho dos modelos Extra Trees e LightGBM, houve piora no modelo escolhido, o de Regressão Logística."
   ]
  }
 ],
 "metadata": {
  "colab": {
   "name": "03MachineLearnigRascunhodummiesantesdoSMOTE.ipynb",
   "provenance": []
  },
  "kernelspec": {
   "display_name": "Python 3",
   "language": "python",
   "name": "python3"
  },
  "language_info": {
   "codemirror_mode": {
    "name": "ipython",
    "version": 3
   },
   "file_extension": ".py",
   "mimetype": "text/x-python",
   "name": "python",
   "nbconvert_exporter": "python",
   "pygments_lexer": "ipython3",
   "version": "3.8.5"
  }
 },
 "nbformat": 4,
 "nbformat_minor": 1
}
