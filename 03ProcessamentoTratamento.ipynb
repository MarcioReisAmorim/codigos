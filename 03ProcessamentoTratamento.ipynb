{
 "cells": [
  {
   "cell_type": "markdown",
   "metadata": {},
   "source": [
    "# Neste notebook, trataremos o dataset que será submetido ao ML"
   ]
  },
  {
   "cell_type": "code",
   "execution_count": 1,
   "metadata": {},
   "outputs": [],
   "source": [
    "import pandas as pd\n",
    "from collections import Counter"
   ]
  },
  {
   "cell_type": "code",
   "execution_count": 2,
   "metadata": {},
   "outputs": [],
   "source": [
    "df = pd.read_csv(r'C:\\Users\\73594253368\\Desktop\\Curso\\Datasets\\Procon\\df_merged.csv')"
   ]
  },
  {
   "cell_type": "code",
   "execution_count": 3,
   "metadata": {},
   "outputs": [
    {
     "name": "stdout",
     "output_type": "stream",
     "text": [
      "<class 'pandas.core.frame.DataFrame'>\n",
      "RangeIndex: 16028 entries, 0 to 16027\n",
      "Data columns (total 27 columns):\n",
      " #   Column                 Non-Null Count  Dtype  \n",
      "---  ------                 --------------  -----  \n",
      " 0   Unnamed: 0             16028 non-null  int64  \n",
      " 1   index1                 16028 non-null  int64  \n",
      " 2   AnoCalendario          16028 non-null  int64  \n",
      " 3   DataArquivamento       16028 non-null  object \n",
      " 4   DataAbertura           16028 non-null  object \n",
      " 5   CodigoRegiao           16028 non-null  int64  \n",
      " 6   Regiao                 16028 non-null  object \n",
      " 7   UF                     16028 non-null  object \n",
      " 8   strRazaoSocial         16028 non-null  object \n",
      " 9   strNomeFantasia        13123 non-null  object \n",
      " 10  Tipo                   16028 non-null  int64  \n",
      " 11  NumeroCNPJ             16028 non-null  int64  \n",
      " 12  RadicalCNPJ            15974 non-null  float64\n",
      " 13  RazaoSocialRFB         14311 non-null  object \n",
      " 14  NomeFantasiaRFB        7470 non-null   object \n",
      " 15  CNAEPrincipal          14311 non-null  float64\n",
      " 16  DescCNAEPrincipal      14241 non-null  object \n",
      " 17  Atendida               16028 non-null  object \n",
      " 18  CodigoAssunto          16014 non-null  float64\n",
      " 19  DescricaoAssunto       16014 non-null  object \n",
      " 20  CodigoProblema         43 non-null     float64\n",
      " 21  DescricaoProblema      43 non-null     object \n",
      " 22  SexoConsumidor         16022 non-null  object \n",
      " 23  FaixaEtariaConsumidor  16028 non-null  object \n",
      " 24  CEPConsumidor          13003 non-null  float64\n",
      " 25  CNPJ                   5654 non-null   float64\n",
      " 26  Tipo_Pessoa            5654 non-null   object \n",
      "dtypes: float64(6), int64(6), object(15)\n",
      "memory usage: 3.3+ MB\n"
     ]
    }
   ],
   "source": [
    "df.info()"
   ]
  },
  {
   "cell_type": "code",
   "execution_count": 4,
   "metadata": {},
   "outputs": [],
   "source": [
    "#Mantendo apenas as colunas que vão interessar\n",
    "#A única coluna do dataframe da PFN que vamos manter, \"Tipo_Pessoa\", é a apenas para indicar se é inscrita em DAU\n",
    "# Inclusive renomearemos esta única coluna que veio da PFN para 'InscritoDAU'\n",
    "df = df[['Regiao','UF','Tipo','CNAEPrincipal','Atendida','CodigoAssunto','SexoConsumidor','FaixaEtariaConsumidor',\n",
    "         'CEPConsumidor','Tipo_Pessoa']]"
   ]
  },
  {
   "cell_type": "code",
   "execution_count": 5,
   "metadata": {},
   "outputs": [
    {
     "data": {
      "text/html": [
       "<div>\n",
       "<style scoped>\n",
       "    .dataframe tbody tr th:only-of-type {\n",
       "        vertical-align: middle;\n",
       "    }\n",
       "\n",
       "    .dataframe tbody tr th {\n",
       "        vertical-align: top;\n",
       "    }\n",
       "\n",
       "    .dataframe thead th {\n",
       "        text-align: right;\n",
       "    }\n",
       "</style>\n",
       "<table border=\"1\" class=\"dataframe\">\n",
       "  <thead>\n",
       "    <tr style=\"text-align: right;\">\n",
       "      <th></th>\n",
       "      <th>Regiao</th>\n",
       "      <th>UF</th>\n",
       "      <th>Tipo</th>\n",
       "      <th>CNAEPrincipal</th>\n",
       "      <th>Atendida</th>\n",
       "      <th>CodigoAssunto</th>\n",
       "      <th>SexoConsumidor</th>\n",
       "      <th>FaixaEtariaConsumidor</th>\n",
       "      <th>CEPConsumidor</th>\n",
       "      <th>Tipo_Pessoa</th>\n",
       "    </tr>\n",
       "  </thead>\n",
       "  <tbody>\n",
       "    <tr>\n",
       "      <th>0</th>\n",
       "      <td>Norte</td>\n",
       "      <td>RO</td>\n",
       "      <td>1</td>\n",
       "      <td>6120501.0</td>\n",
       "      <td>N</td>\n",
       "      <td>187.0</td>\n",
       "      <td>M</td>\n",
       "      <td>entre 51 a 60 anos</td>\n",
       "      <td>76824042.0</td>\n",
       "      <td>Pessoa jurídica</td>\n",
       "    </tr>\n",
       "    <tr>\n",
       "      <th>1</th>\n",
       "      <td>Norte</td>\n",
       "      <td>RO</td>\n",
       "      <td>1</td>\n",
       "      <td>6422100.0</td>\n",
       "      <td>N</td>\n",
       "      <td>53.0</td>\n",
       "      <td>F</td>\n",
       "      <td>entre 41 a 50 anos</td>\n",
       "      <td>NaN</td>\n",
       "      <td>Pessoa jurídica</td>\n",
       "    </tr>\n",
       "    <tr>\n",
       "      <th>2</th>\n",
       "      <td>Norte</td>\n",
       "      <td>RO</td>\n",
       "      <td>1</td>\n",
       "      <td>3514000.0</td>\n",
       "      <td>N</td>\n",
       "      <td>185.0</td>\n",
       "      <td>M</td>\n",
       "      <td>entre 41 a 50 anos</td>\n",
       "      <td>76824322.0</td>\n",
       "      <td>NaN</td>\n",
       "    </tr>\n",
       "    <tr>\n",
       "      <th>3</th>\n",
       "      <td>Norte</td>\n",
       "      <td>RO</td>\n",
       "      <td>1</td>\n",
       "      <td>8599604.0</td>\n",
       "      <td>S</td>\n",
       "      <td>236.0</td>\n",
       "      <td>M</td>\n",
       "      <td>entre 31 a 40 anos</td>\n",
       "      <td>78932000.0</td>\n",
       "      <td>NaN</td>\n",
       "    </tr>\n",
       "    <tr>\n",
       "      <th>4</th>\n",
       "      <td>Norte</td>\n",
       "      <td>RO</td>\n",
       "      <td>1</td>\n",
       "      <td>6120501.0</td>\n",
       "      <td>S</td>\n",
       "      <td>187.0</td>\n",
       "      <td>M</td>\n",
       "      <td>entre 51 a 60 anos</td>\n",
       "      <td>78932000.0</td>\n",
       "      <td>Pessoa jurídica</td>\n",
       "    </tr>\n",
       "  </tbody>\n",
       "</table>\n",
       "</div>"
      ],
      "text/plain": [
       "  Regiao  UF  Tipo  CNAEPrincipal Atendida  CodigoAssunto SexoConsumidor  \\\n",
       "0  Norte  RO     1      6120501.0        N          187.0              M   \n",
       "1  Norte  RO     1      6422100.0        N           53.0              F   \n",
       "2  Norte  RO     1      3514000.0        N          185.0              M   \n",
       "3  Norte  RO     1      8599604.0        S          236.0              M   \n",
       "4  Norte  RO     1      6120501.0        S          187.0              M   \n",
       "\n",
       "  FaixaEtariaConsumidor  CEPConsumidor      Tipo_Pessoa  \n",
       "0    entre 51 a 60 anos     76824042.0  Pessoa jurídica  \n",
       "1    entre 41 a 50 anos            NaN  Pessoa jurídica  \n",
       "2    entre 41 a 50 anos     76824322.0              NaN  \n",
       "3    entre 31 a 40 anos     78932000.0              NaN  \n",
       "4    entre 51 a 60 anos     78932000.0  Pessoa jurídica  "
      ]
     },
     "execution_count": 5,
     "metadata": {},
     "output_type": "execute_result"
    }
   ],
   "source": [
    "df.head()"
   ]
  },
  {
   "cell_type": "code",
   "execution_count": 6,
   "metadata": {},
   "outputs": [
    {
     "data": {
      "text/plain": [
       "(16028, 10)"
      ]
     },
     "execution_count": 6,
     "metadata": {},
     "output_type": "execute_result"
    }
   ],
   "source": [
    "df.shape"
   ]
  },
  {
   "cell_type": "code",
   "execution_count": 7,
   "metadata": {},
   "outputs": [],
   "source": [
    "#Renomeando as colunas\n",
    "df.rename(columns = {'CNAEPrincipal':'CNAE','CodigoAssunto': 'CodAssunto','FaixaEtariaConsumidor':'FaixaEtaria',\n",
    "                     'CEPConsumidor':'CEP','Tipo_Pessoa':'InscritoDAU'}, inplace=True)"
   ]
  },
  {
   "cell_type": "code",
   "execution_count": 8,
   "metadata": {},
   "outputs": [
    {
     "data": {
      "text/html": [
       "<div>\n",
       "<style scoped>\n",
       "    .dataframe tbody tr th:only-of-type {\n",
       "        vertical-align: middle;\n",
       "    }\n",
       "\n",
       "    .dataframe tbody tr th {\n",
       "        vertical-align: top;\n",
       "    }\n",
       "\n",
       "    .dataframe thead th {\n",
       "        text-align: right;\n",
       "    }\n",
       "</style>\n",
       "<table border=\"1\" class=\"dataframe\">\n",
       "  <thead>\n",
       "    <tr style=\"text-align: right;\">\n",
       "      <th></th>\n",
       "      <th>Regiao</th>\n",
       "      <th>UF</th>\n",
       "      <th>Tipo</th>\n",
       "      <th>CNAE</th>\n",
       "      <th>Atendida</th>\n",
       "      <th>CodAssunto</th>\n",
       "      <th>SexoConsumidor</th>\n",
       "      <th>FaixaEtaria</th>\n",
       "      <th>CEP</th>\n",
       "      <th>InscritoDAU</th>\n",
       "    </tr>\n",
       "  </thead>\n",
       "  <tbody>\n",
       "    <tr>\n",
       "      <th>0</th>\n",
       "      <td>Norte</td>\n",
       "      <td>RO</td>\n",
       "      <td>1</td>\n",
       "      <td>6120501.0</td>\n",
       "      <td>N</td>\n",
       "      <td>187.0</td>\n",
       "      <td>M</td>\n",
       "      <td>entre 51 a 60 anos</td>\n",
       "      <td>76824042.0</td>\n",
       "      <td>Pessoa jurídica</td>\n",
       "    </tr>\n",
       "    <tr>\n",
       "      <th>1</th>\n",
       "      <td>Norte</td>\n",
       "      <td>RO</td>\n",
       "      <td>1</td>\n",
       "      <td>6422100.0</td>\n",
       "      <td>N</td>\n",
       "      <td>53.0</td>\n",
       "      <td>F</td>\n",
       "      <td>entre 41 a 50 anos</td>\n",
       "      <td>NaN</td>\n",
       "      <td>Pessoa jurídica</td>\n",
       "    </tr>\n",
       "    <tr>\n",
       "      <th>2</th>\n",
       "      <td>Norte</td>\n",
       "      <td>RO</td>\n",
       "      <td>1</td>\n",
       "      <td>3514000.0</td>\n",
       "      <td>N</td>\n",
       "      <td>185.0</td>\n",
       "      <td>M</td>\n",
       "      <td>entre 41 a 50 anos</td>\n",
       "      <td>76824322.0</td>\n",
       "      <td>NaN</td>\n",
       "    </tr>\n",
       "    <tr>\n",
       "      <th>3</th>\n",
       "      <td>Norte</td>\n",
       "      <td>RO</td>\n",
       "      <td>1</td>\n",
       "      <td>8599604.0</td>\n",
       "      <td>S</td>\n",
       "      <td>236.0</td>\n",
       "      <td>M</td>\n",
       "      <td>entre 31 a 40 anos</td>\n",
       "      <td>78932000.0</td>\n",
       "      <td>NaN</td>\n",
       "    </tr>\n",
       "    <tr>\n",
       "      <th>4</th>\n",
       "      <td>Norte</td>\n",
       "      <td>RO</td>\n",
       "      <td>1</td>\n",
       "      <td>6120501.0</td>\n",
       "      <td>S</td>\n",
       "      <td>187.0</td>\n",
       "      <td>M</td>\n",
       "      <td>entre 51 a 60 anos</td>\n",
       "      <td>78932000.0</td>\n",
       "      <td>Pessoa jurídica</td>\n",
       "    </tr>\n",
       "  </tbody>\n",
       "</table>\n",
       "</div>"
      ],
      "text/plain": [
       "  Regiao  UF  Tipo       CNAE Atendida  CodAssunto SexoConsumidor  \\\n",
       "0  Norte  RO     1  6120501.0        N       187.0              M   \n",
       "1  Norte  RO     1  6422100.0        N        53.0              F   \n",
       "2  Norte  RO     1  3514000.0        N       185.0              M   \n",
       "3  Norte  RO     1  8599604.0        S       236.0              M   \n",
       "4  Norte  RO     1  6120501.0        S       187.0              M   \n",
       "\n",
       "          FaixaEtaria         CEP      InscritoDAU  \n",
       "0  entre 51 a 60 anos  76824042.0  Pessoa jurídica  \n",
       "1  entre 41 a 50 anos         NaN  Pessoa jurídica  \n",
       "2  entre 41 a 50 anos  76824322.0              NaN  \n",
       "3  entre 31 a 40 anos  78932000.0              NaN  \n",
       "4  entre 51 a 60 anos  78932000.0  Pessoa jurídica  "
      ]
     },
     "execution_count": 8,
     "metadata": {},
     "output_type": "execute_result"
    }
   ],
   "source": [
    "df.head()"
   ]
  },
  {
   "cell_type": "code",
   "execution_count": 9,
   "metadata": {},
   "outputs": [
    {
     "data": {
      "text/plain": [
       "NaN                10374\n",
       "Pessoa jurídica     5654\n",
       "Name: InscritoDAU, dtype: int64"
      ]
     },
     "execution_count": 9,
     "metadata": {},
     "output_type": "execute_result"
    }
   ],
   "source": [
    "df['InscritoDAU'].value_counts(dropna=False)"
   ]
  },
  {
   "cell_type": "markdown",
   "metadata": {},
   "source": [
    "# Tratamento das colunas \"booleanas\""
   ]
  },
  {
   "cell_type": "code",
   "execution_count": 10,
   "metadata": {},
   "outputs": [],
   "source": [
    "#A informação que queremos dessa coluna que veio do dataset da PFN é se está inscrito em DAU ou não. \n",
    "#Substituímos a presença de algo por \"1\"; substituímos os \"N/A\" por zeros, formando, assim, um binário zero ou um\n",
    "df['InscritoDAU'] = df['InscritoDAU'].replace('Pessoa jurídica', '1')\n",
    "df['InscritoDAU'].fillna(0, inplace=True)"
   ]
  },
  {
   "cell_type": "code",
   "execution_count": 11,
   "metadata": {},
   "outputs": [
    {
     "data": {
      "text/plain": [
       "0    10374\n",
       "1     5654\n",
       "Name: InscritoDAU, dtype: int64"
      ]
     },
     "execution_count": 11,
     "metadata": {},
     "output_type": "execute_result"
    }
   ],
   "source": [
    "df['InscritoDAU'].value_counts()"
   ]
  },
  {
   "cell_type": "code",
   "execution_count": 12,
   "metadata": {},
   "outputs": [],
   "source": [
    "# Fizemos o mesmo para a mais importante coluna do Sindec, a de se a demanda do consumidor foi atendida ou não\n",
    "df['Atendida'] = df['Atendida'].str.replace('S', '1')"
   ]
  },
  {
   "cell_type": "code",
   "execution_count": 13,
   "metadata": {},
   "outputs": [],
   "source": [
    "df['Atendida'] = df['Atendida'].str.replace('N', '0')"
   ]
  },
  {
   "cell_type": "code",
   "execution_count": 14,
   "metadata": {},
   "outputs": [
    {
     "data": {
      "text/plain": [
       "1    9355\n",
       "0    6673\n",
       "Name: Atendida, dtype: int64"
      ]
     },
     "execution_count": 14,
     "metadata": {},
     "output_type": "execute_result"
    }
   ],
   "source": [
    "df['Atendida'].value_counts()"
   ]
  },
  {
   "cell_type": "code",
   "execution_count": 15,
   "metadata": {},
   "outputs": [],
   "source": [
    "# Transformamos em inteiras \n",
    "df['InscritoDAU'] = pd.to_numeric(df['InscritoDAU'],downcast='integer')\n",
    "df['Atendida'] = pd.to_numeric(df['Atendida'],downcast='integer')"
   ]
  },
  {
   "cell_type": "code",
   "execution_count": 16,
   "metadata": {},
   "outputs": [
    {
     "name": "stdout",
     "output_type": "stream",
     "text": [
      "<class 'pandas.core.frame.DataFrame'>\n",
      "RangeIndex: 16028 entries, 0 to 16027\n",
      "Data columns (total 10 columns):\n",
      " #   Column          Non-Null Count  Dtype  \n",
      "---  ------          --------------  -----  \n",
      " 0   Regiao          16028 non-null  object \n",
      " 1   UF              16028 non-null  object \n",
      " 2   Tipo            16028 non-null  int64  \n",
      " 3   CNAE            14311 non-null  float64\n",
      " 4   Atendida        16028 non-null  int8   \n",
      " 5   CodAssunto      16014 non-null  float64\n",
      " 6   SexoConsumidor  16022 non-null  object \n",
      " 7   FaixaEtaria     16028 non-null  object \n",
      " 8   CEP             13003 non-null  float64\n",
      " 9   InscritoDAU     16028 non-null  int8   \n",
      "dtypes: float64(3), int64(1), int8(2), object(4)\n",
      "memory usage: 1.0+ MB\n"
     ]
    }
   ],
   "source": [
    "df.info()"
   ]
  },
  {
   "cell_type": "markdown",
   "metadata": {},
   "source": [
    "# Tratamento das outras colunas"
   ]
  },
  {
   "cell_type": "code",
   "execution_count": 17,
   "metadata": {},
   "outputs": [
    {
     "data": {
      "text/plain": [
       "Sudeste         7470\n",
       "Norte           3276\n",
       "Centro-oeste    3070\n",
       "Nordeste        1403\n",
       "Sul              809\n",
       "Name: Regiao, dtype: int64"
      ]
     },
     "execution_count": 17,
     "metadata": {},
     "output_type": "execute_result"
    }
   ],
   "source": [
    "# 0   Regiao            16028 non-null  object - mantemos pq está sem valores nulos, é categórica e estão todas corretas\n",
    "df['Regiao'].value_counts()"
   ]
  },
  {
   "cell_type": "code",
   "execution_count": 18,
   "metadata": {},
   "outputs": [
    {
     "data": {
      "text/plain": [
       "SP    3363\n",
       "RO    3217\n",
       "RJ    2129\n",
       "GO    2129\n",
       "MG    1574\n",
       "RN    1181\n",
       "MT     849\n",
       "SC     683\n",
       "ES     404\n",
       "CE     113\n",
       "PB     109\n",
       "MS      92\n",
       "RS      75\n",
       "PA      59\n",
       "PR      51\n",
       "Name: UF, dtype: int64"
      ]
     },
     "execution_count": 18,
     "metadata": {},
     "output_type": "execute_result"
    }
   ],
   "source": [
    "#  1   UF    16028 non-null  object mantemos pq está sem valores nulos, é categórica e estão todas corretas\n",
    "df['UF'].value_counts()"
   ]
  },
  {
   "cell_type": "code",
   "execution_count": 19,
   "metadata": {},
   "outputs": [
    {
     "data": {
      "text/plain": [
       "1    15974\n",
       "0       54\n",
       "Name: Tipo, dtype: int64"
      ]
     },
     "execution_count": 19,
     "metadata": {},
     "output_type": "execute_result"
    }
   ],
   "source": [
    "#2   Tipo              16028 non-null  int64 - retiraremos as que eram \"0\", pois, segundo o \"Dicionario de dados Sindec\"\n",
    "# o \"Tipo\" igual a \"O\" é de pessoa física\n",
    "df['Tipo'].value_counts()"
   ]
  },
  {
   "cell_type": "code",
   "execution_count": 20,
   "metadata": {},
   "outputs": [],
   "source": [
    "# Metodo .loc para filtrar\n",
    "df = df.loc[(df['Tipo']==1)]"
   ]
  },
  {
   "cell_type": "code",
   "execution_count": 21,
   "metadata": {},
   "outputs": [
    {
     "data": {
      "text/plain": [
       "1    15974\n",
       "Name: Tipo, dtype: int64"
      ]
     },
     "execution_count": 21,
     "metadata": {},
     "output_type": "execute_result"
    }
   ],
   "source": [
    "df['Tipo'].value_counts()"
   ]
  },
  {
   "cell_type": "code",
   "execution_count": 22,
   "metadata": {},
   "outputs": [
    {
     "data": {
      "text/plain": [
       "6422100.0    1363\n",
       "3514000.0    1140\n",
       "6120501.0     961\n",
       "6110801.0     841\n",
       "4753900.0     700\n",
       "             ... \n",
       "4520007.0       1\n",
       "4665600.0       1\n",
       "3250701.0       1\n",
       "1811301.0       1\n",
       "2550102.0       1\n",
       "Name: CNAE, Length: 407, dtype: int64"
      ]
     },
     "execution_count": 22,
     "metadata": {},
     "output_type": "execute_result"
    }
   ],
   "source": [
    "#3   CNAE              14311 non-null  float64\n",
    "# Mudamos para object para não atrapalhar a etapa de ML (é categórica)\n",
    "# Retiramos os null\n",
    "df['CNAE'].value_counts()\n"
   ]
  },
  {
   "cell_type": "code",
   "execution_count": 23,
   "metadata": {},
   "outputs": [],
   "source": [
    "df = df.dropna(subset=['CNAE']).dropna(axis=1, how = 'all')"
   ]
  },
  {
   "cell_type": "code",
   "execution_count": 24,
   "metadata": {},
   "outputs": [],
   "source": [
    "df = df.astype({'CNAE': object})"
   ]
  },
  {
   "cell_type": "code",
   "execution_count": 25,
   "metadata": {},
   "outputs": [
    {
     "data": {
      "text/plain": [
       "(14311, 10)"
      ]
     },
     "execution_count": 25,
     "metadata": {},
     "output_type": "execute_result"
    }
   ],
   "source": [
    "df.shape"
   ]
  },
  {
   "cell_type": "code",
   "execution_count": 26,
   "metadata": {},
   "outputs": [],
   "source": [
    "#5   CodAssunto        14297 non-null  float64\n",
    "# Retiramos os null\n",
    "# Mudamos para object para não atrapalhar a etapa de ML (é categórica)\n",
    "\n",
    "df = df.dropna(subset=['CodAssunto']).dropna(axis=1, how = 'all')\n",
    "df = df.astype({'CodAssunto': object})"
   ]
  },
  {
   "cell_type": "code",
   "execution_count": 27,
   "metadata": {},
   "outputs": [
    {
     "data": {
      "text/plain": [
       "(14297, 10)"
      ]
     },
     "execution_count": 27,
     "metadata": {},
     "output_type": "execute_result"
    }
   ],
   "source": [
    "df.shape"
   ]
  },
  {
   "cell_type": "code",
   "execution_count": 28,
   "metadata": {},
   "outputs": [
    {
     "name": "stdout",
     "output_type": "stream",
     "text": [
      "<class 'pandas.core.frame.DataFrame'>\n",
      "Int64Index: 14297 entries, 0 to 16027\n",
      "Data columns (total 10 columns):\n",
      " #   Column          Non-Null Count  Dtype  \n",
      "---  ------          --------------  -----  \n",
      " 0   Regiao          14297 non-null  object \n",
      " 1   UF              14297 non-null  object \n",
      " 2   Tipo            14297 non-null  int64  \n",
      " 3   CNAE            14297 non-null  object \n",
      " 4   Atendida        14297 non-null  int8   \n",
      " 5   CodAssunto      14297 non-null  object \n",
      " 6   SexoConsumidor  14292 non-null  object \n",
      " 7   FaixaEtaria     14297 non-null  object \n",
      " 8   CEP             11596 non-null  float64\n",
      " 9   InscritoDAU     14297 non-null  int8   \n",
      "dtypes: float64(1), int64(1), int8(2), object(6)\n",
      "memory usage: 1.0+ MB\n"
     ]
    }
   ],
   "source": [
    "df.info()"
   ]
  },
  {
   "cell_type": "code",
   "execution_count": 29,
   "metadata": {},
   "outputs": [
    {
     "data": {
      "text/plain": [
       "F    7422\n",
       "M    6707\n",
       "N     163\n",
       "Name: SexoConsumidor, dtype: int64"
      ]
     },
     "execution_count": 29,
     "metadata": {},
     "output_type": "execute_result"
    }
   ],
   "source": [
    "#6   SexoConsumidor_x  14292 non-null  object\n",
    "# Optamos por retirar as linhas com \"N\" apenas porque queremos manter as linhas todas preenchidas\n",
    "df['SexoConsumidor'].value_counts()"
   ]
  },
  {
   "cell_type": "code",
   "execution_count": 30,
   "metadata": {},
   "outputs": [],
   "source": [
    "#Metodo loc com uso do operador | (\"ou\") para fazer a query\n",
    "df = df.loc[(df['SexoConsumidor']=='F') | (df['SexoConsumidor']=='M')]"
   ]
  },
  {
   "cell_type": "code",
   "execution_count": 31,
   "metadata": {},
   "outputs": [
    {
     "data": {
      "text/plain": [
       "(14129, 10)"
      ]
     },
     "execution_count": 31,
     "metadata": {},
     "output_type": "execute_result"
    }
   ],
   "source": [
    "df.shape"
   ]
  },
  {
   "cell_type": "code",
   "execution_count": 32,
   "metadata": {},
   "outputs": [
    {
     "data": {
      "text/html": [
       "<div>\n",
       "<style scoped>\n",
       "    .dataframe tbody tr th:only-of-type {\n",
       "        vertical-align: middle;\n",
       "    }\n",
       "\n",
       "    .dataframe tbody tr th {\n",
       "        vertical-align: top;\n",
       "    }\n",
       "\n",
       "    .dataframe thead th {\n",
       "        text-align: right;\n",
       "    }\n",
       "</style>\n",
       "<table border=\"1\" class=\"dataframe\">\n",
       "  <thead>\n",
       "    <tr style=\"text-align: right;\">\n",
       "      <th></th>\n",
       "      <th>Regiao</th>\n",
       "      <th>UF</th>\n",
       "      <th>Tipo</th>\n",
       "      <th>CNAE</th>\n",
       "      <th>Atendida</th>\n",
       "      <th>CodAssunto</th>\n",
       "      <th>SexoConsumidor</th>\n",
       "      <th>FaixaEtaria</th>\n",
       "      <th>CEP</th>\n",
       "      <th>InscritoDAU</th>\n",
       "    </tr>\n",
       "  </thead>\n",
       "  <tbody>\n",
       "    <tr>\n",
       "      <th>0</th>\n",
       "      <td>Norte</td>\n",
       "      <td>RO</td>\n",
       "      <td>1</td>\n",
       "      <td>6.1205e+06</td>\n",
       "      <td>0</td>\n",
       "      <td>187</td>\n",
       "      <td>M</td>\n",
       "      <td>entre 51 a 60 anos</td>\n",
       "      <td>76824042.0</td>\n",
       "      <td>1</td>\n",
       "    </tr>\n",
       "    <tr>\n",
       "      <th>1</th>\n",
       "      <td>Norte</td>\n",
       "      <td>RO</td>\n",
       "      <td>1</td>\n",
       "      <td>6.4221e+06</td>\n",
       "      <td>0</td>\n",
       "      <td>53</td>\n",
       "      <td>F</td>\n",
       "      <td>entre 41 a 50 anos</td>\n",
       "      <td>NaN</td>\n",
       "      <td>1</td>\n",
       "    </tr>\n",
       "    <tr>\n",
       "      <th>2</th>\n",
       "      <td>Norte</td>\n",
       "      <td>RO</td>\n",
       "      <td>1</td>\n",
       "      <td>3.514e+06</td>\n",
       "      <td>0</td>\n",
       "      <td>185</td>\n",
       "      <td>M</td>\n",
       "      <td>entre 41 a 50 anos</td>\n",
       "      <td>76824322.0</td>\n",
       "      <td>0</td>\n",
       "    </tr>\n",
       "    <tr>\n",
       "      <th>3</th>\n",
       "      <td>Norte</td>\n",
       "      <td>RO</td>\n",
       "      <td>1</td>\n",
       "      <td>8.5996e+06</td>\n",
       "      <td>1</td>\n",
       "      <td>236</td>\n",
       "      <td>M</td>\n",
       "      <td>entre 31 a 40 anos</td>\n",
       "      <td>78932000.0</td>\n",
       "      <td>0</td>\n",
       "    </tr>\n",
       "    <tr>\n",
       "      <th>4</th>\n",
       "      <td>Norte</td>\n",
       "      <td>RO</td>\n",
       "      <td>1</td>\n",
       "      <td>6.1205e+06</td>\n",
       "      <td>1</td>\n",
       "      <td>187</td>\n",
       "      <td>M</td>\n",
       "      <td>entre 51 a 60 anos</td>\n",
       "      <td>78932000.0</td>\n",
       "      <td>1</td>\n",
       "    </tr>\n",
       "  </tbody>\n",
       "</table>\n",
       "</div>"
      ],
      "text/plain": [
       "  Regiao  UF  Tipo        CNAE  Atendida CodAssunto SexoConsumidor  \\\n",
       "0  Norte  RO     1  6.1205e+06         0        187              M   \n",
       "1  Norte  RO     1  6.4221e+06         0         53              F   \n",
       "2  Norte  RO     1   3.514e+06         0        185              M   \n",
       "3  Norte  RO     1  8.5996e+06         1        236              M   \n",
       "4  Norte  RO     1  6.1205e+06         1        187              M   \n",
       "\n",
       "          FaixaEtaria         CEP  InscritoDAU  \n",
       "0  entre 51 a 60 anos  76824042.0            1  \n",
       "1  entre 41 a 50 anos         NaN            1  \n",
       "2  entre 41 a 50 anos  76824322.0            0  \n",
       "3  entre 31 a 40 anos  78932000.0            0  \n",
       "4  entre 51 a 60 anos  78932000.0            1  "
      ]
     },
     "execution_count": 32,
     "metadata": {},
     "output_type": "execute_result"
    }
   ],
   "source": [
    "df.head()"
   ]
  },
  {
   "cell_type": "code",
   "execution_count": 33,
   "metadata": {},
   "outputs": [
    {
     "data": {
      "text/plain": [
       "entre 31 a 40 anos    3038\n",
       "entre 41 a 50 anos    2628\n",
       "entre 51 a 60 anos    2282\n",
       "entre 21 a 30 anos    2013\n",
       "entre 61 a 70 anos    1916\n",
       "Nao Informada         1132\n",
       "mais de 70 anos        866\n",
       "até 20 anos            254\n",
       "Name: FaixaEtaria, dtype: int64"
      ]
     },
     "execution_count": 33,
     "metadata": {},
     "output_type": "execute_result"
    }
   ],
   "source": [
    "df['FaixaEtaria'].value_counts()"
   ]
  },
  {
   "cell_type": "code",
   "execution_count": 34,
   "metadata": {},
   "outputs": [],
   "source": [
    " #7   FaixaEtaria     14297 non-null  object \n",
    "# transformamos em dicionário de categóricos para int\n",
    "dicionario_idade ={'até 20 anos' : 1, \n",
    "                   'entre 21 a 30 anos' : 2,\n",
    "                   'entre 31 a 40 anos': 3,\n",
    "                   'entre 41 a 50 anos': 4,\n",
    "                   'entre 51 a 60 anos': 5,\n",
    "                   'entre 61 a 70 anos': 6,\n",
    "                   'mais de 70 anos': 7\n",
    "                  }"
   ]
  },
  {
   "cell_type": "code",
   "execution_count": 35,
   "metadata": {},
   "outputs": [],
   "source": [
    "df['FaixaEtaria'] = df['FaixaEtaria'].map(dicionario_idade)"
   ]
  },
  {
   "cell_type": "code",
   "execution_count": 36,
   "metadata": {},
   "outputs": [
    {
     "data": {
      "text/plain": [
       "3.0    3038\n",
       "4.0    2628\n",
       "5.0    2282\n",
       "2.0    2013\n",
       "6.0    1916\n",
       "NaN    1132\n",
       "7.0     866\n",
       "1.0     254\n",
       "Name: FaixaEtaria, dtype: int64"
      ]
     },
     "execution_count": 36,
     "metadata": {},
     "output_type": "execute_result"
    }
   ],
   "source": [
    "df['FaixaEtaria'].value_counts(dropna = False)"
   ]
  },
  {
   "cell_type": "code",
   "execution_count": 37,
   "metadata": {},
   "outputs": [
    {
     "data": {
      "text/plain": [
       "1132"
      ]
     },
     "execution_count": 37,
     "metadata": {},
     "output_type": "execute_result"
    }
   ],
   "source": [
    "df['FaixaEtaria'].isna().sum()"
   ]
  },
  {
   "cell_type": "code",
   "execution_count": 38,
   "metadata": {},
   "outputs": [],
   "source": [
    "df = df.dropna(subset=['FaixaEtaria']).dropna(axis=1, how = 'all')"
   ]
  },
  {
   "cell_type": "code",
   "execution_count": 39,
   "metadata": {},
   "outputs": [
    {
     "data": {
      "text/plain": [
       "0"
      ]
     },
     "execution_count": 39,
     "metadata": {},
     "output_type": "execute_result"
    }
   ],
   "source": [
    "df['FaixaEtaria'].isna().sum()"
   ]
  },
  {
   "cell_type": "code",
   "execution_count": 40,
   "metadata": {},
   "outputs": [
    {
     "name": "stdout",
     "output_type": "stream",
     "text": [
      "<class 'pandas.core.frame.DataFrame'>\n",
      "Int64Index: 12997 entries, 0 to 16027\n",
      "Data columns (total 10 columns):\n",
      " #   Column          Non-Null Count  Dtype  \n",
      "---  ------          --------------  -----  \n",
      " 0   Regiao          12997 non-null  object \n",
      " 1   UF              12997 non-null  object \n",
      " 2   Tipo            12997 non-null  int64  \n",
      " 3   CNAE            12997 non-null  object \n",
      " 4   Atendida        12997 non-null  int8   \n",
      " 5   CodAssunto      12997 non-null  object \n",
      " 6   SexoConsumidor  12997 non-null  object \n",
      " 7   FaixaEtaria     12997 non-null  float64\n",
      " 8   CEP             10519 non-null  float64\n",
      " 9   InscritoDAU     12997 non-null  int8   \n",
      "dtypes: float64(2), int64(1), int8(2), object(5)\n",
      "memory usage: 939.2+ KB\n"
     ]
    }
   ],
   "source": [
    "df.info()"
   ]
  },
  {
   "cell_type": "code",
   "execution_count": 41,
   "metadata": {},
   "outputs": [],
   "source": [
    "df = df.astype({'FaixaEtaria': int})"
   ]
  },
  {
   "cell_type": "code",
   "execution_count": 42,
   "metadata": {},
   "outputs": [
    {
     "data": {
      "text/plain": [
       "(12997, 10)"
      ]
     },
     "execution_count": 42,
     "metadata": {},
     "output_type": "execute_result"
    }
   ],
   "source": [
    "df.shape"
   ]
  },
  {
   "cell_type": "code",
   "execution_count": 43,
   "metadata": {},
   "outputs": [],
   "source": [
    "# 8   CEP             10519 non-null  float64 - retiramos os nulos e trocamos para categórico\n",
    "df = df.dropna(subset=['CEP']).dropna(axis=1, how = 'all')\n",
    "df = df.astype({'CEP': object})"
   ]
  },
  {
   "cell_type": "code",
   "execution_count": 44,
   "metadata": {},
   "outputs": [
    {
     "data": {
      "text/plain": [
       "(10519, 10)"
      ]
     },
     "execution_count": 44,
     "metadata": {},
     "output_type": "execute_result"
    }
   ],
   "source": [
    "df.shape"
   ]
  },
  {
   "cell_type": "code",
   "execution_count": 45,
   "metadata": {},
   "outputs": [],
   "source": [
    "# #Antes de prosseguirmos, promoveremos ajustes no data frame.\n",
    "# Retiramos a coluna Tipo, pois, conforme acima, ela, agora, tem apenas um valor, \"1\". É coluna inútil neste momento.\n",
    "#tratardatasetAED.drop\n",
    "df.drop(columns=['Tipo'],inplace=True)"
   ]
  },
  {
   "cell_type": "code",
   "execution_count": 49,
   "metadata": {
    "scrolled": true
   },
   "outputs": [
    {
     "data": {
      "text/plain": [
       "(10519, 9)"
      ]
     },
     "execution_count": 49,
     "metadata": {},
     "output_type": "execute_result"
    }
   ],
   "source": [
    "df.shape"
   ]
  },
  {
   "cell_type": "code",
   "execution_count": 50,
   "metadata": {},
   "outputs": [
    {
     "name": "stdout",
     "output_type": "stream",
     "text": [
      "Regiao            0\n",
      "UF                0\n",
      "CNAE              0\n",
      "Atendida          0\n",
      "CodAssunto        0\n",
      "SexoConsumidor    0\n",
      "FaixaEtaria       0\n",
      "CEP               0\n",
      "InscritoDAU       0\n",
      "dtype: int64\n"
     ]
    }
   ],
   "source": [
    "# Conferindo se ainda há valores nulos\n",
    "print(df.isna().sum())"
   ]
  },
  {
   "cell_type": "code",
   "execution_count": 47,
   "metadata": {},
   "outputs": [],
   "source": [
    "#Exportando para ser trabalhando no notebook de AED\n",
    "df_aed = pd.read_csv(r'C:\\Users\\73594253368\\Desktop\\Curso\\Datasets\\Procon\\df_aed.csv')"
   ]
  },
  {
   "cell_type": "code",
   "execution_count": 48,
   "metadata": {},
   "outputs": [],
   "source": [
    "#Exportanto para ser trabalhado no notebook de ML\n",
    "df.to_csv(r'C:\\Users\\73594253368\\Desktop\\Curso\\Datasets\\Procon\\dataset_tratado.csv')"
   ]
  }
 ],
 "metadata": {
  "kernelspec": {
   "display_name": "Python 3",
   "language": "python",
   "name": "python3"
  },
  "language_info": {
   "codemirror_mode": {
    "name": "ipython",
    "version": 3
   },
   "file_extension": ".py",
   "mimetype": "text/x-python",
   "name": "python",
   "nbconvert_exporter": "python",
   "pygments_lexer": "ipython3",
   "version": "3.8.5"
  }
 },
 "nbformat": 4,
 "nbformat_minor": 4
}
